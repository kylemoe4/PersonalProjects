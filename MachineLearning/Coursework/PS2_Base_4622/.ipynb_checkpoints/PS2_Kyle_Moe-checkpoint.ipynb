{
 "cells": [
  {
   "cell_type": "markdown",
   "metadata": {},
   "source": [
    "# Problem Set 2 - Decision Trees, Model Selection, and Ensemble Methods\n",
    "## CSCI 4622 - Spring 2022\n",
    "***\n",
    "**Name**: Kyle Moe\n",
    "***\n",
    "\n",
    "This assignment is due on Canvas by **11:59PM on February 23rd**.\n",
    "\n",
    "Submit only this Jupyter notebook to Canvas with the name format `PS2_<yourname>.ipynb`. Do not compress it using tar, rar, zip, etc.\n",
    "Your solutions to analysis questions should be done in Markdown directly below the associated question.\n",
    "\n",
    "Remember that you are encouraged to discuss the problems with your classmates and instructors, \n",
    "but **you must write all code and solutions on your own**, and list any people or sources consulted.\n",
    "The only exception to this rule is that you may copy code directly from your own solution to homework 1.\n",
    "***"
   ]
  },
  {
   "cell_type": "markdown",
   "metadata": {
    "deletable": false,
    "editable": false,
    "nbgrader": {
     "cell_type": "markdown",
     "checksum": "a0c6d8e8d7f7dc1171c03c5dccc47a0c",
     "grade": false,
     "grade_id": "overview",
     "locked": true,
     "schema_version": 3,
     "solution": false,
     "task": false
    }
   },
   "source": [
    "## Overview \n",
    "\n",
    "Your task for this homework is to build a decision tree classifier from scratch. Of course, we provide some initial classes\n",
    "that you'll be editing. Since last two problems will use the scikit-learn's DecisionTreeClassifier, your solution\n",
    "does not have to be efficient as long as it passes the sanity checks in a reasonable time (typically less than ~1min).\n",
    "\n",
    "We will run a small comparison between our implementation and Scikit's in Problem 2 to make sure we didn't miss anything.\n",
    "\n",
    "The third part will introduce k-fold cross validation to find out how deep is the best decision tree classifier. The last problem\n",
    "requires a _weak learner_, so we'll use a decision tree that yields lower performance. But with _Ensemble Methods_, we will be able to improve the performance by aggregating predictions from multiple weak learners.\n",
    "For the ensemble methods, we'll explore bagging, Random Forest, and boosting (AdaBoost).\n",
    "\n",
    "Any Machine Learning interview will almost certainly have a question or two about decision trees and how they're trained.\n",
    "So understanding the code and trying to implement everything on your own will be the best way to prepare for such interviews.\n",
    "\n",
    "Also remember, if your code is correct then the sanity checks should pass without any major issue.\n",
    "But if the sanity checks pass that does not necessarily imply your code is 100% correct.\n",
    "\n",
    "Happy coding!"
   ]
  },
  {
   "cell_type": "code",
   "execution_count": 1,
   "metadata": {
    "deletable": false,
    "editable": false,
    "nbgrader": {
     "cell_type": "code",
     "checksum": "1b665692ac38f1b9fa4c6f3112b828d5",
     "grade": false,
     "grade_id": "imports_p1",
     "locked": true,
     "schema_version": 3,
     "solution": false,
     "task": false
    },
    "pycharm": {
     "name": "#%%\n"
    }
   },
   "outputs": [],
   "source": [
    "import numpy as np\n",
    "import matplotlib.pylab as plt\n",
    "import tests\n",
    "import data\n",
    "from sklearn.tree import DecisionTreeClassifier\n",
    "%matplotlib inline"
   ]
  },
  {
   "cell_type": "markdown",
   "metadata": {
    "deletable": false,
    "editable": false,
    "nbgrader": {
     "cell_type": "markdown",
     "checksum": "74f3a1c373fd347807123286cc8ab4ec",
     "grade": false,
     "grade_id": "datatable",
     "locked": true,
     "schema_version": 3,
     "solution": false,
     "task": false
    }
   },
   "source": [
    "### Problem 1 - Decision Trees [40 points]\n",
    "***\n",
    "The goal of this problem is to implement the core elements of the Decision Tree classifier.\n",
    "We do not expect a highly efficient implementation of the functions since the ensemble methods will\n",
    "use the implementation from scikit-learn.\n",
    "\n",
    "We'll be testing our implementation on the same dataset we used for Naive Bayes.\n",
    "\n",
    "|Age|Salary|Colorado Resident| Has Siblings | College degree|\n",
    "|:------:|:-----------:| :----------:| :----------:|--:|\n",
    "| 37 | 44,000 | Yes | No  | Yes|\n",
    "| 61 | 52,000 | Yes | No  | No |\n",
    "| 23 | 44,000 | No  | No  | Yes|\n",
    "| 39 | 38,000 | No  | Yes | Yes|\n",
    "| 48 | 49,000 | No  | No  | Yes|\n",
    "| 57 | 92,000 | No  | Yes | No |\n",
    "| 38 | 41,000 | No  | Yes | Yes|\n",
    "| 27 | 35,000 | Yes | No  | No |\n",
    "| 23 | 26,000 | Yes | No  | No |\n",
    "| 38 | 45,000 | No  | No  | No |\n",
    "| 32 | 50,000 | No  | No  | Yes|\n",
    "| 25 | 52,000 | Yes | No  | Yes|\n"
   ]
  },
  {
   "cell_type": "code",
   "execution_count": 2,
   "metadata": {
    "deletable": false,
    "editable": false,
    "nbgrader": {
     "cell_type": "code",
     "checksum": "1aee060e8d9457b3ed79edc1c7fa0725",
     "grade": false,
     "grade_id": "cell-77099ab2229fd7e9",
     "locked": true,
     "schema_version": 3,
     "solution": false,
     "task": false
    },
    "pycharm": {
     "name": "#%%\n"
    }
   },
   "outputs": [],
   "source": [
    "features = np.array([\n",
    "    [37, 44000, 1, 0],\n",
    "    [61, 52000, 1, 0],\n",
    "    [23, 44000, 0, 0],\n",
    "    [39, 38000, 0, 1],\n",
    "    [48, 49000, 0, 0],\n",
    "    [57, 92000, 0, 1],\n",
    "    [38, 41000, 0, 1],\n",
    "    [27, 35000, 1, 0],\n",
    "    [23, 26000, 1, 0],\n",
    "    [38, 45000, 0, 0],\n",
    "    [32, 50000, 0, 0],\n",
    "    [25, 52000, 1, 0]\n",
    "])\n",
    "labels = np.array([1, 0, 1, 1, 1, 0, 1, 0, 0, 0, 1, 1])"
   ]
  },
  {
   "cell_type": "markdown",
   "metadata": {
    "deletable": false,
    "editable": false,
    "nbgrader": {
     "cell_type": "markdown",
     "checksum": "d3be09e728edcd4e549c124d66a29eea",
     "grade": false,
     "grade_id": "q11_12",
     "locked": true,
     "schema_version": 3,
     "solution": false,
     "task": false
    },
    "pycharm": {
     "name": "#%% md\n"
    }
   },
   "source": [
    "Each leaf node (terminal node) in a decision tree has a label value assigned to it. The same label will be assigned\n",
    "to all samples that reach the leaf node.\n",
    "- 1.1 [2 pts] What is the best accuracy for a baseline classifier that predicts one label for all rows on the dataset above?\n",
    "which label should it predict?\n",
    "- 1.2 [5 pts] Complete `compute_label` to return the label that should be assigned to the leaf node based on training labels in `y`. If more than one label are possible, choose the one with the lowest value (e.g, if both `0` and `1` are possible, choose `0`)"
   ]
  },
  {
   "cell_type": "code",
   "execution_count": 3,
   "metadata": {},
   "outputs": [
    {
     "data": {
      "text/plain": [
       "(array([0, 1]), array([5, 7], dtype=int64))"
      ]
     },
     "execution_count": 3,
     "metadata": {},
     "output_type": "execute_result"
    }
   ],
   "source": [
    "np.unique(labels,return_counts=True)"
   ]
  },
  {
   "cell_type": "markdown",
   "metadata": {
    "deletable": false,
    "nbgrader": {
     "cell_type": "markdown",
     "checksum": "ece7cf4df488ac69fd5a2ae22baadcb5",
     "grade": true,
     "grade_id": "a11",
     "locked": false,
     "points": 2,
     "schema_version": 3,
     "solution": true,
     "task": false
    },
    "pycharm": {
     "name": "#%% md\n"
    }
   },
   "source": [
    "% Write-up for 1.1 <br>\n",
    "%BEGIN\n",
    "\n",
    "The above table has 12 rows, 7 of which have the label '1' for 'Yes' to having a college degree and 5 have the label '0' corresponding to 'No'. Thus, we achieve 7/12=58.3% accuracy if we classify all rows as '1'.\n",
    "\n",
    "%END"
   ]
  },
  {
   "cell_type": "code",
   "execution_count": 4,
   "metadata": {
    "deletable": false,
    "nbgrader": {
     "cell_type": "code",
     "checksum": "f62d0c179369de22fcec6007dc8ff453",
     "grade": true,
     "grade_id": "a12",
     "locked": false,
     "points": 5,
     "schema_version": 3,
     "solution": true,
     "task": false
    },
    "pycharm": {
     "name": "#%%\n"
    }
   },
   "outputs": [],
   "source": [
    "class LeafNode:\n",
    "    def __init__(self, y):\n",
    "        \"\"\"\n",
    "        :param y: 1-d array containing labels, of shape (num_points,)\n",
    "        \"\"\"\n",
    "        self.label = self.compute_label(y)\n",
    "\n",
    "    def __eq__(self, other):\n",
    "        return (type(self) == type(other)) and (self.label == other.label)\n",
    "\n",
    "    @staticmethod\n",
    "    def compute_label(y):\n",
    "        \"\"\"\n",
    "        return the label that yields best performance if predicted of all instances in y\n",
    "        :param y:  1-d array containing labels\n",
    "        :return: single label, integer\n",
    "        \"\"\"\n",
    "        node_label = None\n",
    "        #Workspace 1.2\n",
    "        #TODO: Return the label that should be assigned to the leaf node\n",
    "        #In case of multiple possible labels, choose the one with the lowest value\n",
    "        #Make no assumptions about the number of class labels\n",
    "        #BEGIN \n",
    "        unique = np.unique(y, return_counts=True)\n",
    "        node_label = unique[0][np.where(unique[1] == max(unique[1]))][:1]\n",
    "        #END\n",
    "        return node_label\n",
    "\n",
    "    def predict(self, x):\n",
    "        \"\"\"\n",
    "        return the label for one obervation x\n",
    "        :param x: one sample, of shape (num_features)\n",
    "        :return: label, integer\n",
    "        \"\"\"\n",
    "        return self.label"
   ]
  },
  {
   "cell_type": "code",
   "execution_count": 5,
   "metadata": {},
   "outputs": [
    {
     "name": "stdout",
     "output_type": "stream",
     "text": [
      "Question 1.2: [PASS]\n"
     ]
    }
   ],
   "source": [
    "# Test cell, uncomment to run the tests\n",
    "tests.test_leaf(LeafNode)"
   ]
  },
  {
   "cell_type": "markdown",
   "metadata": {
    "deletable": false,
    "editable": false,
    "nbgrader": {
     "cell_type": "markdown",
     "checksum": "267eb763503c9fe383d2745660faed29",
     "grade": false,
     "grade_id": "q13",
     "locked": true,
     "schema_version": 3,
     "solution": false,
     "task": false
    },
    "pycharm": {
     "name": "#%% md\n"
    }
   },
   "source": [
    "##### The tree also contains _parent nodes_. They can either be parents of: leaf nodes, parent nodes, or a combination of the two.\n",
    "Each parent node has a left and a right child. A parent node is used when we can reduce the impurity of the labels by splitting\n",
    "the training instances based on a certain threshold.\n",
    "\n",
    "First, we'll need to choose an impurity measure. For classification, there are two mainstream measures: _gini index_ and _entropy_. We'll be using the latter for our implementation.\n",
    "\n",
    "\\begin{align}\n",
    "\\text{Gini}(y) = 1 - \\sum_{c}  (p_c)^2 \\text{  and  Entropy}(y) = -\\sum_{c}  p_c . \\log p_c ,\n",
    "\\end{align}\n",
    "\n",
    "where $p_c$ is the probability of occurrence (ratio)  of class $c$ among the labels in $y$\n",
    "\n",
    "- 1.3 [5 pts] Complete the function `entropy` that returns the entropy measure of labels in `y`.\n",
    "\n",
    "_Hint: for the log function, use `np.log` and the convention `0 * log(0) = 0`. Make sure you handle multi-class labels (not just binary)._"
   ]
  },
  {
   "cell_type": "code",
   "execution_count": 6,
   "metadata": {
    "deletable": false,
    "nbgrader": {
     "cell_type": "code",
     "checksum": "b6928fb85ba1ce6f443e68613dce870c",
     "grade": true,
     "grade_id": "a13",
     "locked": false,
     "points": 5,
     "schema_version": 3,
     "solution": true,
     "task": false
    },
    "pycharm": {
     "name": "#%%\n"
    }
   },
   "outputs": [],
   "source": [
    "def entropy(y):\n",
    "    \"\"\"\n",
    "    :param y: 1-d array contains labels, of shape (num_points,)\n",
    "    :return: float, entropy measure of the labels\n",
    "    \"\"\"\n",
    "    entropy_value = 0\n",
    "    # Workspace 1.3\n",
    "    #TODO: Compute the entropy of the labels\n",
    "    #BEGIN \n",
    "    \n",
    "    size = len(y)\n",
    "    unique = np.unique(y, return_counts=True)\n",
    "    for i in unique[1]:\n",
    "        if not i == 0:\n",
    "            p = i/size\n",
    "            entropy_value += -(p)*np.log(p)\n",
    "    \n",
    "    \n",
    "    #END\n",
    "    return entropy_value"
   ]
  },
  {
   "cell_type": "code",
   "execution_count": 7,
   "metadata": {},
   "outputs": [
    {
     "name": "stdout",
     "output_type": "stream",
     "text": [
      "Question 1.3: [PASS]\n"
     ]
    }
   ],
   "source": [
    "# Test cell, uncomment to run the tests\n",
    "tests.test_entropy(entropy)"
   ]
  },
  {
   "cell_type": "markdown",
   "metadata": {
    "deletable": false,
    "editable": false,
    "nbgrader": {
     "cell_type": "markdown",
     "checksum": "1b019643aa64c03373356d0ccf6f4d12",
     "grade": false,
     "grade_id": "q14",
     "locked": true,
     "schema_version": 3,
     "solution": false,
     "task": false
    },
    "pycharm": {
     "name": "#%% md\n"
    }
   },
   "source": [
    "Now that we're at a parent node, we decide to partition our label instances in $S$ to two parts indexed by $P_1$ and $P_2$,\n",
    "and we want to compute how much this split reduces the impurity.\n",
    "\n",
    "Using the impurity measure $\\mathcal{M}$, this impurity reduction is computed as follows:\n",
    "\\begin{align}\n",
    "\\text{Reduction}(S, {P_1, P_2}) = \\mathcal{M}(S) - \\big[\n",
    "    \\frac{|P_1|}{|S|} .\\mathcal{M}(S[P_1]) + \\frac{|P_2|}{|S|}.\\mathcal{M}(S[P_2])\n",
    "    \\big],\n",
    "\\end{align}\n",
    "\n",
    "where $|A|$ denotes the size of the set $A$.\n",
    "\n",
    "The main questions will be based on the entropy measure, in which case the `Reduction` is also called _information gain_\n",
    "(reducing the entropy implies that the partitioning decision variable and the labels have a higher mutual information).\n",
    "\n",
    "-  1.4 [5 pts] Complete the `impurity_reduction` function to return the impurity reduction of the split using the provided measure."
   ]
  },
  {
   "cell_type": "code",
   "execution_count": 8,
   "metadata": {
    "deletable": false,
    "nbgrader": {
     "cell_type": "code",
     "checksum": "35bb9913b0764fe97e30e6fde5a0a0f6",
     "grade": true,
     "grade_id": "a14",
     "locked": false,
     "points": 5,
     "schema_version": 3,
     "solution": true,
     "task": false
    },
    "pycharm": {
     "name": "#%%\n"
    }
   },
   "outputs": [],
   "source": [
    "def impurity_reduction(y, left_indices, right_indices, impurity_measure=entropy):\n",
    "    \"\"\"\n",
    "    :param y: all labels\n",
    "    :param left_indices: the indices of the elements of y that belong to the left child\n",
    "    :param right_indices: the indices of the elements of y that belong to the right child\n",
    "    :param impurity_measure: function that takes 1d-array of labels and returns the impurity measure, defaults to entropy\n",
    "    :return: impurity reduction of the split\n",
    "    \"\"\"\n",
    "    impurity_reduce = 0\n",
    "    # Workspace 1.4\n",
    "    #BEGIN \n",
    "    \n",
    "    y_meas = impurity_measure(y)\n",
    "    \n",
    "    left = [y[i] for i in left_indices]\n",
    "    right = [y[i] for i in right_indices]\n",
    "    left_meas = impurity_measure(left)\n",
    "    right_meas = impurity_measure(right)\n",
    "    \n",
    "    reduction = (len(left_indices)/len(y))*left_meas+(len(right_indices)/len(y))*right_meas\n",
    "    \n",
    "    impurity_reduce = y_meas-reduction\n",
    "    \n",
    "    #END\n",
    "    return impurity_reduce"
   ]
  },
  {
   "cell_type": "code",
   "execution_count": 9,
   "metadata": {},
   "outputs": [
    {
     "name": "stdout",
     "output_type": "stream",
     "text": [
      "Question 1.4: [PASS]\n"
     ]
    }
   ],
   "source": [
    "# Test cell, uncomment to run the tests\n",
    "tests.test_information_gain(impurity_reduction, entropy)"
   ]
  },
  {
   "cell_type": "markdown",
   "metadata": {
    "deletable": false,
    "editable": false,
    "nbgrader": {
     "cell_type": "markdown",
     "checksum": "1b3c16847773c2a17c5f7f96a057dece",
     "grade": false,
     "grade_id": "q15",
     "locked": true,
     "schema_version": 3,
     "solution": false,
     "task": false
    },
    "pycharm": {
     "name": "#%% md\n"
    }
   },
   "source": [
    "We'll use `best_partition` to look up for the feature and threshold that yields the partition with the best impurity reduction.\n",
    "\n",
    "For each feature:\n",
    " - Compute all possible thresholds (use `split_values`)\n",
    " - For each threshold:\n",
    "    - Split to `(left_indices, right_indices)` based on the threshold\n",
    "    - Compute the impurity reduction of the split\n",
    "\n",
    "The function then returns the feature and the threshold that yield the best impurity reduction (and the reduction value)\n",
    "\n",
    " - 1.5 [7 pts] Complete `best_partition`.\n",
    " \n",
    " _Hint: `split_values` is provided as a helper function. It takes the feature column and returns\n",
    "the set of thresholds_"
   ]
  },
  {
   "cell_type": "code",
   "execution_count": 10,
   "metadata": {
    "deletable": false,
    "nbgrader": {
     "cell_type": "code",
     "checksum": "9885dfd2c0e096009f94210889f8bd3e",
     "grade": true,
     "grade_id": "a15",
     "locked": false,
     "points": 7,
     "schema_version": 3,
     "solution": true,
     "task": false
    },
    "pycharm": {
     "name": "#%%\n"
    }
   },
   "outputs": [],
   "source": [
    "def split_values(feature_values):\n",
    "    \"\"\"\n",
    "    Helper function to return the split values. if feature consists of the values f1 < f2 < f3 then\n",
    "    this returns [(f2 + f1)/2, (f3 + f2)/2]\n",
    "    :param feature_values: 1-d array of shape (num_points)\n",
    "    :return: array of shape (max(m-1, 1),) where m is the number of unique values in feature_values\n",
    "    \"\"\"\n",
    "    unique_values = np.unique(feature_values)\n",
    "    if unique_values.shape[0] == 1:\n",
    "        return unique_values\n",
    "    return (unique_values[1:] + unique_values[:-1]) / 2\n",
    "\n",
    "\n",
    "def best_partition(X, y, impurity_measure=entropy):\n",
    "    \"\"\"\n",
    "    :param X: features array, shape (num_samples, num_features)\n",
    "    :param y: labels of instances in X, shape (num_samples)\n",
    "    :param impurity_measure: function that takes 1d-array of labels and returns the impurity measure\n",
    "    :return: Return the best value and its corresponding threshold by splitting based on the different features.\n",
    "    \"\"\"\n",
    "\n",
    "    best_feature, best_threshold, best_reduction = 0, 0, -np.inf\n",
    "\n",
    "    #Workspace 1.5\n",
    "    #TODO: Complete the function as detailed in the question and return description\n",
    "    #BEGIN \n",
    "    \n",
    "    columns = []\n",
    "    for i in range(len(X[0])):\n",
    "        columns.append([])\n",
    "    for i in X:\n",
    "        for j in range(len(i)):\n",
    "            columns[j].append(i[j])\n",
    "    \n",
    "    best_thresh_ind = [0 for x in range(len(columns))]\n",
    "    thresholds = []\n",
    "    reductions = [0 for x in range(len(columns))]\n",
    "    for c in range(len(columns)):\n",
    "        thresholds.append(split_values(columns[c]))\n",
    "        for s in range(len(thresholds[c])):\n",
    "            left = [x for x in range(len(columns[c])) if columns[c][x] < thresholds[c][s]]\n",
    "            right = [x for x in range(len(columns[c])) if columns[c][x] >= thresholds[c][s]]\n",
    "            imp_red = impurity_reduction(y, left, right)\n",
    "            if reductions[c] < imp_red:\n",
    "                reductions[c] = imp_red\n",
    "                best_thresh_ind[c] = s\n",
    "            \n",
    "    best_reduction = max(reductions)\n",
    "    best_threshold = thresholds[reductions.index(best_reduction)][best_thresh_ind[reductions.index(best_reduction)]]\n",
    "    best_feature = reductions.index(best_reduction)\n",
    "    return best_feature, best_threshold, best_reduction"
   ]
  },
  {
   "cell_type": "code",
   "execution_count": 11,
   "metadata": {},
   "outputs": [
    {
     "name": "stdout",
     "output_type": "stream",
     "text": [
      "Question 1.5: [PASS]\n"
     ]
    }
   ],
   "source": [
    "# Test cell, uncomment to run the tests\n",
    "# If you chose to not use split_values, then this test will likely fail\n",
    "tests.test_best_partition(best_partition, entropy)"
   ]
  },
  {
   "cell_type": "markdown",
   "metadata": {
    "deletable": false,
    "editable": false,
    "nbgrader": {
     "cell_type": "markdown",
     "checksum": "62c52953bd532bb6a14a4ed3b1dc2de6",
     "grade": false,
     "grade_id": "parent_intro",
     "locked": true,
     "schema_version": 3,
     "solution": false,
     "task": false
    },
    "pycharm": {
     "name": "#%% md\n"
    }
   },
   "source": [
    "We provide the implementation of the parent node below. Note that the `left_child` will take instance for which\n",
    "`feature_id` value is < `feature_threshold`. We should construct our decision tree as such."
   ]
  },
  {
   "cell_type": "code",
   "execution_count": 12,
   "metadata": {
    "pycharm": {
     "name": "#%%\n"
    }
   },
   "outputs": [],
   "source": [
    "class ParentNode:\n",
    "\n",
    "    def __init__(self, feature_id, feature_threshold, left_child, right_child):\n",
    "        \"\"\"\n",
    "        Initialize a parent node.\n",
    "        :param feature_id: the feature index on which the splitting will be done\n",
    "        :param feature_threshold: the feature threshold. Left child takes item with features[features_id] < threshold\n",
    "        :param left_child: left child node\n",
    "        :param right_child: right child node\n",
    "        \"\"\"\n",
    "        self.feature_id = feature_id\n",
    "        self.threshold = feature_threshold\n",
    "        self.left_child = left_child\n",
    "        self.right_child = right_child\n",
    "\n",
    "    def predict(self, x):\n",
    "        \"\"\"\n",
    "        Predict the label of row x. If we're a leaf node, return the value of the leaf. Otherwise, call predict\n",
    "        of the left/right child (depending on x[feature_index).\n",
    "        This will be called by DecisionTree.predict\n",
    "        :param x: 1-d array of shape (num_features)\n",
    "        :return: integer, the label for x\n",
    "        \"\"\"\n",
    "        if x[self.feature_id] < self.threshold:\n",
    "            label = self.left_child.predict(x)\n",
    "        else:\n",
    "            label = self.right_child.predict(x)\n",
    "        return label"
   ]
  },
  {
   "cell_type": "markdown",
   "metadata": {
    "deletable": false,
    "editable": false,
    "nbgrader": {
     "cell_type": "markdown",
     "checksum": "8977aac3ac2162c986ea0f2e77d5e233",
     "grade": false,
     "grade_id": "q16_17",
     "locked": true,
     "schema_version": 3,
     "solution": false,
     "task": false
    },
    "pycharm": {
     "name": "#%% md\n"
    }
   },
   "source": [
    "Now we tackle the core of a decision tree. The tree is built in a recursive way. The recursion in `DecisionTree.build` works as follows:\n",
    "- Parameters: `min_samples_split`, `impurity_measure`\n",
    "- Inputs: `features`, `labels`, `depth`\n",
    "- Base case of the recursion, return a leaf node if either:\n",
    "    - `depth` is 0\n",
    "    - `labels` contains less than `min_samples_split` elements\n",
    "    - There is no impurity reduction (reduction<=0 for all splits)\n",
    "- Recursion (there is a split with impurity reduction > 0):\n",
    "    - create the left and right child nodes with `depth - 1`\n",
    "    - return the parent node\n",
    "\n",
    "The left child node will contain instances for which the feature with index `best_feature` is strictly lower than\n",
    "`best_threshold` of the partition. The right child takes the remaining instances.\n",
    "\n",
    "- 1.6 [8 pts] Complete `build` method of `DecisionTree`\n",
    "- 1.7 [2 pts] Complete the `score` method that returns the accuracy on the given data"
   ]
  },
  {
   "cell_type": "code",
   "execution_count": 13,
   "metadata": {
    "deletable": false,
    "nbgrader": {
     "cell_type": "code",
     "checksum": "ef5b665f05e3dd92b435c4b70d2872b0",
     "grade": true,
     "grade_id": "a16_17",
     "locked": false,
     "points": 10,
     "schema_version": 3,
     "solution": true,
     "task": false
    },
    "pycharm": {
     "name": "#%%\n"
    }
   },
   "outputs": [],
   "source": [
    "class DecisionTree:\n",
    "\n",
    "    def __init__(self, max_depth=-1, min_samples_split=2, impurity_measure=entropy):\n",
    "        \"\"\"\n",
    "        Initialize the decision tree\n",
    "        :param max_depth: maximum depth of the tree\n",
    "        :param min_samples_split: minimum number of samples required for a split\n",
    "        :param impurity_measure: impurity measure function to use for best_partition, default to entropy\n",
    "        \"\"\"\n",
    "        self.max_depth = max_depth\n",
    "        self.min_samples_split = min_samples_split\n",
    "        self.impurity_measure = impurity_measure\n",
    "        self.root = None\n",
    "        self.num_features = None\n",
    "\n",
    "    def build(self, X, y, depth):\n",
    "        \"\"\"\n",
    "        Recursive method used to build the decision tree nodes\n",
    "        :param X: data that are used to build the tree, of shape (num_samples, num_features)\n",
    "        :param y: labels of the samples in features, of shape (num_samples)\n",
    "        :param depth: depth of the tree to create\n",
    "        :return: the root node of the tree\n",
    "        \"\"\"\n",
    "       \n",
    "       \n",
    "        if depth == 0 or len(y) < self.min_samples_split:\n",
    "            # we reached the maximum depth or we don't have more than the minimum number of samples in the leaf\n",
    "            return LeafNode(y)\n",
    "        else:\n",
    "            # Get the feature, threshold and information_gain of the best split\n",
    "            feature_id, threshold, gain = best_partition(X, y, self.impurity_measure)\n",
    "            # gain = 0 occurs when the labels have the same distribution in the child nodes\n",
    "            # which means that the entropy of the children is the same as the parent's\n",
    "            if gain > 0:\n",
    "                # Workspace 1.6\n",
    "                # TODO: create the left and right child nodes with depth - 1, return the parent node\n",
    "                #BEGIN \n",
    "                \n",
    "                leftX = []\n",
    "                rightX = []\n",
    "                lefty = []\n",
    "                righty = []\n",
    "                for i in range(len(X)):\n",
    "                    if X[i][feature_id] < threshold:\n",
    "                        leftX.append(X[i])\n",
    "                        lefty.append(y[i])\n",
    "                    else:\n",
    "                        rightX.append(X[i])\n",
    "                        righty.append(y[i])\n",
    "                \n",
    "                left_child = self.build(leftX, lefty, depth-1)\n",
    "                right_child = self.build(rightX, righty, depth-1)\n",
    "                \n",
    "                return ParentNode(feature_id, threshold, left_child, right_child)\n",
    "                \n",
    "                #END\n",
    "            else:\n",
    "                # We reach here if information_gain <= 0\n",
    "                return LeafNode(y)\n",
    "\n",
    "\n",
    "    def fit(self, X, y):\n",
    "        \"\"\"\n",
    "        :param X: Training samples\n",
    "        :param y: training labels\n",
    "        :return: trained classifier\n",
    "        \"\"\"\n",
    "        self.num_features = X.shape[1]\n",
    "        self.root = self.build(X, y, self.max_depth)\n",
    "        return self\n",
    "\n",
    "    def predict(self, X):\n",
    "        \"\"\"\n",
    "        Loops through rows of X and predicts the labels one row at a time\n",
    "        \"\"\"\n",
    "        y_hat = np.zeros((X.shape[0],),int)\n",
    "        for i in range(X.shape[0]):\n",
    "            y_hat[i] = self.root.predict(X[i])\n",
    "       \n",
    "        return y_hat\n",
    "\n",
    "    def score(self, X, y):\n",
    "        \"\"\"\n",
    "        Return the mean accuracy on the given test data and labels.\n",
    "        :param X: Test samples, shape (num_points, num_features)\n",
    "        :param y: true labels for X, shape (num_points,)\n",
    "        :return: mean accuracy\n",
    "        \"\"\"\n",
    "        accuracy = 0\n",
    "        # Workspace 1.7\n",
    "        #BEGIN \n",
    "        \n",
    "        pred_y = self.predict(X)\n",
    "        \n",
    "        correct = 0\n",
    "        for i in range(len(pred_y)):\n",
    "            if pred_y[i] == y[i]:\n",
    "                correct += 1\n",
    "        accuracy = correct/len(pred_y)\n",
    "        #END\n",
    "        return accuracy"
   ]
  },
  {
   "cell_type": "code",
   "execution_count": 14,
   "metadata": {
    "pycharm": {
     "name": "#%%\n"
    }
   },
   "outputs": [
    {
     "name": "stdout",
     "output_type": "stream",
     "text": [
      "Question 1.6: [PASS]\n"
     ]
    }
   ],
   "source": [
    "# Test cell, uncomment to run the tests\n",
    "# If you chose to not use split_values, then this test will likely fail\n",
    "tests.test_tree_build(DecisionTree, entropy)"
   ]
  },
  {
   "cell_type": "markdown",
   "metadata": {
    "deletable": false,
    "editable": false,
    "nbgrader": {
     "cell_type": "markdown",
     "checksum": "bd5a3c587c8ec35f8f9c702f84d29933",
     "grade": false,
     "grade_id": "q18",
     "locked": true,
     "schema_version": 3,
     "solution": false,
     "task": false
    }
   },
   "source": [
    "- 1.8 [2 pts] We want to compare our `DecisionTree(max_depth=3, min_samples_split=2` to our NaiveBayes.\n",
    "What's the accuracy we achieve on the training data using the tree? ( we train and evaluate using `(features, labels)`)"
   ]
  },
  {
   "cell_type": "code",
   "execution_count": 15,
   "metadata": {
    "deletable": false,
    "nbgrader": {
     "cell_type": "code",
     "checksum": "4015467f2f89548d668cbd7393e9a4cf",
     "grade": true,
     "grade_id": "a18",
     "locked": false,
     "points": 2,
     "schema_version": 3,
     "solution": true,
     "task": false
    },
    "pycharm": {
     "name": "#%%\n"
    }
   },
   "outputs": [
    {
     "name": "stdout",
     "output_type": "stream",
     "text": [
      "1.0\n"
     ]
    }
   ],
   "source": [
    "# Workspace 1.8\n",
    "#BEGIN \n",
    "\n",
    "tree = DecisionTree().fit(features, labels)\n",
    "print(tree.score(features, labels))\n",
    "\n",
    "#END"
   ]
  },
  {
   "cell_type": "markdown",
   "metadata": {
    "deletable": false,
    "editable": false,
    "nbgrader": {
     "cell_type": "markdown",
     "checksum": "38756b9794ee2734fba840eeca4da2ab",
     "grade": false,
     "grade_id": "q19",
     "locked": true,
     "schema_version": 3,
     "solution": false,
     "task": false
    },
    "pycharm": {
     "name": "#%% md\n"
    }
   },
   "source": [
    "- 1.9 [2 pts] Using `min_samples_split=2`, what is the minimum depth so that our `DecisionTree` fits perfectly our\n",
    "training data `(labels, features)`."
   ]
  },
  {
   "cell_type": "code",
   "execution_count": 16,
   "metadata": {
    "deletable": false,
    "nbgrader": {
     "cell_type": "code",
     "checksum": "a67bc7261215441b222be45948125d92",
     "grade": true,
     "grade_id": "a19",
     "locked": false,
     "points": 2,
     "schema_version": 3,
     "solution": true,
     "task": false
    },
    "pycharm": {
     "name": "#%%\n"
    }
   },
   "outputs": [
    {
     "name": "stdout",
     "output_type": "stream",
     "text": [
      "max_depth=0 accuracy of 0.5833333333333334\n",
      "max_depth=1 accuracy of 0.75\n",
      "max_depth=2 accuracy of 0.9166666666666666\n",
      "max_depth=3 accuracy of 0.9166666666666666\n",
      "max_depth=4 accuracy of 0.9166666666666666\n",
      "max_depth=5 accuracy of 1.0\n",
      "max_depth=6 accuracy of 1.0\n",
      "max_depth=7 accuracy of 1.0\n",
      "max_depth=8 accuracy of 1.0\n",
      "max_depth=9 accuracy of 1.0\n"
     ]
    }
   ],
   "source": [
    "# Workspace 1.9\n",
    "# To show that the minimum required depth is n, you can provide the accuracy for depth = (n-1) and depth = n\n",
    "#BEGIN \n",
    "\n",
    "for i in range(10):\n",
    "    tree = DecisionTree(max_depth=i, min_samples_split=2).fit(features, labels)\n",
    "    print(\"max_depth=\"+str(i) + \" accuracy of \" + str(tree.score(features, labels)))\n",
    "\n",
    "#END"
   ]
  },
  {
   "cell_type": "markdown",
   "metadata": {
    "deletable": false,
    "editable": false,
    "nbgrader": {
     "cell_type": "markdown",
     "checksum": "b58a4d2d50a836f50348c8b3344dddb5",
     "grade": false,
     "grade_id": "q110",
     "locked": true,
     "schema_version": 3,
     "solution": false,
     "task": false
    },
    "pycharm": {
     "name": "#%% md\n"
    }
   },
   "source": [
    "We provide an example below to display the structure of a decision tree.\n",
    "- 1.10 (2pts) Edit it to show the tree for the required minimum depth found in 1.8"
   ]
  },
  {
   "cell_type": "code",
   "execution_count": 17,
   "metadata": {
    "deletable": false,
    "nbgrader": {
     "cell_type": "code",
     "checksum": "d30ddb7d50cc5b1bed552b1e0dd66de7",
     "grade": true,
     "grade_id": "a110",
     "locked": false,
     "points": 2,
     "schema_version": 3,
     "solution": true,
     "task": false
    },
    "pycharm": {
     "name": "#%%\n"
    }
   },
   "outputs": [
    {
     "name": "stdout",
     "output_type": "stream",
     "text": [
      "                  ┌│label: 0\n",
      "       ┌|salary  │┘\n",
      "       │|36500.00│┐\n",
      "       │          │       ┌│label: 1\n",
      "       │          └|age  │┘\n",
      "       │           |37.50│┐\n",
      "       │                  │                  ┌│label: 1\n",
      "       │                  │       ┌|salary  │┘\n",
      "       │                  │       │|43000.00│┐\n",
      "       │                  │       │          └│label: 0\n",
      "       │                  └|age  │┘\n",
      "       │                   |38.50│┐\n",
      "       │                          └│label: 1\n",
      "|age  │┘\n",
      "|52.50│┐\n",
      "       └│label: 0\n"
     ]
    }
   ],
   "source": [
    "tree = DecisionTree(max_depth=5, min_samples_split=2).fit(features, labels)\n",
    "tests.print_tree(tree, [\"age\", \"salary\", \"resident\", \"siblings\"])"
   ]
  },
  {
   "cell_type": "markdown",
   "metadata": {
    "deletable": false,
    "editable": false,
    "nbgrader": {
     "cell_type": "markdown",
     "checksum": "d7b2db68e19a7487511c33d751fd47e2",
     "grade": false,
     "grade_id": "q21",
     "locked": true,
     "schema_version": 3,
     "solution": false,
     "task": false
    },
    "pycharm": {
     "name": "#%% md\n"
    }
   },
   "source": [
    "### Problem 2: DecisionTree vs DecisionTreeClassifier [6 points]\n",
    "\n",
    "We've just showed that our decision tree is better than the naive NaiveBayes! Let see how it compares to scikit's DecisionTreeClassifier.\n",
    "\n",
    "First, we'll need a fancier dataset. We are going to predict house price levels using the decision trees.\n",
    "\n",
    "We start by loading preprocessed data that we'll use. Since the original House Prices  [dataset](https://www.kaggle.com/c/house-prices-advanced-regression-techniques/data)\n",
    " is for regression, we have to transform `HousePrices.y_train` and `HousePrices.y_test` to discrete values reflecting price level.\n",
    "\n",
    "|Price range| Label|\n",
    "|:----------:|--:|\n",
    "| $ P < $125000|0|\n",
    "|125000$\\leq P < $ 160000| 1 |\n",
    "|160000$ \\leq P < $ 200000| 2 |\n",
    "|200000$ \\leq P $ | 3 |\n",
    "\n",
    "- 2.1 [3 pts] Start by transforming `y_train` and `y_test` of `house_prices` to discrete values using the provided ranges"
   ]
  },
  {
   "cell_type": "code",
   "execution_count": 18,
   "metadata": {
    "deletable": false,
    "nbgrader": {
     "cell_type": "code",
     "checksum": "34b73ed8c789e00b4122cfde97fd5fb8",
     "grade": true,
     "grade_id": "a21",
     "locked": false,
     "points": 3,
     "schema_version": 3,
     "solution": true,
     "task": false
    },
    "pycharm": {
     "name": "#%%\n"
    }
   },
   "outputs": [
    {
     "name": "stdout",
     "output_type": "stream",
     "text": [
      "[0 1 2 3] (1166, 79)\n",
      "[0 1 2 3] (292, 79)\n"
     ]
    }
   ],
   "source": [
    "house_prices = data.HousePrices()\n",
    "#Workspace 2.1\n",
    "#TODO: Discretize y_train and y_test\n",
    "#BEGIN \n",
    "\n",
    "for i in range(len(house_prices.y_train)):\n",
    "    if house_prices.y_train[i] < 125000:\n",
    "        house_prices.y_train[i] = 0\n",
    "    elif house_prices.y_train[i] < 160000:\n",
    "        house_prices.y_train[i] = 1\n",
    "    elif house_prices.y_train[i] < 200000:\n",
    "        house_prices.y_train[i] = 2\n",
    "    else:\n",
    "        house_prices.y_train[i] = 3\n",
    "for i in range(len(house_prices.y_test)):\n",
    "    if house_prices.y_test[i] < 125000:\n",
    "        house_prices.y_test[i] = 0\n",
    "    elif house_prices.y_test[i] < 160000:\n",
    "        house_prices.y_test[i] = 1\n",
    "    elif house_prices.y_test[i] < 200000:\n",
    "        house_prices.y_test[i] = 2\n",
    "    else:\n",
    "        house_prices.y_test[i] = 3\n",
    "\n",
    "#END\n",
    "print(np.unique(house_prices.y_train), house_prices.X_train.shape)\n",
    "print(np.unique(house_prices.y_test), house_prices.X_test.shape)"
   ]
  },
  {
   "cell_type": "markdown",
   "metadata": {
    "deletable": false,
    "editable": false,
    "nbgrader": {
     "cell_type": "markdown",
     "checksum": "5e57a0d568601251c203ac3cb20ab993",
     "grade": false,
     "grade_id": "q22",
     "locked": true,
     "schema_version": 3,
     "solution": false,
     "task": false
    },
    "pycharm": {
     "name": "#%% md\n"
    }
   },
   "source": [
    "- 2.2 [3 pts] Compare our `DecisionTree` and scikit's `DecisionTreeClassifier` on the house prices dataset by reporting the accuracies on the test data.\n",
    "\n",
    " [scikit's `DecisionTreeClassifier`](https://scikit-learn.org/stable/modules/generated/sklearn.tree.DecisionTreeClassifier.html)\n",
    "uses Gini index by default and only splits based on random subset of features (set `max_features` to None to use all features),\n",
    "so refer to the documentation to change the impurity measure to entropy.\n",
    "\n",
    "Use `max_depth = 5, min_samples_split=2` for the comparison."
   ]
  },
  {
   "cell_type": "code",
   "execution_count": 19,
   "metadata": {
    "deletable": false,
    "nbgrader": {
     "cell_type": "code",
     "checksum": "e54fe111567d3f735838e8f83a8b9973",
     "grade": true,
     "grade_id": "a22",
     "locked": false,
     "points": 3,
     "schema_version": 3,
     "solution": true,
     "task": false
    },
    "pycharm": {
     "name": "#%%\n"
    }
   },
   "outputs": [
    {
     "name": "stdout",
     "output_type": "stream",
     "text": [
      "DecisionTree accuracy is: 0.7123287671232876\n",
      "DecisionTreeClassifier accuracy is: 0.7123287671232876\n"
     ]
    }
   ],
   "source": [
    "# Workspace 2.2\n",
    "#BEGIN \n",
    "\n",
    "ourtree = DecisionTree(max_depth = 5, min_samples_split=2).fit(house_prices.X_train,house_prices.y_train)\n",
    "dtc = DecisionTreeClassifier(criterion=\"entropy\", max_depth = 5, min_samples_split=2, max_features=None).fit(house_prices.X_train,house_prices.y_train)\n",
    "\n",
    "print(\"DecisionTree accuracy is: \" + str(ourtree.score(house_prices.X_test,house_prices.y_test)))\n",
    "print(\"DecisionTreeClassifier accuracy is: \" + str(dtc.score(house_prices.X_test,house_prices.y_test)))\n",
    "#END"
   ]
  },
  {
   "cell_type": "markdown",
   "metadata": {
    "deletable": false,
    "editable": false,
    "nbgrader": {
     "cell_type": "markdown",
     "checksum": "4933229771d9f7671d8df0278af7b4d9",
     "grade": false,
     "grade_id": "q23",
     "locked": true,
     "schema_version": 3,
     "solution": false,
     "task": false
    },
    "pycharm": {
     "name": "#%% md\n"
    }
   },
   "source": [
    "#### Bonus questions\n",
    "We've implemented `DecisionTree` to handle different measures of impurity. We want now to compare our implementation\n",
    "to the standard `DecisionTreeClassifier` using Gini index.\n",
    "- **(Bonus)** 2.3  [2 pts] Complete `gini` function"
   ]
  },
  {
   "cell_type": "code",
   "execution_count": 20,
   "metadata": {
    "deletable": false,
    "nbgrader": {
     "cell_type": "code",
     "checksum": "92aa01c6f3d2afe8836b3640df37cac2",
     "grade": true,
     "grade_id": "a23",
     "locked": false,
     "points": 0,
     "schema_version": 3,
     "solution": true,
     "task": false
    },
    "pycharm": {
     "name": "#%%\n"
    }
   },
   "outputs": [],
   "source": [
    "def gini(y):\n",
    "    \"\"\"\n",
    "    :param y: 1-d array contains labels, of shape (num_points,)\n",
    "    :return: float, gini index the labels\n",
    "    \"\"\"\n",
    "    gini_index = 0\n",
    "    # Workspace 2.3\n",
    "    #TODO: Compute the gini index of the labels in y\n",
    "    #BEGIN \n",
    "    \n",
    "    reduction = 0\n",
    "    size = len(y)\n",
    "    unique = np.unique(y, return_counts=True)\n",
    "    for i in unique[1]:\n",
    "        if not i == 0:\n",
    "            p = i/size\n",
    "            reduction += p**2\n",
    "    gini_index = 1-reduction\n",
    "    \n",
    "    #END\n",
    "    \n",
    "    return gini_index"
   ]
  },
  {
   "cell_type": "markdown",
   "metadata": {
    "deletable": false,
    "editable": false,
    "nbgrader": {
     "cell_type": "markdown",
     "checksum": "ffce63649e045f7c29ed520d1f57aa4f",
     "grade": false,
     "grade_id": "q24",
     "locked": true,
     "schema_version": 3,
     "solution": false,
     "task": false
    },
    "pycharm": {
     "name": "#%% md\n"
    }
   },
   "source": [
    "- **(Bonus)** 2.4 [2 pts] Perform the same comparison as in 2.2 with gini index but without setting `max_features` to `None`. How do you explain the result?"
   ]
  },
  {
   "cell_type": "code",
   "execution_count": 21,
   "metadata": {
    "deletable": false,
    "nbgrader": {
     "cell_type": "code",
     "checksum": "5d9411484d9bac971d2b86f534f236f9",
     "grade": true,
     "grade_id": "a24a",
     "locked": false,
     "points": 0,
     "schema_version": 3,
     "solution": true,
     "task": false
    },
    "pycharm": {
     "name": "#%%\n"
    }
   },
   "outputs": [
    {
     "name": "stdout",
     "output_type": "stream",
     "text": [
      "DecisionTree accuracy is: 0.7123287671232876\n",
      "DecisionTreeClassifier accuracy is: 0.6917808219178082\n"
     ]
    }
   ],
   "source": [
    "np.random.seed(2) # to fix the randomness in DecisionTreeClassifier\n",
    "# Workspace 2.4.a\n",
    "#BEGIN \n",
    "ourtree = DecisionTree(max_depth = 5, min_samples_split=2, impurity_measure=gini).fit(house_prices.X_train,house_prices.y_train)\n",
    "dtc = DecisionTreeClassifier(criterion=\"gini\", max_depth = 5, min_samples_split=2).fit(house_prices.X_train,house_prices.y_train)\n",
    "\n",
    "print(\"DecisionTree accuracy is: \" + str(ourtree.score(house_prices.X_test,house_prices.y_test)))\n",
    "print(\"DecisionTreeClassifier accuracy is: \" + str(dtc.score(house_prices.X_test,house_prices.y_test)))\n",
    "#END"
   ]
  },
  {
   "cell_type": "markdown",
   "metadata": {
    "deletable": false,
    "nbgrader": {
     "cell_type": "markdown",
     "checksum": "abd5ea13f0b1340ddf14936399ebedf0",
     "grade": true,
     "grade_id": "a24b",
     "locked": false,
     "points": 0,
     "schema_version": 3,
     "solution": true,
     "task": false
    },
    "pycharm": {
     "name": "#%% md\n"
    }
   },
   "source": [
    "##### Write-up for 2.4.b\n",
    "%BEGIN\n",
    "\n",
    "% YOUR ANSWER HERE\n",
    "\n",
    "%END\n"
   ]
  },
  {
   "cell_type": "markdown",
   "metadata": {
    "deletable": false,
    "editable": false,
    "nbgrader": {
     "cell_type": "markdown",
     "checksum": "40d5a888077f8ddbea944ef605b69a3f",
     "grade": false,
     "grade_id": "q31",
     "locked": true,
     "schema_version": 3,
     "solution": false,
     "task": false
    },
    "pycharm": {
     "name": "#%% md\n"
    }
   },
   "source": [
    "### Problem 3 - Model Selection via Cross Validation [16 points]\n",
    "***\n",
    "In this problem, we will be working with scikit-learn `DecisionTreeClassifier`. We want to figure out the best `max_depth` for our dataset.\n",
    "\n",
    "In the house prices dataset, we only have a training set and a test set. The question then is how do we perform the model selection seen in Problem Set 1?\n",
    "\n",
    "One way to do so is via **the cross validation set approach** which basically means setting aside a portion of our training data to use as a validation set.\n",
    "The goal is to use the validation set to find the best hyperparameters for our model (`max_depth` in the case of decision trees).\n",
    "\n",
    "- 3.1 [3 points] complete the `cross_validate` function to train the classifier on the training set and return the accuracy on the validation set based on provided indices."
   ]
  },
  {
   "cell_type": "code",
   "execution_count": 22,
   "metadata": {
    "deletable": false,
    "nbgrader": {
     "cell_type": "code",
     "checksum": "fb9b6096d9f2ecbcd8d9c331ea8467ee",
     "grade": true,
     "grade_id": "a31",
     "locked": false,
     "points": 3,
     "schema_version": 3,
     "solution": true,
     "task": false
    },
    "pycharm": {
     "name": "#%%\n"
    }
   },
   "outputs": [],
   "source": [
    "def cross_validate(classifier, X, y, train_indices, valid_indices):\n",
    "    \"\"\"\n",
    "    Train classifier on training set and validate on the validation set\n",
    "    :param classifier: the classifier to use\n",
    "    :param X: all data of shape (num_samples, num_features)\n",
    "    :param y: all labels of shape (num_samples)\n",
    "    :param train_indices:  indices to be used for training the model\n",
    "    :param valid_indices:  indices to be used for validating the model\n",
    "    :return: he accuracy of the classifier on the validation set\n",
    "    \"\"\"\n",
    "    valid_accuracy = 0\n",
    "    #Workspace 3.1\n",
    "    #TODO: train and validate the model based on provided indices\n",
    "    #Hint: use score method of the classifier\n",
    "    #BEGIN \n",
    "    \n",
    "    train_X = [X[x] for x in range(len(X)) if x in train_indices]\n",
    "    train_y = [y[x] for x in range(len(y)) if x in train_indices]\n",
    "    test_X = [X[x] for x in range(len(X)) if x in valid_indices]\n",
    "    test_y = [y[x] for x in range(len(y)) if x in valid_indices]\n",
    "    \n",
    "    fit = classifier.fit(train_X, train_y)\n",
    "    valid_accuracy = fit.score(test_X, test_y)\n",
    "    #END\n",
    "    return valid_accuracy"
   ]
  },
  {
   "cell_type": "markdown",
   "metadata": {
    "deletable": false,
    "editable": false,
    "nbgrader": {
     "cell_type": "markdown",
     "checksum": "cea5adf3217a3118305ca599da8ad723",
     "grade": false,
     "grade_id": "q32",
     "locked": true,
     "schema_version": 3,
     "solution": false,
     "task": false
    }
   },
   "source": [
    "- 3.2 [2 points] Report the validation accuracy using the validation set approach for scikit-learn `DecisionTreeClassifier` with `max_depth=3`\n",
    " when using the last 100 training points as a validation set and the rest as training set."
   ]
  },
  {
   "cell_type": "code",
   "execution_count": 23,
   "metadata": {
    "deletable": false,
    "nbgrader": {
     "cell_type": "code",
     "checksum": "736c9be3f2b43025375649f8426c5eb6",
     "grade": true,
     "grade_id": "a32",
     "locked": false,
     "points": 2,
     "schema_version": 3,
     "solution": true,
     "task": false
    },
    "pycharm": {
     "name": "#%%\n"
    }
   },
   "outputs": [
    {
     "name": "stdout",
     "output_type": "stream",
     "text": [
      "Validation accuracy: 0.7575757575757576\n"
     ]
    }
   ],
   "source": [
    "#Workspace 3.2\n",
    "#TODO: Report the cross validation accuracy using the last 100 training points as validation set\n",
    "#and the rest of the training points as training\n",
    "#BEGIN \n",
    "\n",
    "dtc = DecisionTreeClassifier(max_depth=3)\n",
    "\n",
    "last_100_indices = np.arange(len(house_prices.X_train))[-99:]\n",
    "everything_else = np.arange(len(house_prices.X_train))[:-99]\n",
    "\n",
    "print(\"Validation accuracy: \" + str(cross_validate(dtc, house_prices.X_train, house_prices.y_train, everything_else, last_100_indices)))\n",
    "\n",
    "#END"
   ]
  },
  {
   "cell_type": "markdown",
   "metadata": {
    "deletable": false,
    "editable": false,
    "nbgrader": {
     "cell_type": "markdown",
     "checksum": "83ce3fa0c7dae7a8cebb1d3b912ea860",
     "grade": false,
     "grade_id": "q33",
     "locked": true,
     "schema_version": 3,
     "solution": false,
     "task": false
    },
    "pycharm": {
     "name": "#%% md\n"
    }
   },
   "source": [
    "The issue with the validation set approach is that we're reducing the size of our training data,\n",
    " and the lower number of samples implies higher uncertainty.\n",
    "\n",
    "A work-around is to use *k-fold cross validation*.\n",
    "We start by partitioning the training data into k different and equally size partitions.\n",
    "Then for each of the k runs, we keep a different chunk for the validation while using the remaining k-1 for training.\n",
    "We note the validation accuracy during each of the k runs.\n",
    "\n",
    "After each of the k-folds has been used as a validation set, the average of the k recorded accuracies becomes the performance of our model.\n",
    "The k-fold cross validation method gives us a better estimate on how well the model would perform on new unseen data\n",
    " (test set) while allowing it to train on a larger portion of the dataset.\n",
    "- 3.3 [5 points] Complete `k_fold_cv`. Use the helper function `partition_to_k` that generates the partition of indices to k different chunks."
   ]
  },
  {
   "cell_type": "code",
   "execution_count": 24,
   "metadata": {
    "deletable": false,
    "nbgrader": {
     "cell_type": "code",
     "checksum": "25c6c76e733b03a0955c74129bd62156",
     "grade": true,
     "grade_id": "a33",
     "locked": false,
     "points": 5,
     "schema_version": 3,
     "solution": true,
     "task": false
    },
    "pycharm": {
     "name": "#%%\n"
    }
   },
   "outputs": [],
   "source": [
    "def partition_to_k(permutation, k):\n",
    "    \"\"\"\n",
    "    Partition permutation (shuffled indices) to k different chunks and generate the train/valid splits for the k-fold\n",
    "    :param permutation: shuffles indices\n",
    "    :param k: number of folds\n",
    "    :return: iterable of different k partitions\n",
    "    \"\"\"\n",
    "    size = int(np.ceil(len(permutation)/k))\n",
    "    for i in range(0, len(permutation), size):\n",
    "        # valid indices j for which i < o(i) < i + size\n",
    "        valid_indices = np.where(np.logical_and(permutation>i, permutation<= i + size))[0]\n",
    "        # train indices j for which o(j) <= j  or o(j) >= j + size\n",
    "        train_indices = np.where(~np.logical_and(permutation>i, permutation<= i + size))[0]\n",
    "        yield train_indices, valid_indices\n",
    "\n",
    "def k_fold_cv(classifier, k, X, y):\n",
    "    \"\"\"\n",
    "    This function performs k-fold cross validation\n",
    "    :param classifier: a classifier to be used\n",
    "    :param k: number of folds\n",
    "    :param X: all training data of shape (num_samples, num_features)\n",
    "    :param y: all labels of shape (num_samples)\n",
    "    :return: the average accuracy of the classifier in k-runs\n",
    "    \"\"\"\n",
    "    #shuffle data indices\n",
    "    permutation = np.random.RandomState(seed=42).permutation(range(X.shape[0]))\n",
    "    mean_accuracy = 0\n",
    "    #Workspace 3.3\n",
    "    #BEGIN \n",
    "    \n",
    "    for p in partition_to_k(permutation, k):\n",
    "        mean_accuracy += cross_validate(classifier,X,y,p[0],p[1])/k\n",
    "    \n",
    "    #END\n",
    "    return mean_accuracy"
   ]
  },
  {
   "cell_type": "markdown",
   "metadata": {
    "deletable": false,
    "editable": false,
    "nbgrader": {
     "cell_type": "markdown",
     "checksum": "5c9e6854961fc04cc57075be415c2921",
     "grade": false,
     "grade_id": "q34",
     "locked": true,
     "schema_version": 3,
     "solution": false,
     "task": false
    }
   },
   "source": [
    "- 3.4 [4 points] What is the best `max_depth` (consider depths from 1 to 10) and best cross validation accuracy chosen from 5-fold cross validation?"
   ]
  },
  {
   "cell_type": "code",
   "execution_count": 25,
   "metadata": {
    "deletable": false,
    "nbgrader": {
     "cell_type": "code",
     "checksum": "aa2f1e4417169b3f8ce01f1ddd577f00",
     "grade": true,
     "grade_id": "a34",
     "locked": false,
     "points": 4,
     "schema_version": 3,
     "solution": true,
     "task": false
    },
    "pycharm": {
     "name": "#%%\n"
    }
   },
   "outputs": [
    {
     "name": "stdout",
     "output_type": "stream",
     "text": [
      "Cross validation accuracy for chosen best max_depth 7: 0.679760\n"
     ]
    }
   ],
   "source": [
    "np.random.seed(4)  # changing the seed might yield different results\n",
    "best_depth, best_accuracy = -1, 0\n",
    "\n",
    "#Workspace 3.4\n",
    "#TODO: \n",
    "#BEGIN \n",
    "\n",
    "for d in range(1,11):\n",
    "    dtc = DecisionTreeClassifier(max_depth=d)\n",
    "    accuracy = k_fold_cv(dtc, 5, house_prices.X_train, house_prices.y_train)\n",
    "    if accuracy > best_accuracy:\n",
    "        best_accuracy = accuracy\n",
    "        best_depth = d\n",
    "\n",
    "#END\n",
    "print(\"Cross validation accuracy for chosen best max_depth %d: %f\" % (best_depth, best_accuracy))"
   ]
  },
  {
   "cell_type": "markdown",
   "metadata": {
    "deletable": false,
    "editable": false,
    "nbgrader": {
     "cell_type": "markdown",
     "checksum": "3b6c43c70dd992dd0452c58b97ef07aa",
     "grade": false,
     "grade_id": "q35",
     "locked": true,
     "schema_version": 3,
     "solution": false,
     "task": false
    },
    "pycharm": {
     "name": "#%% md\n"
    }
   },
   "source": [
    "- 3.5 [2 pts] report the accuracy of the model with the best `max_depth` on the test set."
   ]
  },
  {
   "cell_type": "code",
   "execution_count": 28,
   "metadata": {
    "deletable": false,
    "nbgrader": {
     "cell_type": "code",
     "checksum": "80f577dd7355453cd0e1e2adae377d07",
     "grade": true,
     "grade_id": "a35",
     "locked": false,
     "points": 2,
     "schema_version": 3,
     "solution": true,
     "task": false
    },
    "pycharm": {
     "name": "#%%\n"
    }
   },
   "outputs": [
    {
     "name": "stdout",
     "output_type": "stream",
     "text": [
      "accuracy of the best model on the testing set 0.6986301369863014\n"
     ]
    }
   ],
   "source": [
    "test_accuracy = 0\n",
    "#Workspace 3.5\n",
    "#BEGIN \n",
    "\n",
    "dtc = DecisionTreeClassifier(max_depth = best_depth).fit(house_prices.X_train, house_prices.y_train)\n",
    "test_accuracy = dtc.score(house_prices.X_test, house_prices.y_test)\n",
    "\n",
    "\n",
    "#END\n",
    "print (\"accuracy of the best model on the testing set\", test_accuracy)\n"
   ]
  },
  {
   "cell_type": "markdown",
   "metadata": {
    "deletable": false,
    "editable": false,
    "nbgrader": {
     "cell_type": "markdown",
     "checksum": "7f48d0be5f104e783aafd3b0a9076d51",
     "grade": false,
     "grade_id": "p4_intro",
     "locked": true,
     "schema_version": 3,
     "solution": false,
     "task": false
    }
   },
   "source": [
    "Problem 4 - Decision Tree Ensembles: Bagging [38 pts] and BONUS Boosting [5 pts]\n",
    "---\n",
    "We've seen that a DecisionTreeClassifier with depth = 3 is far from being the best performing on our house prices data.\n",
    "\n",
    "In this problem, we will introduce 3 ensemble methods to _boost_ the performance of this poor and underestimated weak learner.\n",
    "\n",
    "Whenever we need to generate a new instance of our weak learner, we'll have to call `get_weak_leaner`.\n",
    "You can see below that the weak learner achieves lower accuracy compared to the tree from the previous problem."
   ]
  },
  {
   "cell_type": "code",
   "execution_count": 29,
   "metadata": {
    "deletable": false,
    "editable": false,
    "nbgrader": {
     "cell_type": "code",
     "checksum": "33ca93589b8aa21fed36aff8be61a28d",
     "grade": false,
     "grade_id": "weak_learner",
     "locked": true,
     "schema_version": 3,
     "solution": false,
     "task": false
    },
    "pycharm": {
     "name": "#%%\n"
    }
   },
   "outputs": [],
   "source": [
    "def get_weak_learner():\n",
    "    \"\"\"Return a new instance of out chosen weak learner\"\"\"\n",
    "    return DecisionTreeClassifier(max_depth=3, min_samples_leaf=0.1)"
   ]
  },
  {
   "cell_type": "code",
   "execution_count": 30,
   "metadata": {
    "pycharm": {
     "name": "#%%\n"
    }
   },
   "outputs": [
    {
     "name": "stdout",
     "output_type": "stream",
     "text": [
      "Accuracy on the training set: 0.6552315608919382\n",
      "Accuracy on the test set:     0.6575342465753424\n"
     ]
    }
   ],
   "source": [
    "weak_clf = get_weak_learner().fit(house_prices.X_train, house_prices.y_train)\n",
    "print(\"Accuracy on the training set:\", weak_clf.score(house_prices.X_train,house_prices.y_train))\n",
    "print(\"Accuracy on the test set:    \", weak_clf.score(house_prices.X_test,house_prices.y_test))"
   ]
  },
  {
   "cell_type": "markdown",
   "metadata": {
    "deletable": false,
    "editable": false,
    "nbgrader": {
     "cell_type": "markdown",
     "checksum": "df8b4f8dee15fa977eeaf3984e4af332",
     "grade": false,
     "grade_id": "q41",
     "locked": true,
     "schema_version": 3,
     "solution": false,
     "task": false
    },
    "pycharm": {
     "name": "#%% md\n"
    }
   },
   "source": [
    "Start by completing the `EnsembleTest` class that we'll use to evaluate different ensemble methods.\n",
    "\n",
    "- 4.1 [5 points] Complete the `ensemble_test` class to fit the model received as parameter and store the metrics and running time.\n",
    "\n",
    "You can use the function `plot_metric` to show and compare different statistics of each model in a bar chart.\n",
    "\n"
   ]
  },
  {
   "cell_type": "code",
   "execution_count": 71,
   "metadata": {
    "deletable": false,
    "nbgrader": {
     "cell_type": "code",
     "checksum": "f473026674011dcc7c9b0219e8033356",
     "grade": true,
     "grade_id": "a41",
     "locked": false,
     "points": 5,
     "schema_version": 3,
     "solution": true,
     "task": false
    },
    "pycharm": {
     "name": "#%%\n"
    }
   },
   "outputs": [],
   "source": [
    "from time import time\n",
    "from sklearn.metrics import precision_score\n",
    "import pandas as pd\n",
    "\n",
    "class EnsembleTest:\n",
    "    \"\"\"\n",
    "        Test multiple model performance\n",
    "    \"\"\"\n",
    "\n",
    "    def __init__(self, dataset):\n",
    "        \"\"\"\n",
    "        initialize EnsembleTest\n",
    "        :param data: dataset containing Training and Test sets\n",
    "        \"\"\"\n",
    "        self.dataset = dataset\n",
    "        self.execution_time = {} # dictionary with key: model name, value: time taken to fit and score the model\n",
    "        self.metric = {} # dictionary with key: model name, value: accuracy\n",
    "        self.scores = {}# dictionary with key: model name, value: weighted average precision\n",
    "        self.score_name = 'Precision(weighted)'\n",
    "        self.metric_name = 'Mean accuracy'\n",
    "\n",
    "    def evaluate_model(self, model, name):\n",
    "        \"\"\"\n",
    "        Fit the model using the training data and save the evaluations metrics on the test set\n",
    "        :param model: classifier to evaluate\n",
    "        :param name: name of model\n",
    "        \"\"\"\n",
    "        start = time()\n",
    "        #Workspace 4.1\n",
    "        #TODO: Fit the model and get the predictions to compute the metric and the score\n",
    "        #BEGIN \n",
    "        \n",
    "        modelfit = model.fit(self.dataset.X_train, self.dataset.y_train)\n",
    "        self.metric[name] = modelfit.score(self.dataset.X_test, self.dataset.y_test)\n",
    "        pred = modelfit.predict(self.dataset.X_test)\n",
    "        self.scores[name] = precision_score(self.dataset.y_test,pred, average='weighted')\n",
    "        \n",
    "        #END\n",
    "        self.execution_time[name] = time() - start\n",
    "\n",
    "    def print_result(self):\n",
    "        \"\"\"\n",
    "            print results for all models trained and tested.\n",
    "        \"\"\"\n",
    "        models_cross = pd.DataFrame({\n",
    "            'Model': list(self.metric.keys()),\n",
    "            self.score_name: list(self.scores.values()),\n",
    "            self.metric_name: list(self.metric.values()),\n",
    "            'Execution time': list(self.execution_time.values())})\n",
    "        print(models_cross.sort_values(by=self.score_name, ascending=False))\n",
    "\n",
    "    def plot_metrics(self):\n",
    "        \"\"\"\n",
    "        Plot bar chart, one for each statistic (metric, score, running time)\n",
    "        \"\"\"\n",
    "        fig, axs = plt.subplots(1, 3)\n",
    "        fig.set_figheight(6), fig.set_figwidth(18)\n",
    "        p = 0\n",
    "        for stats, name in zip([self.metric, self.scores, self.execution_time],\n",
    "                               [self.metric_name, self.score_name, \"Elapsed time\"]):\n",
    "            left = [i for i in range(len(stats))]\n",
    "            height = [stats[key] for key in stats]\n",
    "            tick_label = [key for key in stats]\n",
    "            axs[p].set_title(name)\n",
    "            axs[p].bar(left, height, tick_label=tick_label, width=0.5)\n",
    "            p += 1\n",
    "        plt.show()"
   ]
  },
  {
   "cell_type": "markdown",
   "metadata": {
    "deletable": false,
    "editable": false,
    "nbgrader": {
     "cell_type": "markdown",
     "checksum": "cd0a5e27566aee001183dbf207233814",
     "grade": false,
     "grade_id": "q42",
     "locked": true,
     "schema_version": 3,
     "solution": false,
     "task": false
    },
    "pycharm": {
     "name": "#%% md\n"
    }
   },
   "source": [
    "- 4.2 [3 points] Test `EnsembleTest` using our weak learner returned by `get_weak_learner`"
   ]
  },
  {
   "cell_type": "code",
   "execution_count": 72,
   "metadata": {
    "deletable": false,
    "nbgrader": {
     "cell_type": "code",
     "checksum": "be0cb7020c5ced8d49832d8d5e4ffaf4",
     "grade": true,
     "grade_id": "a42",
     "locked": false,
     "points": 3,
     "schema_version": 3,
     "solution": true,
     "task": false
    },
    "pycharm": {
     "name": "#%%\n"
    }
   },
   "outputs": [
    {
     "name": "stdout",
     "output_type": "stream",
     "text": [
      "           Model  Precision(weighted)  Mean accuracy  Execution time\n",
      "0  Weak Learner1             0.673697       0.657534        0.004983\n",
      "1  Weak Learner2             0.673697       0.657534        0.004983\n",
      "2  Weak Learner3             0.673697       0.657534        0.003986\n"
     ]
    },
    {
     "data": {
      "image/png": "[encoded data removed]",
      "text/plain": [
       "<Figure size 1296x432 with 3 Axes>"
      ]
     },
     "metadata": {
      "needs_background": "light"
     },
     "output_type": "display_data"
    }
   ],
   "source": [
    "# create a handler for ensemble_test, use the created handler for fitting different models.\n",
    "ensemble_handler = EnsembleTest(house_prices)\n",
    "#Workspace 4.2\n",
    "#TODO: Initialize weak learner and evaluate it using evaluate_model\n",
    "#BEGIN \n",
    "\n",
    "weak1 = get_weak_learner()\n",
    "weak2 = get_weak_learner()\n",
    "weak3 = get_weak_learner()\n",
    "ensemble_handler.evaluate_model(weak1, \"Weak Learner1\")\n",
    "ensemble_handler.evaluate_model(weak2, \"Weak Learner2\")\n",
    "ensemble_handler.evaluate_model(weak3, \"Weak Learner3\")\n",
    "\n",
    "#END\n",
    "ensemble_handler.print_result()\n",
    "ensemble_handler.plot_metrics()"
   ]
  },
  {
   "cell_type": "markdown",
   "metadata": {
    "deletable": false,
    "editable": false,
    "nbgrader": {
     "cell_type": "markdown",
     "checksum": "1a07635788e6f05c0049b2a9a047d7c7",
     "grade": false,
     "grade_id": "qbagging",
     "locked": true,
     "schema_version": 3,
     "solution": false,
     "task": false
    }
   },
   "source": [
    "**Bagging:**\n",
    "\n",
    "The first Ensemble technique we deal with is called _Bagging_ (Bootstrap AGGregatING).\n",
    "Bagging consists of training a number of weak learners using randomly sampled instances from our data (with replacement). We have to start\n",
    "by choosing the number of estimators we want to use. Then for each estimator, we sample a random subset of the data to fit the estimator.\n",
    "\n",
    "To compute the prediction, we sum the prediction probabilities of the estimators and return the label that has the highest\n",
    "accumulated probabilities.\n",
    "\n",
    "- 4.3 [5 points] First, complete `sample_data` to return a random sample of size `sample_ratio* len(X_train)` of features and labels\n",
    "\n",
    "- 4.4 [5 points] Complete `fit` by instantiating `n_estimators` of our weak leaner, each trained on random sample of the data\n",
    "\n",
    "- 4.5 [5 points] Complete `predict` method to return the most likely label by combining different estimators predictions.\n",
    "Instead of the majority vote used in KNNClassifier, you should use `predict_proba` method of DecisionTreeClassifier.\n",
    "[See Documentation](https://scikit-learn.org/stable/modules/generated/sklearn.tree.DecisionTreeClassifier.html#sklearn.tree.DecisionTreeClassifier.predict_proba)"
   ]
  },
  {
   "cell_type": "code",
   "execution_count": 93,
   "metadata": {
    "deletable": false,
    "nbgrader": {
     "cell_type": "code",
     "checksum": "42659a7181d9a33972dc1cf43ba70c92",
     "grade": true,
     "grade_id": "abagging",
     "locked": false,
     "points": 15,
     "schema_version": 3,
     "solution": true,
     "task": false
    },
    "pycharm": {
     "name": "#%%\n"
    }
   },
   "outputs": [],
   "source": [
    "class BaggingEnsemble(object):\n",
    "\n",
    "    def __init__(self, n_estimators, sample_ratio=1.0):\n",
    "        \"\"\"\n",
    "        Initialize BaggingEnsemble\n",
    "        :param n_estimators: number of estimators/weak learner to use\n",
    "        :param sample_ratio: ratio of the training data to sample\n",
    "        \"\"\"\n",
    "        self.n_estimators = n_estimators\n",
    "        self.sample_ratio = sample_ratio\n",
    "        self.estimators = [] # List used in fit method to store the trained estimators\n",
    "\n",
    "    def sample_data(self, X_train, y_train):\n",
    "        X_sample, y_sample = None, None\n",
    "        #Workspace 4.3\n",
    "        #TODO: sample random subset of size sample_ratio * len(X_train), sampling is with replacement (iid)\n",
    "        #BEGIN \n",
    "        \n",
    "        sz = np.ceil(self.sample_ratio*len(X_train)).astype('int')\n",
    "        idx = np.random.choice(sz, size=sz, replace=True)\n",
    "        X_sample = [X_train[i] for i in idx]\n",
    "        y_sample = [y_train[i] for i in idx]\n",
    "        \n",
    "        #END\n",
    "        return X_sample, y_sample\n",
    "\n",
    "    def fit(self, X_train, y_train):\n",
    "        \"\"\"\n",
    "        Train the different estimators on sampled data using provided training samples\n",
    "        :param X_train: training samples, shape (num_samples, num_features)\n",
    "        :param y_train: training labels, shape (num_samples)\n",
    "        :return: self\n",
    "        \"\"\"\n",
    "        np.random.seed(42) # Keep it to get consistent results across runs, you can change the seed value\n",
    "\n",
    "        for _ in range(self.n_estimators):\n",
    "            #Workspace 4.4\n",
    "            #BEGIN \n",
    "            \n",
    "            X_train_boot, y_train_boot = self.sample_data(X_train,y_train)\n",
    "            self.estimators.append(get_weak_learner().fit(X_train_boot, y_train_boot))\n",
    "            \n",
    "            #END\n",
    "        return self\n",
    "    def predict(self, X_test):\n",
    "        \"\"\"\n",
    "        Predict the labels of test samples\n",
    "        :param X_test: array of shape (num_points, num_features)\n",
    "        :return: 1-d array of shape (num_points)\n",
    "        \"\"\"\n",
    "        predicted_proba = 0\n",
    "        answer = []\n",
    "        #Workspace 4.5\n",
    "        #TODO: go through the trained estimators and accumulate their predicted_proba to get the mostly likely label\n",
    "        #BEGIN \n",
    "        \n",
    "        for i in range(self.n_estimators):\n",
    "            if i == 0:\n",
    "                predicted_proba = np.array(self.estimators[i].predict_proba(X_test))\n",
    "            else:\n",
    "                predicted_proba = predicted_proba + np.array(self.estimators[i].predict_proba(X_test))\n",
    "        for i in range(len(predicted_proba)):\n",
    "            answer.append(list(predicted_proba[i]).index(max(predicted_proba[i])))\n",
    "        \n",
    "        #END\n",
    "        return answer\n",
    "    \n",
    "    def score(self, X, y):\n",
    "        \"\"\"\n",
    "        Return the mean accuracy on the given test data and labels.\n",
    "        :param X: Test samples, shape (num_points, num_features)\n",
    "        :param y: true labels for X, shape (num_points,)\n",
    "        :return: mean accuracy\n",
    "        \"\"\"\n",
    "        accuracy = 0\n",
    "        \n",
    "        pred_y = self.predict(X)\n",
    "        \n",
    "        correct = 0\n",
    "        for i in range(len(pred_y)):\n",
    "            if pred_y[i] == y[i]:\n",
    "                correct += 1\n",
    "        accuracy = correct/len(pred_y)\n",
    "        \n",
    "        #END\n",
    "        return accuracy"
   ]
  },
  {
   "cell_type": "code",
   "execution_count": 94,
   "metadata": {
    "pycharm": {
     "name": "#%%\n"
    }
   },
   "outputs": [
    {
     "name": "stdout",
     "output_type": "stream",
     "text": [
      "           Model  Precision(weighted)  Mean accuracy  Execution time\n",
      "3        Bagging             0.679378       0.674658        0.038870\n",
      "0  Weak Learner1             0.673697       0.657534        0.004983\n",
      "1  Weak Learner2             0.673697       0.657534        0.004983\n",
      "2  Weak Learner3             0.673697       0.657534        0.003986\n"
     ]
    },
    {
     "data": {
      "image/png": "[encoded data removed]",
      "text/plain": [
       "<Figure size 1296x432 with 3 Axes>"
      ]
     },
     "metadata": {
      "needs_background": "light"
     },
     "output_type": "display_data"
    }
   ],
   "source": [
    "# This cell should run without errors\n",
    "ensemble_handler.evaluate_model(BaggingEnsemble(10, 0.9), 'Bagging')\n",
    "ensemble_handler.print_result()\n",
    "ensemble_handler.plot_metrics()"
   ]
  },
  {
   "cell_type": "markdown",
   "metadata": {
    "deletable": false,
    "editable": false,
    "nbgrader": {
     "cell_type": "markdown",
     "checksum": "73c559db55e7a1ed5dead72ea9280663",
     "grade": false,
     "grade_id": "qforest",
     "locked": true,
     "schema_version": 3,
     "solution": false,
     "task": false
    },
    "pycharm": {
     "name": "#%% md\n"
    }
   },
   "source": [
    "**Random Forest**\n",
    "\n",
    "Random Forest has an additional layer of randomness compared to Bagging: we also sample a random subset of the features (columns).\n",
    "The rest of the implementation should be similar if not exactly the same as Bagging. In addition to keeping track of the estimators \n",
    "(in `RandomForest.estimators`, we also have to store the features indices that are used by each estimator (in `RandomForest.features_indices`).\n",
    "\n",
    "\n",
    "- 4.6 [4 points] First, complete `sample_data` to return a random sample of size `sample_ratio* len(X_train)` of labels and `feature_ratio * num_features` of features\n",
    "\n",
    "- 4.7 [4 points] Complete `fit` by building `n_estimators` of DecisionTreeClassifier, each trained on random sample of the data.\n",
    "Make sure to keep track of the sampled features for each estimator to use them in the prediction step\n",
    "\n",
    "- 4.8 [4 points] Complete `predict` method to return the most likely label by combining different estimators predictions. Instead of the majority vote used in KNNClassifier, you should use `predict_proba` method DecisionTreeClassifier:\n",
    "[Documentation](https://scikit-learn.org/stable/modules/generated/sklearn.tree.DecisionTreeClassifier.html#sklearn.tree.DecisionTreeClassifier.predict_proba)\n"
   ]
  },
  {
   "cell_type": "code",
   "execution_count": 118,
   "metadata": {
    "deletable": false,
    "nbgrader": {
     "cell_type": "code",
     "checksum": "3cd630a2ee19c63df7aab121c7504c5e",
     "grade": true,
     "grade_id": "aforest",
     "locked": false,
     "points": 12,
     "schema_version": 3,
     "solution": true,
     "task": false
    },
    "pycharm": {
     "name": "#%%\n"
    }
   },
   "outputs": [],
   "source": [
    "class RandomForest(object):\n",
    "\n",
    "    def __init__(self, n_estimators, sample_ratio=1.0, features_ratio=1.0):\n",
    "        self.n_estimators = n_estimators\n",
    "        self.sample_ratio = sample_ratio\n",
    "        self.features_ratio = features_ratio\n",
    "        self.estimators = [] # to store the estimator\n",
    "        self.features_indices = [] # to store the feature indices used by each estimator\n",
    "\n",
    "    def sample_data(self, X_train, y_train):\n",
    "        X_sample, y_sample, features_indices = None, None, None\n",
    "        #Workspace 4.6\n",
    "        #TODO: sample random subset of size sample_ratio * len(X_train) and subset of features of size\n",
    "        #         features_ratio * num_features\n",
    "        #BEGIN \n",
    "        \n",
    "        featSize = np.ceil(self.features_ratio*len(X_train[0])).astype('int')\n",
    "        features_indices = np.random.choice(featSize, size=featSize, replace=True)\n",
    "        \n",
    "        dataSize = np.ceil(self.sample_ratio*len(X_train)).astype('int')\n",
    "        idx = np.random.choice(dataSize, size=dataSize, replace=True)\n",
    "        X_sample = [X_train[i] for i in idx]\n",
    "        y_sample = [y_train[i] for i in idx]\n",
    "        \n",
    "        X_sample = [[X[i] for i in features_indices] for X in X_sample]\n",
    "        \n",
    "        #END\n",
    "        return X_sample, y_sample, features_indices\n",
    "\n",
    "    def fit(self, X_train, y_train):\n",
    "        np.random.seed(42) # keep to have consistent results across run, you can change the value\n",
    "        for _ in range(self.n_estimators):\n",
    "            #Workspace 4.7\n",
    "            #TODO: sample data with random subset of rows and features using sample_data\n",
    "            #Hint: keep track of the features indices in features_indices to use in predict\n",
    "            #BEGIN \n",
    "            \n",
    "            X_train_boot, y_train_boot, feat_idx = self.sample_data(X_train,y_train)\n",
    "            self.estimators.append(get_weak_learner().fit(X_train_boot, y_train_boot))\n",
    "            self.features_indices.append(feat_idx)\n",
    "            \n",
    "            #END\n",
    "        return self\n",
    "    \n",
    "    def predict(self, X_test):\n",
    "        predicted_proba = 0\n",
    "        answer = []\n",
    "        #Workspace 4.8\n",
    "        #TODO: compute cumulative sum of predict proba from estimators and return the labels with highest likelihood\n",
    "        #BEGIN \n",
    "        \n",
    "        for i in range(self.n_estimators):\n",
    "            X_test_feat = [[X[i] for i in self.features_indices[i]] for X in X_test]\n",
    "            if i == 0:\n",
    "                predicted_proba = np.array(self.estimators[i].predict_proba(X_test_feat))\n",
    "            else:\n",
    "                predicted_proba = predicted_proba + np.array(self.estimators[i].predict_proba(X_test_feat))\n",
    "        for i in range(len(predicted_proba)):\n",
    "            answer.append(list(predicted_proba[i]).index(max(predicted_proba[i])))\n",
    "        \n",
    "        #END\n",
    "        return answer\n",
    "    \n",
    "    def score(self, X, y):\n",
    "        \"\"\"\n",
    "        Return the mean accuracy on the given test data and labels.\n",
    "        :param X: Test samples, shape (num_points, num_features)\n",
    "        :param y: true labels for X, shape (num_points,)\n",
    "        :return: mean accuracy\n",
    "        \"\"\"\n",
    "        accuracy = 0\n",
    "        \n",
    "        pred_y = self.predict(X)\n",
    "        \n",
    "        correct = 0\n",
    "        for i in range(len(pred_y)):\n",
    "            if pred_y[i] == y[i]:\n",
    "                correct += 1\n",
    "        accuracy = correct/len(pred_y)\n",
    "        \n",
    "        #END\n",
    "        return accuracy"
   ]
  },
  {
   "cell_type": "code",
   "execution_count": 121,
   "metadata": {
    "pycharm": {
     "name": "#%%\n"
    }
   },
   "outputs": [
    {
     "name": "stdout",
     "output_type": "stream",
     "text": [
      "           Model  Precision(weighted)  Mean accuracy  Execution time\n",
      "3        Bagging             0.679378       0.674658        0.038870\n",
      "0  Weak Learner1             0.673697       0.657534        0.004983\n",
      "1  Weak Learner2             0.673697       0.657534        0.004983\n",
      "2  Weak Learner3             0.673697       0.657534        0.003986\n",
      "4   RandomForest             0.608605       0.619863        0.773207\n"
     ]
    }
   ],
   "source": [
    "# This cell should run without errors\n",
    "ensemble_handler.evaluate_model(RandomForest(200, sample_ratio=0.7, features_ratio=0.1), 'RandomForest')\n",
    "ensemble_handler.print_result()"
   ]
  },
  {
   "cell_type": "markdown",
   "metadata": {
    "deletable": false,
    "editable": false,
    "nbgrader": {
     "cell_type": "markdown",
     "checksum": "584dccdf58532a00220a3536805d006f",
     "grade": false,
     "grade_id": "q49",
     "locked": true,
     "schema_version": 3,
     "solution": false,
     "task": false
    }
   },
   "source": [
    "- 4.9 [3 points] Add different ensemble methods to the handler (try different parameters), plot, show, and compare them.\n",
    "What's the best weighted average precision we can get? What's the best accuracy? Which ensemble method achieves each of them?\n",
    "You can also compare to our best decision tree found in Problem 3."
   ]
  },
  {
   "cell_type": "code",
   "execution_count": 134,
   "metadata": {
    "deletable": false,
    "nbgrader": {
     "cell_type": "code",
     "checksum": "b4e3888c7d6bd4be0cd43d1e0e928ea9",
     "grade": true,
     "grade_id": "a49a",
     "locked": false,
     "points": 2,
     "schema_version": 3,
     "solution": true,
     "task": false
    }
   },
   "outputs": [],
   "source": [
    "# create a handler for ensemble_test, use the created handler for fitting different models.\n",
    "ensemble_handler = EnsembleTest(house_prices)\n",
    "ensemble_handler.evaluate_model(get_weak_learner(), 'weak_learner')\n",
    "#Workspace 4.9.a\n",
    "#TODO Add multiple instances of the ensemble methods. Plot and compare their performance\n",
    "#You can also add best tree from problem 3\n",
    "#BEGIN \n",
    "\n",
    "ensemble_handler.evaluate_model(RandomForest(200, sample_ratio=0.5, features_ratio=0.1), 'RF1')\n",
    "ensemble_handler.evaluate_model(RandomForest(200, sample_ratio=0.7, features_ratio=0.1), 'RF2')\n",
    "ensemble_handler.evaluate_model(RandomForest(200, sample_ratio=0.9, features_ratio=0.1), 'RF3')\n",
    "ensemble_handler.evaluate_model(RandomForest(200, sample_ratio=0.7, features_ratio=0.5), 'RF4')\n",
    "ensemble_handler.evaluate_model(RandomForest(200, sample_ratio=0.7, features_ratio=0.7), 'RF5')\n",
    "ensemble_handler.evaluate_model(RandomForest(200, sample_ratio=1, features_ratio=1), 'RF6')\n",
    "#END"
   ]
  },
  {
   "cell_type": "code",
   "execution_count": 135,
   "metadata": {
    "scrolled": true
   },
   "outputs": [
    {
     "name": "stdout",
     "output_type": "stream",
     "text": [
      "          Model  Precision(weighted)  Mean accuracy  Execution time\n",
      "6           RF6             0.696400       0.702055        5.373034\n",
      "0  weak_learner             0.673697       0.657534        0.004979\n",
      "5           RF5             0.659646       0.667808        3.043827\n",
      "4           RF4             0.659335       0.667808        6.937658\n",
      "1           RF1             0.634622       0.623288        0.636874\n",
      "2           RF2             0.608605       0.619863        0.756522\n",
      "3           RF3             0.592669       0.606164        0.937813\n"
     ]
    },
    {
     "data": {
      "image/png": "[encoded data removed]",
      "text/plain": [
       "<Figure size 1296x432 with 3 Axes>"
      ]
     },
     "metadata": {
      "needs_background": "light"
     },
     "output_type": "display_data"
    }
   ],
   "source": [
    "ensemble_handler.print_result()\n",
    "ensemble_handler.plot_metrics()"
   ]
  },
  {
   "cell_type": "code",
   "execution_count": 142,
   "metadata": {
    "scrolled": true
   },
   "outputs": [
    {
     "name": "stdout",
     "output_type": "stream",
     "text": [
      "  Model  Precision(weighted)  Mean accuracy  Execution time\n",
      "1  Bag2             0.691205       0.695205        0.071756\n",
      "2  Bag3             0.686063       0.691781        0.106647\n",
      "5  Bag6             0.684312       0.688356        0.032890\n",
      "0  Bag1             0.679378       0.674658        0.038870\n",
      "3  Bag4             0.677715       0.678082        0.024917\n",
      "6  Bag7             0.671180       0.671233        0.062790\n",
      "4  Bag5             0.655796       0.657534        0.029900\n"
     ]
    },
    {
     "data": {
      "image/png": "[encoded data removed]",
      "text/plain": [
       "<Figure size 1296x432 with 3 Axes>"
      ]
     },
     "metadata": {
      "needs_background": "light"
     },
     "output_type": "display_data"
    }
   ],
   "source": [
    "ensemble_handler = EnsembleTest(house_prices)\n",
    "ensemble_handler.evaluate_model(BaggingEnsemble(10, 0.9), 'Bag1')\n",
    "ensemble_handler.evaluate_model(BaggingEnsemble(20, 0.9), 'Bag2')\n",
    "ensemble_handler.evaluate_model(BaggingEnsemble(30, 0.9), 'Bag3')\n",
    "ensemble_handler.evaluate_model(BaggingEnsemble(10, 0.6), 'Bag4')\n",
    "ensemble_handler.evaluate_model(BaggingEnsemble(10, 0.7), 'Bag5')\n",
    "ensemble_handler.evaluate_model(BaggingEnsemble(10, 0.8), 'Bag6')\n",
    "ensemble_handler.evaluate_model(BaggingEnsemble(20, 0.8), 'Bag7')\n",
    "ensemble_handler.print_result()\n",
    "ensemble_handler.plot_metrics()"
   ]
  },
  {
   "cell_type": "code",
   "execution_count": 140,
   "metadata": {},
   "outputs": [
    {
     "name": "stdout",
     "output_type": "stream",
     "text": [
      "  Model  Precision(weighted)  Mean accuracy  Execution time\n",
      "4   DT3             0.708841       0.695205        0.006977\n",
      "3   DT2             0.707502       0.712329        8.894258\n",
      "2   DT1             0.692803       0.691781       13.334414\n",
      "0   w_l             0.673697       0.657534        0.004983\n",
      "1   RF1             0.583087       0.599315        1.265767\n"
     ]
    },
    {
     "data": {
      "image/png": "[encoded data removed]",
      "text/plain": [
       "<Figure size 1296x432 with 3 Axes>"
      ]
     },
     "metadata": {
      "needs_background": "light"
     },
     "output_type": "display_data"
    }
   ],
   "source": [
    "ensemble_handler = EnsembleTest(house_prices)\n",
    "ensemble_handler.evaluate_model(get_weak_learner(), 'w_l')\n",
    "ensemble_handler.evaluate_model(RandomForest(200, sample_ratio=0.5, features_ratio=0.3), 'RF1')\n",
    "ensemble_handler.evaluate_model(DecisionTree(), 'DT1')\n",
    "ensemble_handler.evaluate_model(DecisionTree(max_depth=5), 'DT2')\n",
    "ensemble_handler.evaluate_model(DecisionTreeClassifier(max_depth=5), 'DT3')\n",
    "ensemble_handler.print_result()\n",
    "ensemble_handler.plot_metrics()"
   ]
  },
  {
   "cell_type": "markdown",
   "metadata": {
    "deletable": false,
    "nbgrader": {
     "cell_type": "markdown",
     "checksum": "5b73965b0877e99e50e36b4b6f7c7d87",
     "grade": true,
     "grade_id": "a49b",
     "locked": false,
     "points": 1,
     "schema_version": 3,
     "solution": true,
     "task": false
    }
   },
   "source": [
    "#### Write-up 4.9.b\n",
    "%BEGIN\n",
    "\n",
    "The above tables and charts prove at workable subset of classifiers whose accuracy, weighted precision, and efficiency can be compared with one another. We can see that Random Forest has its best weighted precision when both sample ratio and features ratio are allowed to be 1 and this value is comparable to what is achieved by a bagging method with moderate n_estimators and high sample ratio. The best mean accuarcy is largely correlated to weighted precision in the above charts but we can see that decision trees generally had some of the best accuracy. From the decision tree plot, we can see the effect of optimizations provided by scikit-learn compared to our naive implementation and the Random Forest shows the correlations between both feature ratio and sample ratio to run time.\n",
    "\n",
    "%END"
   ]
  },
  {
   "cell_type": "markdown",
   "metadata": {
    "deletable": false,
    "editable": false,
    "nbgrader": {
     "cell_type": "markdown",
     "checksum": "b45a7de03f8aa13a40119df78111a288",
     "grade": false,
     "grade_id": "qboosting",
     "locked": true,
     "schema_version": 3,
     "solution": false,
     "task": false
    }
   },
   "source": [
    "**BONUS - Boosting**\n",
    "\n",
    "There are different methods of boosting, but we'll focus in this problem on Adaptive Boosting (AdaBoost).\n",
    "The logic of AdaBoost is to \"push\" each new learner to give more importance to previously misclassified data. We present\n",
    "below the multiclass variant of AdaBoost [SAMME](https://web.stanford.edu/~hastie/Papers/samme.pdf). We denote $K$ the number of classes.\n",
    "\n",
    "AdaBosst is performed by increasing the weights of misclassified samples after each iteration:\n",
    "- Input: m samples $(X_i, y_i)_{i\\in [m]}$, number of boosting rounds $N$\n",
    "- Start with equal samples weights $W = (w_i), $ where   $w_i = \\frac{1}{\\texttt{n_samples}}$\n",
    "- at round j:\n",
    "    - Train estimator $h_j$ using current weights $W$\n",
    "    - Get the predicted $(\\hat{y}_i)$ on the training data using $h_j$\n",
    "    - Find the weighted error rate $\\epsilon_j$ using $W$: $\\epsilon_j=\\frac{\\sum_i w_i \\Delta(\\hat{y}_i, y_i)}{\\sum_i w_i}$\n",
    "    - Choose $\\alpha_j = \\log \\frac{1-\\epsilon_j}{\\epsilon_j} + \\log(K-1)$\n",
    "    - Update $W$ using: $w_i \\leftarrow w_i \\exp(\\alpha_j \\Delta(\\hat{y_i}, y_i)) $\n",
    "    - Normalize $W$ to have sum 1\n",
    "- Global estimator is $H = \\sum_j \\alpha_j h_j$,\n",
    "\n",
    "the $\\Delta$ function equals to 1 when the two argument are different, 0 otherwise.\n",
    "\n",
    "To understand how we implement $H$, imaging we have two classes, and we boosted for 3 rounds to get $(h_1, h_2, h_3)$,\n",
    "with weights $(\\alpha_1, \\alpha_2, \\alpha_3)$. When we want to predict the label of sample $x$, we get $(h_1(x), h_2(x), h_3(x)) = (0,1,0)$.\n",
    "\n",
    "In this case, label $0$ gets a weight $\\alpha_1+\\alpha_2$, while class $1$ get weight $\\alpha_2$. The predicted class is the one with\n",
    "the largest weight (1 if $\\alpha_2 > \\alpha_1 + \\alpha_3$, 0 otherwise)\n",
    "\n",
    "\n",
    "- **(Bonus)** 4.10 [4 pts] Complete `fit` by building `n_estimators` of DecisionTreeClassifier, each trained on the same data but with different samples weights as detailed in the algorithm. Keep track of $(\\alpha_i)$\n",
    "\n",
    "_Hint: our weak learner (DecisionTreeClassifier) can take an argument `sample_weight` when calling the `fit` method, you'll have to use it to provide the weights $W$_\n",
    " \n",
    "\n",
    "The `predict` method function is provided which returns the predicted label using the global estimator $H$. It uses one hot encoding of the predicted labels from the weak learners and cumulate the prediction with weights $\\alpha_j$. \n",
    "\n",
    "Notice that if the estimator is consistent (0 error rate on the training set), AdaBoost $\\alpha_j$ are no longer defined. That's why this method requires a **weak** learner."
   ]
  },
  {
   "cell_type": "code",
   "execution_count": null,
   "metadata": {
    "deletable": false,
    "nbgrader": {
     "cell_type": "code",
     "checksum": "96fa2985248204998028bcd851bea847",
     "grade": true,
     "grade_id": "aboosting",
     "locked": false,
     "points": 0,
     "schema_version": 3,
     "solution": true,
     "task": false
    },
    "pycharm": {
     "name": "#%%\n"
    }
   },
   "outputs": [],
   "source": [
    "class AdaBoost(object):\n",
    "\n",
    "    def __init__(self, n_estimators):\n",
    "        \"\"\"\n",
    "        :param n_estimators: number of estimators/ boosting rounds\n",
    "        \"\"\"\n",
    "        self.n_estimators = n_estimators\n",
    "        self.num_classes = None\n",
    "        self.estimators = []\n",
    "        self.alphas = []\n",
    "\n",
    "\n",
    "    def fit(self, X_train, y_train):\n",
    "\n",
    "        self.num_classes = np.unique(y_train).shape[0] # K in the algorithm\n",
    "        weights = np.ones(len(X_train)) / len(X_train) # W in the algorithm\n",
    "        # Workspace 4.10\n",
    "        #TODO: Implement Multiclass Adaboost and keep track of the alpha_j\n",
    "        #BEGIN \n",
    "        # code here\n",
    "        #END\n",
    "\n",
    "    def predict(self, X_test):\n",
    "        '''\n",
    "        get the labels returned by the global estimator defined as H\n",
    "        the predicted label is the one that accumulates the largest sum of alphas\n",
    "        '''\n",
    "        # y_hat is one-hot encoding of the multi-class labels\n",
    "        y_hat = np.zeros((X_test.shape[0], self.num_classes))\n",
    "        for i in range(len(self.estimators)):\n",
    "            # np.eye(k)[i] returns the one-hot encoding of size k for label i\n",
    "            # np.eye(4)[2] would be [0, 0, 1, 0], np.eye(4)[0] is [1,0, 0, 0]. Clever, innit?\n",
    "            y_hat += self.alphas[i] * np.eye(self.num_classes)[self.estimators[i].predict(X_test)]\n",
    "        answer = np.argmax(y_hat, axis=1)\n",
    "        return answer"
   ]
  },
  {
   "cell_type": "code",
   "execution_count": null,
   "metadata": {
    "pycharm": {
     "name": "#%%\n"
    }
   },
   "outputs": [],
   "source": [
    "ensemble_handler.evaluate_model(RandomForest(100, sample_ratio=0.8, features_ratio=0.8), 'RandomForest')\n",
    "ensemble_handler.evaluate_model(AdaBoost(40), 'AdaBoost')\n",
    "ensemble_handler.print_result()"
   ]
  },
  {
   "cell_type": "markdown",
   "metadata": {
    "deletable": false,
    "editable": false,
    "nbgrader": {
     "cell_type": "markdown",
     "checksum": "8506fe6cca0537e16db2e09037fc6035",
     "grade": false,
     "grade_id": "q411",
     "locked": true,
     "schema_version": 3,
     "solution": false,
     "task": false
    }
   },
   "source": [
    "# **Comparison**\n",
    "\n",
    "- **(Bonus)**  4.11 [1 point] Run the same comparison as in 4.9 including AdaBoost."
   ]
  },
  {
   "cell_type": "code",
   "execution_count": null,
   "metadata": {
    "deletable": false,
    "nbgrader": {
     "cell_type": "code",
     "checksum": "bbf66239070baceb8bf6475b0b1ad7fc",
     "grade": true,
     "grade_id": "a411a",
     "locked": false,
     "points": 0,
     "schema_version": 3,
     "solution": true,
     "task": false
    },
    "pycharm": {
     "name": "#%%\n"
    }
   },
   "outputs": [],
   "source": [
    "# create a handler for ensemble_test, use the created handler for fitting different models.\n",
    "ensemble_handler = EnsembleTest(house_prices)\n",
    "ensemble_handler.evaluate_model(get_weak_learner(), 'weak_learner')\n",
    "#Workspace 4.11.a\n",
    "#TODO Add multiple instances of the ensemble methods. Plot and compare their performance\n",
    "#You can also add best tree from problem 3\n",
    "#BEGIN \n",
    "# code here\n",
    "#END"
   ]
  },
  {
   "cell_type": "markdown",
   "metadata": {
    "deletable": false,
    "nbgrader": {
     "cell_type": "markdown",
     "checksum": "c4c99b2c2328356a7e4b6068407a02a6",
     "grade": true,
     "grade_id": "a411b",
     "locked": false,
     "points": 0,
     "schema_version": 3,
     "solution": true,
     "task": false
    }
   },
   "source": [
    "#### Write-up 4.11.b\n",
    "%BEGIN\n",
    "\n",
    "% YOUR ANSWER HERE\n",
    "\n",
    "%END"
   ]
  }
 ],
 "metadata": {
  "kernelspec": {
   "display_name": "Python 3 (ipykernel)",
   "language": "python",
   "name": "python3"
  },
  "language_info": {
   "codemirror_mode": {
    "name": "ipython",
    "version": 3
   },
   "file_extension": ".py",
   "mimetype": "text/x-python",
   "name": "python",
   "nbconvert_exporter": "python",
   "pygments_lexer": "ipython3",
   "version": "3.9.7"
  }
 },
 "nbformat": 4,
 "nbformat_minor": 2
}
