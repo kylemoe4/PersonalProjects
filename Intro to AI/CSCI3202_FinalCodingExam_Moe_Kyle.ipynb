{
 "cells": [
  {
   "cell_type": "markdown",
   "metadata": {},
   "source": [
    "# CSCI 3202, Spring 2022: Final Coding Project\n",
    "\n",
    "---\n",
    "\n",
    "\n",
    "This is your final programming project for CSCI 3202. It is due on Canvas by **11:59 PM on Saturday April 30**.  Your solutions to theoretical questions should be done in Markdown/LateX directly below the associated question. Your solutions to computational questions should include any relevant Python code, as well as results and any written commentary.\n",
    "\n",
    "You have two options for completing your final project for this course. The first option is presented in this notebook and involves implementing a reinforcement learning algorithm and producing a five-minute video that explains your process of solving this problem. The second option is to design your own project that includes the algorithms we've discussed since the midterm - Bayes Nets, Hidden Markov Models, Markov Decision Processes, or Reinforcement Learning - or an algorithm related to one of these that we haven't discussed in class. Your project also needs to include some kind of analysis of how it performed on a specific problem. If you're interested in the design your own project option, you need to discuss your idea with one of the course instructors to get approval. If you do a project without getting approval, you will receive a 0 regardless of the quality of the project. You will also need to produce a short, five-minute video that explains your project.\n",
    "\n",
    "**The rules:**\n",
    "\n",
    "1. Choose EITHER the given problem to submit OR choose your own project topic. \n",
    "\n",
    "2. If you choose your own project topic, please adhere to the following guidelines:\n",
    "- The project needs to be approved by the course instructors.\n",
    "- The project needs to include one of the algorithms we've discussed since the midterm - Bayes Nets, HMMs, MDPs, or Reinforcement Learning - or an algorithm that we haven't discussed in class. \n",
    "- If you do your own project without prior approval, you will receive a 0 for this project.\n",
    "- Your project code, explanation, and results must all be contained in a Jupyter notebook. \n",
    "\n",
    "3. All work, code and analysis must be **your own**.\n",
    "4. You may use your course notes, posted lecture slides, textbook, in-class notebooks and homework solutions as resources.  You may also search online for answers to general knowledge questions, like the form of a probability distribution function, or how to perform a particular operation in Python. You may not use entire segments of code as solutions to any part of this project, e.g. if you find a Python implementation of policy iteration online, you can't use it.\n",
    "5. You may **not** post to message boards or other online resources asking for help.\n",
    "6. **You may not collaborate with classmates or anyone else.**\n",
    "7. This is meant to be like a coding portion of your final exam. So, we will be much less helpful than we typically am with homework. For example, we will not check answers, help debug your code, and so on.\n",
    "8. If you have a question, post it first as a **private** Piazza message. If we decide that it is appropriate for the entire class, then we will make it a public post (and anonymous).\n",
    "9. If something is left open-ended, it is probably because we intend for you to code it up however you want, and only care about the plots/analysis we see at the end. Feel free to ask clarifying questions though.\n",
    "\n",
    "Violation of these rules will result in an **F** and a trip to the Honor Code council.\n",
    "\n",
    "---\n",
    "**By writing your name below, you agree to abide by these rules:**\n",
    "\n",
    "**Your name:** Kyle Moe\n",
    "\n",
    "---\n",
    "\n"
   ]
  },
  {
   "cell_type": "code",
   "execution_count": 1,
   "metadata": {},
   "outputs": [],
   "source": [
    "import pandas as pd\n",
    "import numpy as np\n",
    "import scipy.stats as stats\n",
    "import matplotlib.pyplot as plt\n",
    "from collections import defaultdict\n",
    "\n",
    "# added packages\n",
    "import heapq\n",
    "from matplotlib import colors"
   ]
  },
  {
   "cell_type": "markdown",
   "metadata": {},
   "source": [
    "\n",
    "\n",
    "---\n",
    "## [100 pts] Problem 1:  Reinforcement learning\n",
    "\n",
    "Consider a **cube** state space defined by $0 \\le x, y, z \\le L$. Suppose you are piloting/programming a drone to learn how to land on a platform at the center of the $z=0$ surface (the bottom). Some assumptions:\n",
    "* In this discrete world, if the drone is at $(x,y,z)$ it means that the box is centered at $(x,y,z)$. There are boxes (states) centered at $(x,y,z)$ for all $0 \\le x,y,z \\le L$. Each state is a 1 unit cube. So when $L=2$ (for example), there are cubes centered at each $x=0,1,2$, $y=0,1,2$ and so on, for a total state space size of $3^3 = 27$ states.\n",
    "* All of the states with $z=0$ are terminal states.\n",
    "* The state at the center of the bottom of the cubic state space is the landing pad. For example, when $L=4$, the landing pad is at $(x,y,z) = (2,2,0)$.\n",
    "* All terminal states ***except*** the landing pad have a reward of -1. The landing pad has a reward of +1.\n",
    "* All non-terminal states have a living reward of -0.01.\n",
    "* The drone takes up exactly 1 cubic unit, and begins in a random non-terminal state.\n",
    "* The available actions in non-terminal states include moving exactly 1 unit Up (+z), Down (-z), North (+y), South (-y), East (+x) or West (-x). In a terminal state, the training episode should end."
   ]
  },
  {
   "cell_type": "markdown",
   "metadata": {},
   "source": [
    "#### Part A\n",
    "Write a class `MDPLanding` to represent the Markov decision process for this drone. Include methods for:\n",
    "1. `actions(state)`, which should return a list of all actions available from the given state\n",
    "2. `reward(state)`, which should return the reward for the given state\n",
    "3. `result(state, action)`, which should return the resulting state of doing the given action in the given state\n",
    "\n",
    "and attributes for:\n",
    "1. `states`, a list of all the states in the state space, where each state is represented as an $(x,y,z)$ tuple\n",
    "2. `terminal_states`, a dictionary where keys are the terminal state tuples and the values are the rewards associated with those terminal states\n",
    "3. `default_reward`, a scalar for the reward associated with non-terminal states\n",
    "4. `all_actions`, a list of all possible actions (Up, Down, North, South, East, West)\n",
    "5. `discount`, the discount factor (use $\\gamma = 0.999$ for this entire problem)\n",
    "\n",
    "How you feed arguments/information into the class constructor is up to you.\n",
    "\n",
    "Note that actions are *deterministic* here.  The drone does not need to learn transition probabilities for outcomes of particular actions. What the drone does need to learn, however, is where the landing pad is, and how to get there from any initial state.\n",
    "\n",
    "Before moving on to Part B, we recommend that you test that your MDPLanding code is set up correctly. Write unit tests that display the actions for a given state, rewards, results, etc. This will help you identify errors in your implementation and save you a lot of debugging time later."
   ]
  },
  {
   "cell_type": "code",
   "execution_count": 2,
   "metadata": {},
   "outputs": [],
   "source": [
    "# Your code here.\n",
    "\n",
    "class MDPLanding:\n",
    "    def __init__(self, L, default_reward=-0.01, gamma=0.999, success_reward=1,failure_reward=-1):\n",
    "        self.L = L\n",
    "        \n",
    "        self.states = []\n",
    "        self.terminal_states = {}\n",
    "        \n",
    "        for i in range(L+1):\n",
    "            for j in range(L+1):\n",
    "                if (i == j) and (i == self.L // 2):\n",
    "                    self.terminal_states[(i,j,0)] = success_reward\n",
    "                else:\n",
    "                    self.terminal_states[(i,j,0)] = failure_reward\n",
    "                for k in range(L+1):\n",
    "                    self.states.append((i,j,k))\n",
    "        \n",
    "        self.default_reward = default_reward\n",
    "        #                  ['up',   'down',  'east',  'west', 'north', 'south']\n",
    "        self.all_actions = [(0,0,1),(0,0,-1),(0,-1,0),(0,1,0),(-1,0,0),(1,0,0)]\n",
    "        self.gamma = gamma\n",
    "        \n",
    "    def actions(self, state):\n",
    "        if state not in self.states:\n",
    "            raise ValueError('State provided is not valid')\n",
    "            \n",
    "            \n",
    "        possible_actions = []\n",
    "        for action in self.all_actions:\n",
    "            if tuple(map(sum, zip(action, state))) in self.states:\n",
    "                possible_actions.append(action)\n",
    "        return possible_actions\n",
    "    \n",
    "    def reward(self, state):\n",
    "        if state not in self.states:\n",
    "            raise ValueError('State provided is not valid')\n",
    "            \n",
    "            \n",
    "        if state in self.terminal_states:\n",
    "            return self.terminal_states[state]\n",
    "        return self.default_reward\n",
    "        \n",
    "    def result(self, state, action):\n",
    "        if state not in self.states:\n",
    "            raise ValueError('State provided is not valid')\n",
    "        if action not in self.actions(state):\n",
    "            raise ValueError('Action cannot be made by state')\n",
    "            \n",
    "            \n",
    "        return self.reward(tuple(map(sum, zip(action, state))))\n",
    "        "
   ]
  },
  {
   "cell_type": "code",
   "execution_count": 3,
   "metadata": {},
   "outputs": [
    {
     "name": "stdout",
     "output_type": "stream",
     "text": [
      "[(0, 0, 1), (0, 0, -1), (0, 1, 0), (1, 0, 0)]\n"
     ]
    }
   ],
   "source": [
    "mdp = MDPLanding(2)\n",
    "print(mdp.actions((0,0,1)))"
   ]
  },
  {
   "cell_type": "code",
   "execution_count": 4,
   "metadata": {},
   "outputs": [
    {
     "data": {
      "text/plain": [
       "(1, 1, 1)"
      ]
     },
     "execution_count": 4,
     "metadata": {},
     "output_type": "execute_result"
    }
   ],
   "source": [
    "a = (1,0,0)\n",
    "b = (0,1,0)\n",
    "c = (0,0,1)\n",
    "tuple(map(sum,zip(a,b,c)))"
   ]
  },
  {
   "cell_type": "markdown",
   "metadata": {
    "collapsed": true
   },
   "source": [
    "#### Part B\n",
    "Write a function to implement **policy iteration** for this drone landing MDP. Create an MDP environment to represent the $L=4$ case (so 125 total states).\n",
    "\n",
    "Use your function to find an optimal policy for your new MDP environment. Check (by printing to screen) that the policy for the following states are what you expect, and **comment on the results**:\n",
    "1. $(2,2,1)$\n",
    "1. $(0,2,1)$\n",
    "1. $(2,0,1)$\n",
    "\n",
    "The policy for each of these states is the action that the agent should take in that state. "
   ]
  },
  {
   "cell_type": "code",
   "execution_count": 5,
   "metadata": {},
   "outputs": [],
   "source": [
    "# Your code here.\n",
    "\n",
    "# https://www.baeldung.com/cs/ml-value-iteration-vs-policy-iteration\n",
    "\n",
    "class PI:\n",
    "    def __init__(self, mdp, max_iterations=100):\n",
    "        # initialize value and policy\n",
    "        V = {}\n",
    "        policy = {}\n",
    "        for state in mdp.states:\n",
    "            #if state not in mdp.terminal_states:\n",
    "            V[state] = 0\n",
    "            actions = mdp.actions(state)\n",
    "            policy[state] = actions[np.random.randint(0,len(actions))]\n",
    "\n",
    "\n",
    "        iterations = 0\n",
    "        converged = False\n",
    "        while not converged and iterations < max_iterations:\n",
    "            converged = True\n",
    "            iterations += 1\n",
    "            \n",
    "            # policy evaluation\n",
    "            for state in V:\n",
    "                if state not in mdp.terminal_states:\n",
    "                    V[state] = mdp.result(state, policy[state]) + V[tuple(map(sum, zip(policy[state], state)))]* mdp.gamma\n",
    "\n",
    "            # policy improvement\n",
    "            for state in V:\n",
    "                if state not in mdp.terminal_states:\n",
    "                    old_best = V[state]\n",
    "                    for action in mdp.actions(state):\n",
    "                        action_result = mdp.result(state, action) + V[tuple(map(sum, zip(action, state)))] * mdp.gamma\n",
    "                        if action_result > old_best:\n",
    "                            policy[state] = action\n",
    "                            old_best = action_result\n",
    "                            converged = False\n",
    "        for state in mdp.terminal_states:\n",
    "            V.pop(state)\n",
    "            policy.pop(state)\n",
    "            \n",
    "        print(\"Converged in \" + str(iterations) + \" iterations\")\n",
    "        self.V = V\n",
    "        self.policy = policy\n",
    "        self.mdp = mdp\n",
    "        \n",
    "    def policy_iteration(self, start):\n",
    "        policies = {}\n",
    "        state = start\n",
    "        while state not in self.mdp.terminal_states:\n",
    "            policies[state] = self.policy[state]\n",
    "            state = tuple(map(sum, zip(self.policy[state], state)))\n",
    "        return policies"
   ]
  },
  {
   "cell_type": "code",
   "execution_count": 6,
   "metadata": {},
   "outputs": [
    {
     "name": "stdout",
     "output_type": "stream",
     "text": [
      "Converged in 4 iterations\n",
      "Path and policy from (2,2,1): {(2, 2, 1): (-1, 0, 0), (1, 2, 1): (0, -1, 0), (1, 1, 1): (0, 0, -1)}\n",
      "Path and policy from (0,2,1): {(0, 2, 1): (1, 0, 0), (1, 2, 1): (0, -1, 0), (1, 1, 1): (0, 0, -1)}\n",
      "Path and policy from (2,0,1): {(2, 0, 1): (0, 1, 0), (2, 1, 1): (-1, 0, 0), (1, 1, 1): (0, 0, -1)}\n",
      "Path and policy from (2,2,2): {(2, 2, 2): (0, -1, 0), (2, 1, 2): (-1, 0, 0), (1, 1, 2): (0, 0, -1), (1, 1, 1): (0, 0, -1)}\n",
      "Converged in 7 iterations\n",
      "Path and policy from (4,4,4): {(4, 4, 4): (0, -1, 0), (4, 3, 4): (0, -1, 0), (4, 2, 4): (-1, 0, 0), (3, 2, 4): (0, 0, -1), (3, 2, 3): (0, 0, -1), (3, 2, 2): (-1, 0, 0), (2, 2, 2): (0, 0, -1), (2, 2, 1): (0, 0, -1)}\n"
     ]
    }
   ],
   "source": [
    "mdp = MDPLanding(2)\n",
    "pi = PI(mdp)\n",
    "print(\"Path and policy from (2,2,1): \" + str(pi.policy_iteration((2,2,1))))\n",
    "print(\"Path and policy from (0,2,1): \" + str(pi.policy_iteration((0,2,1))))\n",
    "print(\"Path and policy from (2,0,1): \" + str(pi.policy_iteration((2,0,1))))\n",
    "print(\"Path and policy from (2,2,2): \" + str(pi.policy_iteration((2,2,2))))\n",
    "mdp4 = MDPLanding(4)\n",
    "pi4 = PI(mdp4)\n",
    "print(\"Path and policy from (4,4,4): \" + str(pi4.policy_iteration((4,4,4))))"
   ]
  },
  {
   "cell_type": "markdown",
   "metadata": {},
   "source": [
    "The above results demonstraights the ability of this method to converge to the optimal path in few iterations for a small sample space. The paths found have no issue passing by the terminal states with -1 utility to reach the middle and then the optimal finish. "
   ]
  },
  {
   "cell_type": "markdown",
   "metadata": {},
   "source": [
    "#### Part C\n",
    "\n",
    "Code up a **Q-learning** agent/algorithm to learn how to land the drone. You can do this however you like, as long as you use the MDP class structure defined above.  \n",
    "\n",
    "Your code should include some kind of a wrapper to run many trials to train the agent and learn the Q values.  You also do not need to have a separate function for the actual \"agent\"; your code can just be a \"for\" loop within which you are refining your estimate of the Q values.\n",
    "\n",
    "From each training trial, save the cumulative discounted reward (utility) over the course of that episode. That is, add up all of $\\gamma^t R(s_t)$ where the drone is in state $s_t$ during time step $t$, for the entire sequence. We refer to this as \"cumulative reward\" because we usually refer to \"utility\" as the utility *under an optimal policy*.\n",
    "\n",
    "Some guidelines:\n",
    "* The drone should initialize in a random non-terminal state for each new training episode.\n",
    "* The training episodes should be limited to 50 time steps, even if the drone has not yet landed. If the drone lands (in a terminal state), the training episode is over.\n",
    "* You may use whatever learning rate $\\alpha$ you decide is appropriate, and gives good results.\n",
    "* There are many forms of Q-learning. You can use whatever you would like, subject to the reliability targets in Part D below.\n",
    "* Your code should return:\n",
    "  * The learned Q values associated with each state-action pair.\n",
    "  * The cumulative reward for each training trial. \n",
    "  * Anything else that might be useful in the ensuing analysis."
   ]
  },
  {
   "cell_type": "code",
   "execution_count": 7,
   "metadata": {},
   "outputs": [],
   "source": [
    "# Your code here.\n",
    "\n",
    "class QLearner:\n",
    "    def __init__(self, mdp, episodes=50, gamma=0.999, alpha=0.9, epsilon=0.1):\n",
    "        self.mdp = mdp\n",
    "        self.episodes = episodes\n",
    "        self.gamma = gamma\n",
    "        self.alpha = alpha\n",
    "        self.epsilon = epsilon\n",
    "        self.starting_states = []\n",
    "        self.cumulativeRewards = []\n",
    "        \n",
    "        self.Q = {}\n",
    "        for state in self.mdp.states:\n",
    "            if state not in self.mdp.terminal_states:\n",
    "                self.starting_states.append(state)\n",
    "            self.Q[state] = {}\n",
    "            for action in self.mdp.actions(state):\n",
    "                self.Q[state][action] = 0\n",
    "        \n",
    "        for episode in range(episodes):\n",
    "            # get starting state from non-terminal states\n",
    "            state = self.starting_states[np.random.randint(len(self.starting_states))]\n",
    "            cumulativeReward = 0\n",
    "            while state not in self.mdp.terminal_states:\n",
    "                # implement epsilon-greedy algorithm to select current action with \n",
    "                # 1-epsilon probability, random otherwise from non-current action\n",
    "\n",
    "                # current action is maximum Q\n",
    "                action = max(self.Q[state], key=self.Q[state].get)\n",
    "                # explore\n",
    "                if (np.random.choice([0, 1], p=[1-epsilon, epsilon])):\n",
    "                    best = -np.Infinity\n",
    "                    a_best = 0\n",
    "                    for a in self.Q[state]:\n",
    "                        if (a != action) and (self.Q[state][a] > best): \n",
    "                            a_best = a\n",
    "                            best = self.Q[state][a]\n",
    "                    action = a_best\n",
    "                    \n",
    "                s_new = tuple(map(sum, zip(action, state)))\n",
    "                r = mdp.reward(s_new)\n",
    "                cumulativeReward += r\n",
    "                \n",
    "                # Update Q\n",
    "                bestNewQ = max(self.Q[s_new], key=self.Q[s_new].get)\n",
    "                self.Q[state][action] += self.alpha * (r + self.gamma * (self.Q[s_new][bestNewQ] - self.Q[state][action]))\n",
    "                state = s_new\n",
    "            self.cumulativeRewards.append(cumulativeReward)\n",
    "        \n",
    "    def QRewards(self):\n",
    "        return self.Q, self.cumulativeRewards"
   ]
  },
  {
   "cell_type": "code",
   "execution_count": 8,
   "metadata": {},
   "outputs": [
    {
     "name": "stdout",
     "output_type": "stream",
     "text": [
      "q:\n",
      "{(0, 0, 0): {(0, 0, 1): 0, (0, 1, 0): 0, (1, 0, 0): 0}, (0, 0, 1): {(0, 0, 1): -0.009000000000000001, (0, 0, -1): -0.9, (0, 1, 0): -0.009000000000000001, (1, 0, 0): 0.9778723750692464}, (0, 0, 2): {(0, 0, -1): 0.8532108985465542, (0, 1, 0): 0.8710894937734583, (1, 0, 0): -0.018000000000000002}, (0, 1, 0): {(0, 0, 1): 0, (0, -1, 0): 0, (0, 1, 0): 0, (1, 0, 0): 0}, (0, 1, 1): {(0, 0, 1): -0.009000000000000001, (0, 0, -1): -0.9, (0, -1, 0): -0.009000000000000001, (0, 1, 0): -0.009000000000000001, (1, 0, 0): 0.9908882758725389}, (0, 1, 2): {(0, 0, -1): -0.009908100000000001, (0, -1, 0): -0.018000000000000002, (0, 1, 0): -0.0170919, (1, 0, 0): 0.9809703976216692}, (0, 2, 0): {(0, 0, 1): 0, (0, -1, 0): 0, (1, 0, 0): 0}, (0, 2, 1): {(0, 0, 1): -0.018898854806439002, (0, 0, -1): -0.9, (0, -1, 0): 0.9772182067388219, (1, 0, 0): 0.9809707109682151}, (0, 2, 2): {(0, 0, -1): 0.9688733648189618, (0, -1, 0): -0.018000000000000002, (1, 0, 0): -0.018000000000000002}, (1, 0, 0): {(0, 0, 1): 0, (0, 1, 0): 0, (-1, 0, 0): 0, (1, 0, 0): 0}, (1, 0, 1): {(0, 0, 1): -0.009000000000000001, (0, 0, -1): -0.9, (0, 1, 0): 0.9909909793591701, (-1, 0, 0): 0.775095399978703, (1, 0, 0): 0}, (1, 0, 2): {(0, 0, -1): -0.009908100000000001, (0, 1, 0): 0.9809603602008806, (-1, 0, 0): -0.009000000000000001, (1, 0, 0): -0.0170919}, (1, 1, 0): {(0, 0, 1): 0, (0, -1, 0): 0, (0, 1, 0): 0, (-1, 0, 0): 0, (1, 0, 0): 0}, (1, 1, 1): {(0, 0, 1): -0.009000000000000001, (0, 0, -1): 1.0010010010010009, (0, -1, 0): -0.009000000000000001, (0, 1, 0): 0.9790485886954013, (-1, 0, 0): 0, (1, 0, 0): 0}, (1, 1, 2): {(0, 0, -1): 0.9909909909909896, (0, -1, 0): -0.009000000000000001, (0, 1, 0): -0.009000000000000001, (-1, 0, 0): -0.009000000000000001, (1, 0, 0): -0.0170919}, (1, 2, 0): {(0, 0, 1): 0, (0, -1, 0): 0, (-1, 0, 0): 0, (1, 0, 0): 0}, (1, 2, 1): {(0, 0, 1): -0.009000000000000001, (0, 0, -1): -0.9, (0, -1, 0): 0.9909909909908785, (-1, 0, 0): 0.9610672324631353, (1, 0, 0): 0}, (1, 2, 2): {(0, 0, -1): 0.9708929168810838, (0, -1, 0): -0.018000000000000002, (-1, 0, 0): -0.018000000000000002, (1, 0, 0): -0.0260919}, (2, 0, 0): {(0, 0, 1): 0, (0, 1, 0): 0, (-1, 0, 0): 0}, (2, 0, 1): {(0, 0, 1): -0.009000000000000001, (0, 0, -1): -0.9, (0, 1, 0): -0.009000000000000001, (-1, 0, 0): 0.9709835155442859}, (2, 0, 2): {(0, 0, -1): -0.009999727290000001, (0, 1, 0): -0.009908100000000001, (-1, 0, 0): 0.9606265773108511}, (2, 1, 0): {(0, 0, 1): 0, (0, -1, 0): 0, (0, 1, 0): 0, (-1, 0, 0): 0}, (2, 1, 1): {(0, 0, 1): -0.009000000000000001, (0, 0, -1): -0.9, (0, -1, 0): -0.009000000000000001, (0, 1, 0): -0.009000000000000001, (-1, 0, 0): 0.8909999990244198}, (2, 1, 2): {(0, 0, -1): -0.009908100000000001, (0, -1, 0): -0.0170919, (0, 1, 0): -0.025275427290000003, (-1, 0, 0): 0.9709021724954076}, (2, 2, 0): {(0, 0, 1): 0, (0, -1, 0): 0, (-1, 0, 0): 0}, (2, 2, 1): {(0, 0, 1): -0.018000000000000002, (0, 0, -1): -0.9, (0, -1, 0): -0.009908100000000001, (-1, 0, 0): 0.9708089676556737}, (2, 2, 2): {(0, 0, -1): -0.0189081, (0, -1, 0): -0.0189081, (-1, 0, 0): -0.019806954806439}}\n",
      "\n",
      "r:\n",
      "[-1.18, -1.05, -1.02, 1, -1.13, -1.03, -1.07, -1.01, 1, 0.94, 0.98, 1, 0.99, -1.01, 0.95, 0.99, 0.91, 0.94, 0.98, 0.98, 0.99, 0.95, 0.9299999999999999, 1, 0.98, 0.98, 0.98, 0.96, 0.97, 0.95, 0.97, 0.98, 0.97, 0.96, 0.99, 0.99, 0.99, 0.97, 1, 0.98, 0.98, 0.97, 0.9299999999999999, 0.99, 0.99, 0.98, 0.97, 0.97, 0.98, 0.96]\n"
     ]
    }
   ],
   "source": [
    "q, r = QLearner(mdp).QRewards()\n",
    "print(\"q:\\n\" + str(q))\n",
    "print(\"\\nr:\\n\" + str(r))"
   ]
  },
  {
   "cell_type": "markdown",
   "metadata": {},
   "source": [
    "#### Part D\n",
    "\n",
    "Initialize the $L=10$ environment (so that the landing pad is at $(5,5,0)$). Run some number of training trials to train the drone.\n",
    "\n",
    "**How do I know if my drone is learned enough?**  If you take the mean cumulative reward across the last 5000 training trials, it should be around 0.80. This means at least about 10,000 (but probably more) training episodes will be necessary. It will take a few seconds on your computer, so start small to test your code.\n",
    "\n",
    "**Then:** Compute block means of cumulative reward from all of your training trials. Use blocks of 500 training trials. This means you need to create some kind of array-like structure such that its first element is the mean of the first 500 trials' cumulative rewards; its second element is the mean of the 501-1000th trials' cumulative rewards; and so on. Make a plot of the block mean rewards as the training progresses. It should increase from about -0.5 initially to somewhere around +0.8.\n",
    "\n",
    "**And:** Print to the screen the mean of the last 5000 trials' cumulative rewards, to verify that it is indeed about 0.80."
   ]
  },
  {
   "cell_type": "code",
   "execution_count": 9,
   "metadata": {},
   "outputs": [
    {
     "name": "stdout",
     "output_type": "stream",
     "text": [
      "Mean of last 5000 episodes: 0.8727440000000001\n"
     ]
    }
   ],
   "source": [
    "# Your code here.\n",
    "\n",
    "mdp10 = MDPLanding(10)\n",
    "q, r = QLearner(mdp10, episodes=10000).QRewards()\n",
    "print(\"Mean of last 5000 episodes: \" + str(np.sum(r[5000:])/len(r[5000:])))"
   ]
  },
  {
   "cell_type": "code",
   "execution_count": 10,
   "metadata": {},
   "outputs": [
    {
     "data": {
      "text/plain": [
       "Text(0, 0.5, 'Average Cumulative Reward')"
      ]
     },
     "execution_count": 10,
     "metadata": {},
     "output_type": "execute_result"
    },
    {
     "data": {
      "image/png": "[encoded data removed]",
      "text/plain": [
       "<Figure size 432x288 with 1 Axes>"
      ]
     },
     "metadata": {
      "needs_background": "light"
     },
     "output_type": "display_data"
    }
   ],
   "source": [
    "blockMeanRewards = []\n",
    "for i in range(len(r) // 500):\n",
    "    blockMeanRewards.append(np.sum(r[i*500:(i+1)*500]) / len(r[i*500:(i+1)*500]))\n",
    "    \n",
    "plt.plot(np.arange(len(blockMeanRewards)), blockMeanRewards)\n",
    "plt.xlabel(\"Block\")\n",
    "plt.ylabel(\"Average Cumulative Reward\")"
   ]
  },
  {
   "cell_type": "markdown",
   "metadata": {},
   "source": [
    "#### Part E\n",
    "\n",
    "**Question 1:** Why does the cumulative reward start off around -0.5 at the beginning of the training?\n",
    "\n",
    "The cumulative average reward begins around -0.5 for the first block of training because of the size of the sample space. We are contending with a 10x10x10 grid meaning 1000 possible states. While only 1/9 of these are starting states, many will still be unexplored after the end of training. Based on the way Q accumulates from previous iterations, we will still be directed to the terminal states for a lot of states where we have too few iterations to have sufficiently explored. However, we will still reach the +1 terminal state often as well as we begin in previously explored states or transition to them throughout an episode.\n",
    "\n",
    "**Question 2:** Why will it be difficult for us to train the drone to reliably obtain rewards much greater than about 0.8?\n",
    "\n",
    "It is difficult to reliably get rewards all that much greater than the limit we can see in the above plot because of the default rewards for passive states. Depending on the starting state, we will have no choice to accumulate at least some of these default rewards at each states. The reduciton from 1 to \\~0.8 is a consequence of the average path the drone has to follow."
   ]
  },
  {
   "cell_type": "markdown",
   "metadata": {},
   "source": [
    "#### Part F\n",
    "Choose three other reward structures, including the terminal rewards and the living rewards, and rerun your policy iteration and Q-learning algorithms with those reward structures. Write a paragraph or two describing the reward structures that you selected, what impact you expected the changes to have on your results, and what changes actually happened. If there was a difference in what you expected and what actually happened, reflect on why there was a difference. "
   ]
  },
  {
   "cell_type": "code",
   "execution_count": 12,
   "metadata": {
    "scrolled": true
   },
   "outputs": [
    {
     "name": "stdout",
     "output_type": "stream",
     "text": [
      "Mean of last 5000 episodes: 8.6829\n"
     ]
    },
    {
     "data": {
      "text/plain": [
       "Text(0, 0.5, 'Average Cumulative Reward')"
      ]
     },
     "execution_count": 12,
     "metadata": {},
     "output_type": "execute_result"
    },
    {
     "data": {
      "image/png": "[encoded data removed]",
      "text/plain": [
       "<Figure size 432x288 with 1 Axes>"
      ]
     },
     "metadata": {
      "needs_background": "light"
     },
     "output_type": "display_data"
    }
   ],
   "source": [
    "# Scale success reward, failure reward, and default reward by 10.\n",
    "\n",
    "mdp10 = MDPLanding(10, success_reward=10,failure_reward=-10, default_reward=-0.1)\n",
    "q, r = QLearner(mdp10, episodes=10000).QRewards()\n",
    "print(\"Mean of last 5000 episodes: \" + str(np.sum(r[5000:])/len(r[5000:])))\n",
    "\n",
    "blockMeanRewards = []\n",
    "for i in range(len(r) // 500):\n",
    "    blockMeanRewards.append(np.sum(r[i*500:(i+1)*500]) / len(r[i*500:(i+1)*500]))\n",
    "    \n",
    "plt.plot(np.arange(len(blockMeanRewards)), blockMeanRewards)\n",
    "plt.xlabel(\"Block\")\n",
    "plt.ylabel(\"Average Cumulative Reward\")"
   ]
  },
  {
   "cell_type": "markdown",
   "metadata": {},
   "source": [
    "What I expected the above cell to show is that scaling all of the rewards by the same factor should not do anything to change the actual performance except that the cumulative rewards should too be scaled by 10. The algorithm is effectively operating identically as before and may as well have this factor added in after the fact. "
   ]
  },
  {
   "cell_type": "code",
   "execution_count": 14,
   "metadata": {},
   "outputs": [
    {
     "name": "stdout",
     "output_type": "stream",
     "text": [
      "Mean of last 5000 episodes: 9.869628\n"
     ]
    },
    {
     "data": {
      "text/plain": [
       "Text(0, 0.5, 'Average Cumulative Reward')"
      ]
     },
     "execution_count": 14,
     "metadata": {},
     "output_type": "execute_result"
    },
    {
     "data": {
      "image/png": "[encoded data removed]",
      "text/plain": [
       "<Figure size 432x288 with 1 Axes>"
      ]
     },
     "metadata": {
      "needs_background": "light"
     },
     "output_type": "display_data"
    }
   ],
   "source": [
    "# Scale success reward and failure reward but leave default reward unchanged\n",
    "\n",
    "mdp10 = MDPLanding(10, success_reward=10,failure_reward=-10, default_reward=-0.01)\n",
    "q, r = QLearner(mdp10, episodes=10000).QRewards()\n",
    "print(\"Mean of last 5000 episodes: \" + str(np.sum(r[5000:])/len(r[5000:])))\n",
    "\n",
    "blockMeanRewards = []\n",
    "for i in range(len(r) // 500):\n",
    "    blockMeanRewards.append(np.sum(r[i*500:(i+1)*500]) / len(r[i*500:(i+1)*500]))\n",
    "    \n",
    "plt.plot(np.arange(len(blockMeanRewards)), blockMeanRewards)\n",
    "plt.xlabel(\"Block\")\n",
    "plt.ylabel(\"Average Cumulative Reward\")"
   ]
  },
  {
   "cell_type": "markdown",
   "metadata": {},
   "source": [
    "Admittedly, the above result caught me off guard. I did not really expect there to be such a drastic increase in the cumulative rewards nor did I think the algorithm would so quickly move past finding mostly negative rewards. What seems to be happening is that the agent feels far more at liberty to explore rather than committing to ending up at a negative terminal state. This is because the loss for each step of exploration and increase in the path length does little to reduce the total reward on account of the accumulated default penalty. Thus, very rapidly, the optimal move at each state tends to get revealed within the large amount of episodes. "
   ]
  },
  {
   "cell_type": "code",
   "execution_count": 15,
   "metadata": {},
   "outputs": [
    {
     "name": "stdout",
     "output_type": "stream",
     "text": [
      "Mean of last 5000 episodes: -0.27406000000000014\n"
     ]
    },
    {
     "data": {
      "text/plain": [
       "Text(0, 0.5, 'Average Cumulative Reward')"
      ]
     },
     "execution_count": 15,
     "metadata": {},
     "output_type": "execute_result"
    },
    {
     "data": {
      "image/png": "[encoded data removed]",
      "text/plain": [
       "<Figure size 432x288 with 1 Axes>"
      ]
     },
     "metadata": {
      "needs_background": "light"
     },
     "output_type": "display_data"
    }
   ],
   "source": [
    "# increase only the default reward\n",
    "\n",
    "mdp10 = MDPLanding(10, success_reward=1,failure_reward=-1, default_reward=-0.1)\n",
    "q, r = QLearner(mdp10, episodes=10000).QRewards()\n",
    "print(\"Mean of last 5000 episodes: \" + str(np.sum(r[5000:])/len(r[5000:])))\n",
    "\n",
    "blockMeanRewards = []\n",
    "for i in range(len(r) // 500):\n",
    "    blockMeanRewards.append(np.sum(r[i*500:(i+1)*500]) / len(r[i*500:(i+1)*500]))\n",
    "    \n",
    "plt.plot(np.arange(len(blockMeanRewards)), blockMeanRewards)\n",
    "plt.xlabel(\"Block\")\n",
    "plt.ylabel(\"Average Cumulative Reward\")"
   ]
  },
  {
   "cell_type": "markdown",
   "metadata": {},
   "source": [
    "The above cell is interesting and shows roughly what I expected considering the size of the sample space. By making the default reward -0.1, there is substantial penalty for traversing any state where there is not a positive terminal reward. In a 10x10x10 cube, There are many states (300 ish out of 1000) for which the optimal path requires traversing at least 10 of these regardless so the cumulative reward must, by construction, be negative. It seems that even with the states for which the path is short enough that there is a positive reward, the average is still negative."
   ]
  },
  {
   "cell_type": "code",
   "execution_count": null,
   "metadata": {},
   "outputs": [],
   "source": []
  }
 ],
 "metadata": {
  "kernelspec": {
   "display_name": "Python 3 (ipykernel)",
   "language": "python",
   "name": "python3"
  },
  "language_info": {
   "codemirror_mode": {
    "name": "ipython",
    "version": 3
   },
   "file_extension": ".py",
   "mimetype": "text/x-python",
   "name": "python",
   "nbconvert_exporter": "python",
   "pygments_lexer": "ipython3",
   "version": "3.9.7"
  }
 },
 "nbformat": 4,
 "nbformat_minor": 2
}
