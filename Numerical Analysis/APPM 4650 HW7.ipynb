{
 "cells": [
  {
   "cell_type": "code",
   "execution_count": 1,
   "metadata": {},
   "outputs": [],
   "source": [
    "import scipy.special as sciSp\n",
    "import numpy as np\n",
    "import matplotlib.pyplot as plt\n",
    "\n",
    "\n",
    "# 1) a) \n",
    "\n",
    "# f is Runge function, g is Runge-with-correction to put it in usuable form\n",
    "f = lambda x: 1/(1+x**2)\n",
    "g = lambda x: np.exp(x)/(1+x**2)"
   ]
  },
  {
   "cell_type": "code",
   "execution_count": 2,
   "metadata": {},
   "outputs": [],
   "source": [
    "# select order of quadrature\n",
    "n = 100\n",
    "roots,weights,mu=sciSp.roots_laguerre(n,mu=True)"
   ]
  },
  {
   "cell_type": "code",
   "execution_count": 3,
   "metadata": {},
   "outputs": [
    {
     "name": "stdout",
     "output_type": "stream",
     "text": [
      "I of e^(-x^2+x)/(2*pi)^1/2 from 0 -> infinity (n=100): 0.5000000000000008\n",
      "error for I Runge function (n=6): 0.10380313749477255\n",
      "error for I Runge function (n=11): 0.050597059405046885\n",
      "error for I Runge function (n=51): 0.010280123858014356\n",
      "error for I Runge function (n=101): 0.005108588204004061\n",
      "error for I Runge function (n=185): 0.0027617962438073462\n"
     ]
    },
    {
     "data": {
      "text/plain": [
       "[0.423310825130748,\n",
       " 0.04224494092632369,\n",
       " 0.02149036017915984,\n",
       " 0.014308940309912366,\n",
       " 0.010711861670055889,\n",
       " 0.008553794112730717,\n",
       " 0.007116623284831647,\n",
       " 0.006091379719667334,\n",
       " 0.005323431706160342,\n",
       " 0.0047268665027546675,\n",
       " 0.004250155526280608,\n",
       " 0.00386052753830457,\n",
       " 0.0035361505068056687,\n",
       " 0.0032619213237694566,\n",
       " 0.0030270602928346158,\n",
       " 0.00282366827533842]"
      ]
     },
     "execution_count": 3,
     "metadata": {},
     "output_type": "execute_result"
    }
   ],
   "source": [
    "def Laguerre(n,func):\n",
    "    roots,weights,mu=sciSp.roots_laguerre(n,mu=True)\n",
    "    Ival = 0\n",
    "    for i in range(len(roots)):\n",
    "        Ival += weights[i]*func(roots[i])\n",
    "    return Ival\n",
    "\n",
    "# Test function of Gaussian distribution with e^x correction factor\n",
    "ftest = lambda x: np.exp(-x**2/2+x)/np.sqrt(2*np.pi)\n",
    "\n",
    "Itest = Laguerre(80,ftest)\n",
    "print(\"I of e^(-x^2+x)/(2*pi)^1/2 from 0 -> infinity (n=100): \" + str(Itest))\n",
    "\n",
    "err = []\n",
    "for i in range(1,186):\n",
    "    err.append(abs(2*Laguerre(i,g)-np.pi))\n",
    "print(\"error for I Runge function (n=6): \" + str(err[5]))\n",
    "print(\"error for I Runge function (n=11): \" + str(err[10]))\n",
    "print(\"error for I Runge function (n=51): \" + str(err[50]))\n",
    "print(\"error for I Runge function (n=101): \" + str(err[100]))\n",
    "print(\"error for I Runge function (n=185): \" + str(err[184]))\n",
    "err[::12]"
   ]
  },
  {
   "cell_type": "code",
   "execution_count": 4,
   "metadata": {},
   "outputs": [
    {
     "data": {
      "text/plain": [
       "[<matplotlib.lines.Line2D at 0x260c9f75a08>]"
      ]
     },
     "execution_count": 4,
     "metadata": {},
     "output_type": "execute_result"
    },
    {
     "data": {
      "image/png": "[encoded data removed]",
      "text/plain": [
       "<Figure size 432x288 with 1 Axes>"
      ]
     },
     "metadata": {
      "needs_background": "light"
     },
     "output_type": "display_data"
    }
   ],
   "source": [
    "plt.loglog(np.linspace(1,186,185),err)"
   ]
  },
  {
   "cell_type": "code",
   "execution_count": 75,
   "metadata": {},
   "outputs": [
    {
     "data": {
      "text/plain": [
       "[3.7028442978481735e-08,\n",
       " 1.0887464263475977e-08,\n",
       " 1.0309592290980163e-08,\n",
       " 2.681583133323784e-08,\n",
       " 3.900935663381233e-08,\n",
       " 4.7349329790336014e-08,\n",
       " 5.2339564238224057e-08,\n",
       " 5.449886808506221e-08,\n",
       " 5.4337801813630904e-08,\n",
       " 5.234138278353839e-08,\n",
       " 4.8956712905834365e-08,\n",
       " 4.458492552927851e-08,\n",
       " 3.9576806720731383e-08,\n",
       " 3.4231225409797617e-08]"
      ]
     },
     "execution_count": 75,
     "metadata": {},
     "output_type": "execute_result"
    }
   ],
   "source": [
    "# 1) b) \n",
    "\n",
    "g1b = lambda t: 2*np.exp(2*t)/(np.exp(2*t)-2*np.exp(t)+2)\n",
    "err = []\n",
    "for i in range(1,95):\n",
    "    err.append(abs(Laguerre(i,g1b)-np.pi))\n",
    "err[80:]"
   ]
  },
  {
   "cell_type": "code",
   "execution_count": 14,
   "metadata": {},
   "outputs": [
    {
     "name": "stdout",
     "output_type": "stream",
     "text": [
      "Our est: 0.31157333333333304 vs integrate.dblquad: 0.31157333333333304\n",
      "Our est: 0.09970346666666655 vs integrate.tplquad: 0.09970346666666655\n",
      "Our est: 0.1935576632888887 vs integrate.nquad: 0.19355766328888868\n"
     ]
    }
   ],
   "source": [
    "# 2) a) \n",
    "from scipy.linalg import hilbert\n",
    "from scipy.integrate import quad\n",
    "import scipy.integrate as integ\n",
    "\n",
    "def quad1D(f,a,b):\n",
    "    Q,errEst = quad(f,a,b,epsabs=1.5e-8,epsrel=1.5e-8,limit=50)\n",
    "    return Q\n",
    "def quad2D(f,a1,b1,a2,b2):\n",
    "    def g(x):\n",
    "        def fas2(y):\n",
    "            return f(x,y)\n",
    "        Q = quad1D(fas2,a2,b2)\n",
    "        return Q\n",
    "    Q = quad1D(g,a1,b1)\n",
    "    return Q\n",
    "def quad3D(f,a1,b1,a2,b2,a3,b3):\n",
    "    def g1(x,y):\n",
    "        def fas3(z):\n",
    "            return f(x,y,z)\n",
    "        Q = quad1D(fas3,a3,b3)\n",
    "        return Q\n",
    "    Q = quad2D(g1,a1,b1,a2,b2)\n",
    "    return Q\n",
    "def quad4D(f,a1,b1,a2,b2,a3,b3,a4,b4):\n",
    "    def g2(x,y,z):\n",
    "        def fas4(q):\n",
    "            return f(x,y,z,q)\n",
    "        Q = quad1D(fas4,a4,b4)\n",
    "        return Q\n",
    "    Q = quad3D(g2,a1,b1,a2,b2,a3,b3)\n",
    "    return Q\n",
    "def f2D(x,y):\n",
    "    return x*y**2\n",
    "def f3D(x,y,z):\n",
    "    return x*y**2*z\n",
    "def f4D(x,y,z,q):\n",
    "    return x*y**2*z*q**2\n",
    "\n",
    "a1, b1 = 2.1, 2.5\n",
    "a2, b2 = 1.2, 1.4\n",
    "a3, b3 = 1.5, 1.7\n",
    "a4, b4 = 2, 2.4\n",
    "\n",
    "print(\"Our est: \" + str(quad2D(f2D,a1,b1,a2,b2)) + \" vs integrate.dblquad: \" + str(integ.dblquad(f2D,a2,b2,a1,b1)[0]))\n",
    "print(\"Our est: \" + str(quad3D(f3D,a1,b1,a2,b2,a3,b3)) + \" vs integrate.tplquad: \" + str(integ.tplquad(f3D,a1,b1,a2,b2,a3,b3)[0]))\n",
    "print(\"Our est: \" + str(quad4D(f4D,a1,b1,a2,b2,a3,b3,a4,b4)) + \" vs integrate.nquad: \" + str(integ.nquad(f4D,[[a1,b1],[a2,b2],[a3,b3],[a4,b4]])[0]))\n"
   ]
  },
  {
   "cell_type": "code",
   "execution_count": 73,
   "metadata": {},
   "outputs": [
    {
     "name": "stdout",
     "output_type": "stream",
     "text": [
      "4D evaluates to: 1.6761617121244665\n",
      "time taken: 309.46875\n"
     ]
    }
   ],
   "source": [
    "# 2) b)\n",
    "\n",
    "from time import process_time\n",
    "\n",
    "t = process_time()\n",
    "f2b4D = lambda x1,x2,x3,x4: np.matmul(np.matrix.transpose(np.array([x1,x2,x3,x4])),np.matmul(np.array(hilbert(4)),np.array([x1,x2,x3,x4])))\n",
    "p4D = lambda x1,x2,x3,x4: (2*np.pi)**-2*np.exp(-0.5*(x1**2+x2**2+x3**2+x4**2))\n",
    "fint = lambda x1,x2,x3,x4: f2b4D(x1,x2,x3,x4)*p4D(x1,x2,x3,x4)\n",
    "fourD2b = quad4D(fint,-5,5,-5,5,-5,5,-5,5)\n",
    "print(\"4D evaluates to: \" + str(fourD2b))\n",
    "print(\"time taken: \" + str(process_time()-t))\n"
   ]
  },
  {
   "cell_type": "code",
   "execution_count": 32,
   "metadata": {},
   "outputs": [
    {
     "name": "stdout",
     "output_type": "stream",
     "text": [
      "3D evaluates to: 1.533307899800628\n",
      "time taken: 6.828125\n"
     ]
    }
   ],
   "source": [
    "t = process_time()\n",
    "f2b3D = lambda x1,x2,x3: np.matmul(np.matrix.transpose(np.array([x1,x2,x3])),np.matmul(np.array(hilbert(3)),np.array([x1,x2,x3])))\n",
    "p3D = lambda x1,x2,x3: (2*np.pi)**(-1.5)*np.exp(-0.5*(x1**2+x2**2+x3**2))\n",
    "fint3 = lambda x1,x2,x3: f2b3D(x1,x2,x3)*p3D(x1,x2,x3)\n",
    "\n",
    "print(\"3D evaluates to: \" + str(quad3D(fint3,-5,5,-5,5,-5,5)))\n",
    "print(\"time taken: \" + str(process_time()-t))"
   ]
  },
  {
   "cell_type": "code",
   "execution_count": 33,
   "metadata": {},
   "outputs": [
    {
     "name": "stdout",
     "output_type": "stream",
     "text": [
      "2D evaluates to: 1.3333119816098895\n",
      "time taken: 0.15625\n"
     ]
    }
   ],
   "source": [
    "t = process_time()\n",
    "f2b2D = lambda x1,x2: np.matmul(np.matrix.transpose(np.array([x1,x2])),np.matmul(np.array(hilbert(2)),np.array([x1,x2])))\n",
    "p2D = lambda x1,x2: (2*np.pi)**(-1)*np.exp(-0.5*(x1**2+x2**2))\n",
    "fint2 = lambda x1,x2: f2b2D(x1,x2)*p2D(x1,x2)\n",
    "\n",
    "print(\"2D evaluates to: \" + str(quad2D(fint2,-5,5,-5,5)))\n",
    "print(\"time taken: \" + str(process_time()-t))"
   ]
  },
  {
   "cell_type": "code",
   "execution_count": 34,
   "metadata": {},
   "outputs": [
    {
     "name": "stdout",
     "output_type": "stream",
     "text": [
      "1D evaluates to: 0.999984559501709\n",
      "time taken: 0.015625\n"
     ]
    }
   ],
   "source": [
    "t = process_time()\n",
    "f2b1D = lambda x1: np.matmul(np.matrix.transpose(np.array([x1])),np.matmul(np.array(hilbert(1)),np.array([x1])))\n",
    "p1D = lambda x1: (2*np.pi)**(-.5)*np.exp(-0.5*(x1**2))\n",
    "fint1 = lambda x1: f2b1D(x1)*p1D(x1)\n",
    "\n",
    "print(\"1D evaluates to: \" + str(quad1D(fint1,-5,5)))\n",
    "print(\"time taken: \" + str(process_time()-t))"
   ]
  },
  {
   "cell_type": "code",
   "execution_count": 71,
   "metadata": {},
   "outputs": [],
   "source": [
    "# 2) c) \n",
    "\n",
    "def monteCarlo(dim, n):\n",
    "    tot = 0;\n",
    "    vals = [0]*n\n",
    "    dist = np.random.randn(dim,n)\n",
    "    A = hilbert(dim)\n",
    "    for i in range(n):\n",
    "        x = [0]*dim\n",
    "        for j in range(dim):\n",
    "            x[j]=(dist[j][i])\n",
    "        f = np.matmul(np.array(x).T,np.matmul(np.array(A),np.array(x)))\n",
    "        vals[i] = f\n",
    "    return np.mean(vals)\n",
    "\n"
   ]
  },
  {
   "cell_type": "code",
   "execution_count": 74,
   "metadata": {},
   "outputs": [
    {
     "name": "stdout",
     "output_type": "stream",
     "text": [
      "Monty Carlo for d=1: 1.0016172126918845\n",
      "Monty Carlo for d=2: 1.3347487782402558\n",
      "Monty Carlo for d=3: 1.5330974098898897\n",
      "Monty Carlo for d=4: 1.6750642950440995\n",
      "Time for d=4: 9.046875 and error: 0.0010974170803670358\n",
      "Monty Carlo for d=12: 2.2230747617375624\n",
      "Time for d=12: 13.421875 and error: 0.0012780769104376866\n",
      "Monty Carlo for d=100: 3.2848628110947344\n",
      "Time for d=100: 71.0 and error: 0.000520621792734488\n"
     ]
    }
   ],
   "source": [
    "print(\"Monty Carlo for d=1: \" + str(monteCarlo(1,10**6)))\n",
    "print(\"Monty Carlo for d=2: \" + str(monteCarlo(2,10**6)))\n",
    "print(\"Monty Carlo for d=3: \" + str(monteCarlo(3,10**6)))\n",
    "t = process_time()\n",
    "mC4 = monteCarlo(4,10**6)\n",
    "print(\"Monty Carlo for d=4: \" + str(mC4))\n",
    "print(\"Time for d=4: \" + str(process_time()-t) + \" and error: \" + str(abs(mC4-fourD2b)))\n",
    "t = process_time()\n",
    "mC12 = monteCarlo(12,10**6)\n",
    "print(\"Monty Carlo for d=12: \" + str(mC12))\n",
    "print(\"Time for d=12: \" + str(process_time()-t) + \" and error: \" + str(abs(mC12-2.224352838648)))\n",
    "t = process_time()\n",
    "mC100 = monteCarlo(100,10**6)\n",
    "print(\"Monty Carlo for d=100: \" + str(mC100))\n",
    "print(\"Time for d=100: \" + str(process_time()-t) + \" and error: \" + str(abs(mC100-3.284342189302)))"
   ]
  }
 ],
 "metadata": {
  "kernelspec": {
   "display_name": "Python 3",
   "language": "python",
   "name": "python3"
  },
  "language_info": {
   "codemirror_mode": {
    "name": "ipython",
    "version": 3
   },
   "file_extension": ".py",
   "mimetype": "text/x-python",
   "name": "python",
   "nbconvert_exporter": "python",
   "pygments_lexer": "ipython3",
   "version": "3.7.6"
  }
 },
 "nbformat": 4,
 "nbformat_minor": 4
}
