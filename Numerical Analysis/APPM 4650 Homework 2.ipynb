{
 "cells": [
  {
   "cell_type": "code",
   "execution_count": 178,
   "metadata": {},
   "outputs": [],
   "source": [
    "import sympy as sym\n",
    "import numpy as np\n",
    "from sympy import init_printing\n",
    "import matplotlib.pyplot as plt\n",
    "\n",
    "init_printing()\n",
    "\n",
    "import math\n",
    "x = sym.Symbol('x')"
   ]
  },
  {
   "cell_type": "code",
   "execution_count": 179,
   "metadata": {},
   "outputs": [
    {
     "data": {
      "image/png": "[encoded data removed]",
      "text/latex": [
       "$\\displaystyle x^{\\frac{3}{2}} - \\frac{x^{\\frac{5}{2}}}{6} + \\frac{x^{\\frac{7}{2}}}{120} - \\frac{x^{\\frac{9}{2}}}{5040} + O\\left(x^{5}\\right)$"
      ],
      "text/plain": [
       "        5/2    7/2    9/2        \n",
       " 3/2   x      x      x       ⎛ 5⎞\n",
       "x    - ──── + ──── - ──── + O⎝x ⎠\n",
       "        6     120    5040        "
      ]
     },
     "execution_count": 179,
     "metadata": {},
     "output_type": "execute_result"
    }
   ],
   "source": [
    "# 1)b)\n",
    "sym.series(x*sym.sin(sym.sqrt(x)), x, x0=0, n=5)"
   ]
  },
  {
   "cell_type": "code",
   "execution_count": 180,
   "metadata": {},
   "outputs": [
    {
     "data": {
      "image/png": "[encoded data removed]",
      "text/latex": [
       "$\\displaystyle 1 - x + \\frac{x^{2}}{2} - \\frac{x^{3}}{6} + \\frac{x^{4}}{24} + O\\left(x^{5}\\right)$"
      ],
      "text/plain": [
       "         2    3    4        \n",
       "        x    x    x     ⎛ 5⎞\n",
       "1 - x + ── - ── + ── + O⎝x ⎠\n",
       "        2    6    24        "
      ]
     },
     "execution_count": 180,
     "metadata": {},
     "output_type": "execute_result"
    }
   ],
   "source": [
    "sym.series(sym.exp(-x), x, x0=0, n=5)"
   ]
  },
  {
   "cell_type": "code",
   "execution_count": 181,
   "metadata": {},
   "outputs": [],
   "source": [
    "# 2\n",
    "def bisect(f, a, b, tol):\n",
    "    if f(a)*f(b) >= 0:\n",
    "        print(\"No guarenteed root\\n\")\n",
    "        return\n",
    "    p = a+(b-a)/2\n",
    "    while ((b-a) >= tol):\n",
    "        fp = f(p)\n",
    "        if (fp == 0):\n",
    "            break\n",
    "        if (f(a)*fp < 0):\n",
    "            b = p\n",
    "        else:\n",
    "            a = p\n",
    "        p = a+(b-a)/2\n",
    "    print(\"The root is : \", \"%.10f\"%p)"
   ]
  },
  {
   "cell_type": "code",
   "execution_count": 182,
   "metadata": {},
   "outputs": [],
   "source": [
    "# 3c\n",
    "# Define a new version of bisection method to keep track of guesses\n",
    "def bisect3(f, a, b, tol, guesses):\n",
    "    if f(a)*f(b) >= 0:\n",
    "        print(\"No guarenteed root\\n\")\n",
    "        return\n",
    "    p = a+(b-a)/2\n",
    "    while ((b-a) >= tol):\n",
    "        guesses.append(\"%.8f\"%p)\n",
    "        fp = f(p)\n",
    "        if (fp == 0):\n",
    "            break\n",
    "        if (f(a)*fp < 0):\n",
    "            b = p\n",
    "        else:\n",
    "            a = p\n",
    "        p = a+(b-a)/2\n",
    "    print(\"The root is : \", \"%.10f\"%p)"
   ]
  },
  {
   "cell_type": "code",
   "execution_count": 183,
   "metadata": {},
   "outputs": [
    {
     "name": "stdout",
     "output_type": "stream",
     "text": [
      "The root is :  0.8878622115\n",
      "Array of Guesses :  ['1.57079633', '0.78539816', '1.17809725', '0.98174770', '0.88357293', '0.93266032', '0.90811663', '0.89584478', '0.88970886', '0.88664090', '0.88817488', '0.88740789', '0.88779138', '0.88798313', '0.88788725', '0.88783932', '0.88786329', '0.88785130', '0.88785729', '0.88786029', '0.88786179', '0.88786254', '0.88786216', '0.88786235', '0.88786226', '0.88786221', '0.88786223', '0.88786222', '0.88786222', '0.88786221', '0.88786221', '0.88786221']\n"
     ]
    }
   ],
   "source": [
    "f = lambda x: 2*x-1-sym.sin(x)\n",
    "guesses = []\n",
    "\n",
    "bisect3(f, 0, math.pi, 0.000000001, guesses)\n",
    "print(\"Array of Guesses : \", guesses)"
   ]
  },
  {
   "cell_type": "code",
   "execution_count": 184,
   "metadata": {},
   "outputs": [],
   "source": [
    "f1 = lambda x: (x-5)**9\n",
    "#f2 = lambda x: x**9 - 45*x**8 + 900*x**7 - 10500*x**6 + 78750*x**5 - 393750*x**4 + 1312500*x**3 - 2812500*x**2 + 3515625*x - 1953125\n",
    "p = np.poly((5, 5, 5, 5, 5, 5, 5, 5, 5))\n",
    "f2 = lambda x: np.polyval(p, x)"
   ]
  },
  {
   "cell_type": "code",
   "execution_count": 185,
   "metadata": {},
   "outputs": [
    {
     "name": "stdout",
     "output_type": "stream",
     "text": [
      "The root is :  5.0000268555\n",
      "['5.01000000', '4.91500000', '4.96250000', '4.98625000', '4.99812500', '5.00406250', '5.00109375', '4.99960938', '5.00035156', '4.99998047', '5.00016602', '5.00007324']\n",
      "The root is :  4.9875952148\n",
      "['5.01000000', '4.91500000', '4.96250000', '4.98625000', '4.99812500', '4.99218750', '4.98921875', '4.98773438', '4.98699219', '4.98736328', '4.98754883', '4.98764160']\n"
     ]
    }
   ],
   "source": [
    "g1 = []\n",
    "bisect3(f1, 4.82, 5.2, 0.0001, g1)\n",
    "print(g1)\n",
    "\n",
    "g2 = []\n",
    "bisect3(f2, 4.82, 5.2, 0.0001, g2)\n",
    "print(g2)"
   ]
  },
  {
   "cell_type": "code",
   "execution_count": 186,
   "metadata": {},
   "outputs": [],
   "source": [
    "# 3d\n",
    "x1 = np.arange(1,len(g1)+1)\n",
    "x2 = np.arange(1,len(g2)+1)\n",
    "err = lambda x: abs(x-5)/5\n",
    "g1err = [err(float(i)) for i in g1]\n",
    "g2err = [err(float(i)) for i in g2]"
   ]
  },
  {
   "cell_type": "code",
   "execution_count": 187,
   "metadata": {},
   "outputs": [
    {
     "data": {
      "image/png": "[encoded data removed]",
      "text/latex": [
       "$\\displaystyle \\left( -0.001, \\  0.03\\right)$"
      ],
      "text/plain": [
       "(-0.001, 0.03)"
      ]
     },
     "execution_count": 187,
     "metadata": {},
     "output_type": "execute_result"
    },
    {
     "data": {
      "image/png": "[encoded data removed]",
      "text/plain": [
       "<Figure size 432x288 with 1 Axes>"
      ]
     },
     "metadata": {
      "needs_background": "light"
     },
     "output_type": "display_data"
    }
   ],
   "source": [
    "plt.scatter(x1,g1err,marker=\"2\",s=100)\n",
    "plt.scatter(x2,g2err,marker=\"1\",s=100)\n",
    "plt.ylim(-0.001,0.03)"
   ]
  },
  {
   "cell_type": "markdown",
   "metadata": {},
   "source": [
    "The above plot represents the numerical error given in root calculation for the compact form (orange) and the expanded form (blue) of f(x)=(x-5)^9. We can see that for a time, the two are identical. They both slowly hone in on an approximate value identically in the bisection algorithm. At a point however, the expanded form diverges from the compact form due to a 'wrong' guess of where the true answer lies. This is a consequence of the imprecision of floating point numbers when subtracting nearly equal numbers. Each algorithm then becomes progressively more precise around a particular value with the compact form being the more accurate of the two. "
   ]
  },
  {
   "cell_type": "code",
   "execution_count": 188,
   "metadata": {},
   "outputs": [
    {
     "data": {
      "text/plain": [
       "[<matplotlib.lines.Line2D at 0x2ac99a92e88>]"
      ]
     },
     "execution_count": 188,
     "metadata": {},
     "output_type": "execute_result"
    },
    {
     "data": {
      "image/png": "[encoded data removed]",
      "text/plain": [
       "<Figure size 432x288 with 1 Axes>"
      ]
     },
     "metadata": {
      "needs_background": "light"
     },
     "output_type": "display_data"
    }
   ],
   "source": [
    "\n",
    "\n",
    "x = np.linspace(-1,3,100)\n",
    "gu1 = 2*np.minimum(x, 1-x)\n",
    "gu2 = 1.5*np.minimum(x, 1-x)\n",
    "gu3 = 1*np.minimum(x, 1-x)\n",
    "gu4 = .5*np.minimum(x, 1-x)\n",
    "gu5 = 0.1*np.minimum(x, 1-x)\n",
    "gu6 = 0.001*np.minimum(x, 1-x)\n",
    "\n",
    "plt.plot(x,gu1)\n",
    "plt.plot(x,gu2)\n",
    "plt.plot(x,gu3)\n",
    "plt.plot(x,gu4)\n",
    "plt.plot(x,gu5)\n",
    "plt.plot(x,gu6)\n"
   ]
  },
  {
   "cell_type": "code",
   "execution_count": 198,
   "metadata": {},
   "outputs": [
    {
     "data": {
      "text/plain": [
       "(array([1.32237e+05, 9.36850e+04, 2.40650e+04, 0.00000e+00, 0.00000e+00,\n",
       "        0.00000e+00, 0.00000e+00, 1.00000e+00, 5.13420e+04, 9.59910e+04,\n",
       "        1.02654e+05, 0.00000e+00, 0.00000e+00, 0.00000e+00, 0.00000e+00,\n",
       "        1.00000e+00, 0.00000e+00, 0.00000e+00, 0.00000e+00, 0.00000e+00,\n",
       "        0.00000e+00, 1.00000e+00, 0.00000e+00, 0.00000e+00, 0.00000e+00,\n",
       "        0.00000e+00, 1.00000e+00, 0.00000e+00, 0.00000e+00, 0.00000e+00,\n",
       "        0.00000e+00, 1.00000e+00, 0.00000e+00, 0.00000e+00, 0.00000e+00,\n",
       "        1.00000e+00, 0.00000e+00, 0.00000e+00, 1.00000e+00, 0.00000e+00,\n",
       "        1.00000e+00, 0.00000e+00, 1.00000e+00, 0.00000e+00, 1.00000e+00,\n",
       "        1.00000e+00, 1.00000e+00, 1.00000e+00, 1.00000e+00, 2.00000e+00,\n",
       "        3.00000e+00, 7.00000e+00, 3.00000e+00, 5.00000e+00, 2.00000e+00,\n",
       "        2.00000e+00, 1.00000e+00, 1.00000e+00, 1.00000e+00, 1.00000e+00,\n",
       "        0.00000e+00, 1.00000e+00, 0.00000e+00, 1.00000e+00, 0.00000e+00,\n",
       "        1.00000e+00, 0.00000e+00, 0.00000e+00, 1.00000e+00, 0.00000e+00,\n",
       "        0.00000e+00, 1.00000e+00, 0.00000e+00, 0.00000e+00, 0.00000e+00,\n",
       "        1.00000e+00, 0.00000e+00, 0.00000e+00, 0.00000e+00, 0.00000e+00,\n",
       "        1.00000e+00, 0.00000e+00, 0.00000e+00, 0.00000e+00, 0.00000e+00,\n",
       "        0.00000e+00, 1.00000e+00, 0.00000e+00, 0.00000e+00, 0.00000e+00,\n",
       "        1.16598e+05, 9.50850e+04, 3.83040e+04, 1.00000e+00, 0.00000e+00,\n",
       "        0.00000e+00, 0.00000e+00, 8.37300e+03, 9.42820e+04, 1.47333e+05]),\n",
       " array([0.495  , 0.49555, 0.4961 , 0.49665, 0.4972 , 0.49775, 0.4983 ,\n",
       "        0.49885, 0.4994 , 0.49995, 0.5005 , 0.50105, 0.5016 , 0.50215,\n",
       "        0.5027 , 0.50325, 0.5038 , 0.50435, 0.5049 , 0.50545, 0.506  ,\n",
       "        0.50655, 0.5071 , 0.50765, 0.5082 , 0.50875, 0.5093 , 0.50985,\n",
       "        0.5104 , 0.51095, 0.5115 , 0.51205, 0.5126 , 0.51315, 0.5137 ,\n",
       "        0.51425, 0.5148 , 0.51535, 0.5159 , 0.51645, 0.517  , 0.51755,\n",
       "        0.5181 , 0.51865, 0.5192 , 0.51975, 0.5203 , 0.52085, 0.5214 ,\n",
       "        0.52195, 0.5225 , 0.52305, 0.5236 , 0.52415, 0.5247 , 0.52525,\n",
       "        0.5258 , 0.52635, 0.5269 , 0.52745, 0.528  , 0.52855, 0.5291 ,\n",
       "        0.52965, 0.5302 , 0.53075, 0.5313 , 0.53185, 0.5324 , 0.53295,\n",
       "        0.5335 , 0.53405, 0.5346 , 0.53515, 0.5357 , 0.53625, 0.5368 ,\n",
       "        0.53735, 0.5379 , 0.53845, 0.539  , 0.53955, 0.5401 , 0.54065,\n",
       "        0.5412 , 0.54175, 0.5423 , 0.54285, 0.5434 , 0.54395, 0.5445 ,\n",
       "        0.54505, 0.5456 , 0.54615, 0.5467 , 0.54725, 0.5478 , 0.54835,\n",
       "        0.5489 , 0.54945, 0.55   ]),\n",
       " <a list of 100 Patch objects>)"
      ]
     },
     "execution_count": 198,
     "metadata": {},
     "output_type": "execute_result"
    },
    {
     "data": {
      "image/png": "[encoded data removed]",
      "text/plain": [
       "<Figure size 432x288 with 1 Axes>"
      ]
     },
     "metadata": {
      "needs_background": "light"
     },
     "output_type": "display_data"
    }
   ],
   "source": [
    "x0 = math.pi/6\n",
    "\n",
    "gmu1 = lambda x: 1.1*np.minimum(x, 1-x)\n",
    "gmu2 = lambda x: 1.5*np.minimum(x, 1-x)\n",
    "\n",
    "p1 = []\n",
    "p2 = []\n",
    "def fixedIter(g, x0, N, p):\n",
    "    for i in range(0,N):\n",
    "        p.append(x0)\n",
    "        x0 = g(x0)\n",
    "fixedIter(gmu1, x0, 10**6, p1)\n",
    "fixedIter(gmu2, x0, 10**6, p2)\n",
    "\n",
    "plt.hist(p1, bins = 100) # mu = 1.1"
   ]
  },
  {
   "cell_type": "code",
   "execution_count": 199,
   "metadata": {},
   "outputs": [
    {
     "data": {
      "text/plain": [
       "(array([ 6646.,  6542.,  6609.,  6635.,  6533.,  6630.,  6628.,  6710.,\n",
       "         6428.,  7041.,  7504.,  7453.,  7518.,  7591.,  7497.,  7551.,\n",
       "         7504.,  7516.,  7453.,  7558.,  7454.,  7363.,  7527.,  7445.,\n",
       "         7521.,  7578.,  7460.,  7475.,  7391.,  7431.,  7435.,  7528.,\n",
       "         7501.,  7426.,  7270.,  7381.,  7490.,  8197.,  9462.,  9557.,\n",
       "         9435.,  9267.,  9260.,  9368.,  9419.,  9378.,  9298.,  9327.,\n",
       "         9091.,  9093., 13697., 13584., 13423., 13496., 13344., 13146.,\n",
       "        13098., 13252., 13360., 13234., 13304., 13271., 13227., 13162.,\n",
       "        13721., 13612., 13825., 13679., 14034., 13969., 14090., 13957.,\n",
       "        13948., 14310., 14071., 11078., 10985., 11092., 11281., 11183.,\n",
       "        11146., 11151., 11227., 11332., 11175., 11160., 11125., 11340.,\n",
       "        11195., 11376., 11260., 11346., 11284., 10714.,  9844.,  9922.,\n",
       "         9897.,  9901.,  9861.,  9936.]),\n",
       " array([0.375  , 0.37875, 0.3825 , 0.38625, 0.39   , 0.39375, 0.3975 ,\n",
       "        0.40125, 0.405  , 0.40875, 0.4125 , 0.41625, 0.42   , 0.42375,\n",
       "        0.4275 , 0.43125, 0.435  , 0.43875, 0.4425 , 0.44625, 0.45   ,\n",
       "        0.45375, 0.4575 , 0.46125, 0.465  , 0.46875, 0.4725 , 0.47625,\n",
       "        0.48   , 0.48375, 0.4875 , 0.49125, 0.495  , 0.49875, 0.5025 ,\n",
       "        0.50625, 0.51   , 0.51375, 0.5175 , 0.52125, 0.525  , 0.52875,\n",
       "        0.5325 , 0.53625, 0.54   , 0.54375, 0.5475 , 0.55125, 0.555  ,\n",
       "        0.55875, 0.5625 , 0.56625, 0.57   , 0.57375, 0.5775 , 0.58125,\n",
       "        0.585  , 0.58875, 0.5925 , 0.59625, 0.6    , 0.60375, 0.6075 ,\n",
       "        0.61125, 0.615  , 0.61875, 0.6225 , 0.62625, 0.63   , 0.63375,\n",
       "        0.6375 , 0.64125, 0.645  , 0.64875, 0.6525 , 0.65625, 0.66   ,\n",
       "        0.66375, 0.6675 , 0.67125, 0.675  , 0.67875, 0.6825 , 0.68625,\n",
       "        0.69   , 0.69375, 0.6975 , 0.70125, 0.705  , 0.70875, 0.7125 ,\n",
       "        0.71625, 0.72   , 0.72375, 0.7275 , 0.73125, 0.735  , 0.73875,\n",
       "        0.7425 , 0.74625, 0.75   ]),\n",
       " <a list of 100 Patch objects>)"
      ]
     },
     "execution_count": 199,
     "metadata": {},
     "output_type": "execute_result"
    },
    {
     "data": {
      "image/png": "[encoded data removed]",
      "text/plain": [
       "<Figure size 432x288 with 1 Axes>"
      ]
     },
     "metadata": {
      "needs_background": "light"
     },
     "output_type": "display_data"
    }
   ],
   "source": [
    "plt.hist(p2, bins = 100) # mu = 1.5 "
   ]
  },
  {
   "cell_type": "code",
   "execution_count": null,
   "metadata": {},
   "outputs": [],
   "source": []
  }
 ],
 "metadata": {
  "kernelspec": {
   "display_name": "Python 3",
   "language": "python",
   "name": "python3"
  },
  "language_info": {
   "codemirror_mode": {
    "name": "ipython",
    "version": 3
   },
   "file_extension": ".py",
   "mimetype": "text/x-python",
   "name": "python",
   "nbconvert_exporter": "python",
   "pygments_lexer": "ipython3",
   "version": "3.7.6"
  }
 },
 "nbformat": 4,
 "nbformat_minor": 4
}
