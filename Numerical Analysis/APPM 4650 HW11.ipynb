{
 "cells": [
  {
   "cell_type": "code",
   "execution_count": 9,
   "metadata": {},
   "outputs": [],
   "source": [
    "# following code is adapted from: https://learnche.org/3E4/Assignment_2_-_2010_-_Solution/Bonus_question\n",
    "# 2) a)\n",
    "import numpy as np\n",
    "def forwardElim(A, b, n):\n",
    "    # iterate through all rows for current 'pivot' position\n",
    "    for pos in range(0, n-1):\n",
    "        # change all rows below current position based on k factor\n",
    "        for i in range(pos+1, n):\n",
    "            k = A[i,pos]/A[pos,pos]\n",
    "            for j in range(pos, n):\n",
    "                A[i,j] = A[i,j]-k*A[pos,j]\n",
    "            # account for b vector as well\n",
    "            b[i] = b[i]-k*b[pos]\n",
    "    return A, b\n",
    "def backSub(A, b, n):\n",
    "    x = np.zeros((n,1))\n",
    "    x[n-1] = b[n-1]/A[n-1, n-1]\n",
    "    #iterate from bottom up\n",
    "    for row in range(n-2, -1, -1):\n",
    "        sums = b[row]\n",
    "        for j in range(row+1, n):\n",
    "            sums = sums-A[row,j]*x[j]\n",
    "        x[row] = sums/A[row,row]\n",
    "    return x\n",
    "def gaussianElimination(A, b):\n",
    "    n = len(A)\n",
    "    A, b = forwardElim(A, b, n)\n",
    "    return backSub(A, b, n)"
   ]
  },
  {
   "cell_type": "code",
   "execution_count": 10,
   "metadata": {},
   "outputs": [],
   "source": [
    "# 2) b)\n",
    "A = []\n",
    "for i in range(10):\n",
    "    row = []\n",
    "    for j in range(10):\n",
    "        Aij = np.cos((i)*(j+.5)*np.pi/10)\n",
    "        row.append(Aij)\n",
    "    A.append(row)\n",
    "A = np.array(A)\n",
    "xtrue = [1,2,3,4,5,6,7,8,9,10]\n",
    "b = np.matmul(A,xtrue)"
   ]
  },
  {
   "cell_type": "code",
   "execution_count": 35,
   "metadata": {},
   "outputs": [
    {
     "name": "stdout",
     "output_type": "stream",
     "text": [
      "A=[[   1.      1.      1.      1.      1.      1.      1.      1.      1.\n",
      "     1.  ]\n",
      " [   0.     -0.1    -0.28   -0.53   -0.83   -1.14   -1.44   -1.69   -1.88\n",
      "    -1.98]\n",
      " [   0.      0.      0.1     0.47    1.22    2.4     3.88    5.42    6.7\n",
      "     7.42]\n",
      " [   0.      0.      0.     -0.24   -1.34   -4.14   -9.01  -15.32  -21.4\n",
      "   -25.16]\n",
      " [   0.      0.      0.      0.      0.8     5.05   16.35   35.58   57.57\n",
      "    72.54]\n",
      " [   0.      0.      0.      0.      0.     -3.16  -19.97  -61.45 -120.6\n",
      "  -165.99]\n",
      " [   0.      0.      0.      0.      0.      0.     11.88   67.68  177.18\n",
      "   275.96]\n",
      " [   0.      0.      0.      0.      0.      0.      0.    -34.26 -154.86\n",
      "  -294.56]\n",
      " [   0.      0.      0.      0.      0.      0.      0.      0.     56.96\n",
      "   165.3 ]\n",
      " [   0.      0.      0.      0.      0.      0.      0.      0.      0.\n",
      "   -31.96]]\n",
      "b=[   55.     -74.5    227.63  -662.31  1676.96 -3395.63  4978.8  -4613.41\n",
      "  2165.58  -319.62]\n"
     ]
    }
   ],
   "source": [
    "\n",
    "x = gaussianElimination(A,b)\n",
    "np.set_printoptions(precision=2,suppress=True)\n",
    "print(\"A=\"+str(A))\n",
    "print(\"b=\"+str(b))\n",
    "err = []\n",
    "for i in range(len(b)):\n",
    "    err.append(abs(xtrue[i]-x[i]))"
   ]
  },
  {
   "cell_type": "code",
   "execution_count": 12,
   "metadata": {},
   "outputs": [
    {
     "data": {
      "text/plain": [
       "[array([2.2346569e-12]),\n",
       " array([4.55901983e-12]),\n",
       " array([3.42348372e-12]),\n",
       " array([1.24078525e-12]),\n",
       " array([2.66453526e-13]),\n",
       " array([2.20268248e-13]),\n",
       " array([6.17284002e-13]),\n",
       " array([2.33590924e-12]),\n",
       " array([3.0002667e-12]),\n",
       " array([1.38378198e-12])]"
      ]
     },
     "execution_count": 12,
     "metadata": {},
     "output_type": "execute_result"
    }
   ],
   "source": [
    "np.set_printoptions(precision=8,suppress=False)\n",
    "err"
   ]
  },
  {
   "cell_type": "code",
   "execution_count": 27,
   "metadata": {},
   "outputs": [],
   "source": [
    "# 2) c)\n",
    "from numpy.random import default_rng\n",
    "\n",
    "Ac = default_rng().standard_normal((1000,1000))\n",
    "Ad = np.copy(Ac)\n",
    "xctrue = np.arange(1,1001)\n",
    "bc = np.matmul(Ac,xctrue)\n",
    "bd = np.copy(bc)"
   ]
  },
  {
   "cell_type": "code",
   "execution_count": 28,
   "metadata": {},
   "outputs": [
    {
     "name": "stdout",
     "output_type": "stream",
     "text": [
      "Time to complete: 283.62 seconds\n"
     ]
    }
   ],
   "source": [
    "import time\n",
    "start_time = time.time()\n",
    "x = gaussianElimination(Ac,bc)\n",
    "print(\"Time to complete: \" + str(format(time.time()-start_time, '.2f')) + \" seconds\")"
   ]
  },
  {
   "cell_type": "code",
   "execution_count": 29,
   "metadata": {},
   "outputs": [
    {
     "name": "stdout",
     "output_type": "stream",
     "text": [
      "8.439074100085481e-07\n"
     ]
    }
   ],
   "source": [
    "err = []\n",
    "for i in range(len(bc)):\n",
    "    err.append(abs(xctrue[i]-x[i]))\n",
    "print(np.linalg.norm(err))"
   ]
  },
  {
   "cell_type": "code",
   "execution_count": 30,
   "metadata": {},
   "outputs": [
    {
     "name": "stdout",
     "output_type": "stream",
     "text": [
      "Time to complete: 0.06 seconds\n"
     ]
    }
   ],
   "source": [
    "# 2) d)\n",
    "from scipy.linalg import solve\n",
    "start_time = time.time()\n",
    "x = solve(Ad,bd)\n",
    "print(\"Time to complete: \" + str(format(time.time()-start_time, '.2f')) + \" seconds\")"
   ]
  },
  {
   "cell_type": "code",
   "execution_count": 31,
   "metadata": {},
   "outputs": [
    {
     "name": "stdout",
     "output_type": "stream",
     "text": [
      "2.3730354337959856e-09\n"
     ]
    }
   ],
   "source": [
    "err = []\n",
    "for i in range(len(bd)):\n",
    "    err.append(abs(xctrue[i]-x[i]))\n",
    "print(np.linalg.norm(err))"
   ]
  },
  {
   "cell_type": "code",
   "execution_count": 42,
   "metadata": {},
   "outputs": [],
   "source": [
    "# 3) a)\n",
    "# i)\n",
    "def highest(A,b):\n",
    "    return solve(A,b)\n",
    "# ii)\n",
    "from scipy.linalg import lu_factor,lu_solve\n",
    "def LUpivot(A,b):\n",
    "    lu,piv = lu_factor(A)\n",
    "    return lu_solve((lu,piv),b)\n",
    "# iii)\n",
    "from scipy.linalg import inv\n",
    "def inverse(A,b):\n",
    "    return np.matmul(inv(A),b)"
   ]
  },
  {
   "cell_type": "code",
   "execution_count": 43,
   "metadata": {},
   "outputs": [
    {
     "name": "stdout",
     "output_type": "stream",
     "text": [
      "[ 0.05154639 -0.08247423  0.08247423  0.09278351]\n",
      "[ 0.05154639 -0.08247423  0.08247423  0.09278351]\n",
      "[ 0.05154639 -0.08247423  0.08247423  0.09278351]\n"
     ]
    }
   ],
   "source": [
    "# check for consistency\n",
    "Atest = np.array([[2, 5, 8, 7], [5, 2, 2, 8], [7, 5, 6, 6], [5, 4, 4, 8]])\n",
    "btest = np.array([1, 1, 1, 1])\n",
    "np.set_printoptions()\n",
    "print(highest(Atest,btest))\n",
    "print(LUpivot(Atest,btest))\n",
    "print(inverse(Atest,btest))"
   ]
  },
  {
   "cell_type": "code",
   "execution_count": 98,
   "metadata": {},
   "outputs": [],
   "source": [
    "# 3) b)\n",
    "As = []\n",
    "xtrues = []\n",
    "bs = []\n",
    "for i in range(5):\n",
    "    As.append(default_rng().standard_normal(((i+1)*1000,(i+1)*1000)))\n",
    "    xtrues.append(np.arange(1,1000*(i+1)+1))\n",
    "    bs.append(np.matmul(As[i],xtrues[i]))\n",
    "As = np.array(As)\n",
    "xtrues = np.array(xtrues)\n",
    "bs = np.array(bs)"
   ]
  },
  {
   "cell_type": "code",
   "execution_count": 99,
   "metadata": {},
   "outputs": [
    {
     "name": "stdout",
     "output_type": "stream",
     "text": [
      "Time (n=1000) i): 0.05 seconds with error: 8.84780445221306e-09\n",
      "Time (n=1000) ii): 0.02 seconds with error: 8.84780445221306e-09\n",
      "Time (n=1000) iii): 0.05 seconds with error: 2.0023648285999885e-08\n",
      "Time (n=2000) i): 0.27 seconds with error: 3.385823608509706e-08\n",
      "Time (n=2000) ii): 0.12 seconds with error: 3.385823608509706e-08\n",
      "Time (n=2000) iii): 0.29 seconds with error: 1.3615133821000763e-07\n",
      "Time (n=3000) i): 0.59 seconds with error: 8.586477528488939e-07\n",
      "Time (n=3000) ii): 0.34 seconds with error: 8.586477528488939e-07\n",
      "Time (n=3000) iii): 0.91 seconds with error: 1.6009473457086285e-06\n",
      "Time (n=4000) i): 1.06 seconds with error: 3.3923806758484115e-05\n",
      "Time (n=4000) ii): 0.74 seconds with error: 3.3923806758484115e-05\n",
      "Time (n=4000) iii): 1.98 seconds with error: 0.00013534303481689856\n",
      "Time (n=5000) i): 1.83 seconds with error: 4.874339318859453e-07\n",
      "Time (n=5000) ii): 1.30 seconds with error: 4.874339318859453e-07\n",
      "Time (n=5000) iii): 3.49 seconds with error: 1.35311891594466e-06\n"
     ]
    }
   ],
   "source": [
    "# i) is highest, ii) is LUpivot, iii) is inverse\n",
    "erris = [];erriis = [];erriiis =[];\n",
    "timi = [];timii = [];timiii =[];\n",
    "for i in range(5):\n",
    "    n = (i+1)*1000\n",
    "    start_time = time.time()\n",
    "    xi = highest(As[i],bs[i])\n",
    "    erri = np.linalg.norm(xi-xtrues[i])\n",
    "    erris.append(erri)\n",
    "    t = time.time()-start_time\n",
    "    timi.append(t)\n",
    "    print(\"Time (n=\"+str(n)+\") i): \" + str(format(t, '.2f')) + \" seconds with error: \"+str(erri))\n",
    "    start_time = time.time()\n",
    "    xii = LUpivot(As[i],bs[i])\n",
    "    errii = np.linalg.norm(xii-xtrues[i])\n",
    "    erriis.append(errii)\n",
    "    t = time.time()-start_time\n",
    "    timii.append(t)\n",
    "    print(\"Time (n=\"+str(n)+\") ii): \" + str(format(t, '.2f')) + \" seconds with error: \"+str(errii))\n",
    "    start_time = time.time()\n",
    "    xiii = inverse(As[i],bs[i])\n",
    "    erriii = np.linalg.norm(xiii-xtrues[i])\n",
    "    erriiis.append(erriii)\n",
    "    t = time.time()-start_time\n",
    "    timiii.append(t)\n",
    "    print(\"Time (n=\"+str(n)+\") iii): \" + str(format(t, '.2f')) + \" seconds with error: \"+str(erriii))"
   ]
  },
  {
   "cell_type": "code",
   "execution_count": 100,
   "metadata": {},
   "outputs": [
    {
     "data": {
      "text/plain": [
       "Text(0.5, 0, 'n')"
      ]
     },
     "execution_count": 100,
     "metadata": {},
     "output_type": "execute_result"
    },
    {
     "data": {
      "image/png": "[encoded data removed]",
      "text/plain": [
       "<Figure size 432x288 with 1 Axes>"
      ]
     },
     "metadata": {
      "needs_background": "light"
     },
     "output_type": "display_data"
    }
   ],
   "source": [
    "ns = [1000,2000,3000,4000,5000]\n",
    "import matplotlib.pyplot as plt\n",
    "plt.loglog(ns,timi,label=\"i\")\n",
    "plt.loglog(ns,timii,label=\"ii\")\n",
    "plt.loglog(ns,timiii,label=\"iii\")\n",
    "plt.loglog(np.linspace(1000,5000,20),np.linspace(1000,5000,20)**2/10**7,label=\"O(n^2)\")\n",
    "plt.loglog(np.linspace(1000,5000,20),np.linspace(1000,5000,20)**3/10**10,label=\"O(n^3)\")\n",
    "plt.loglog(np.linspace(1000,5000,20),np.linspace(1000,5000,20)**4/10**13,label=\"O(n^4)\")\n",
    "plt.legend()\n",
    "plt.title(\"time vs n\"); plt.ylabel(\"time\"); plt.xlabel(\"n\")"
   ]
  },
  {
   "cell_type": "code",
   "execution_count": 101,
   "metadata": {},
   "outputs": [
    {
     "data": {
      "text/plain": [
       "Text(0.5, 0, 'n')"
      ]
     },
     "execution_count": 101,
     "metadata": {},
     "output_type": "execute_result"
    },
    {
     "data": {
      "image/png": "[encoded data removed]",
      "text/plain": [
       "<Figure size 432x288 with 1 Axes>"
      ]
     },
     "metadata": {
      "needs_background": "light"
     },
     "output_type": "display_data"
    }
   ],
   "source": [
    "plt.loglog(ns,erris,label=\"i\")\n",
    "plt.loglog(ns,erriis,label=\"ii\")\n",
    "plt.loglog(ns,erriiis,label=\"iii\")\n",
    "plt.legend()\n",
    "plt.title(\"error vs n\"); plt.ylabel(\"error\"); plt.xlabel(\"n\")"
   ]
  },
  {
   "cell_type": "code",
   "execution_count": null,
   "metadata": {},
   "outputs": [],
   "source": []
  }
 ],
 "metadata": {
  "kernelspec": {
   "display_name": "Python 3",
   "language": "python",
   "name": "python3"
  },
  "language_info": {
   "codemirror_mode": {
    "name": "ipython",
    "version": 3
   },
   "file_extension": ".py",
   "mimetype": "text/x-python",
   "name": "python",
   "nbconvert_exporter": "python",
   "pygments_lexer": "ipython3",
   "version": "3.7.6"
  }
 },
 "nbformat": 4,
 "nbformat_minor": 4
}
