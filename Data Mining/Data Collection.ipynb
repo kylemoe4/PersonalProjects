{
 "cells": [
  {
   "cell_type": "code",
   "execution_count": 1,
   "metadata": {},
   "outputs": [],
   "source": [
    "import numpy as np\n",
    "import matplotlib.pyplot as plt\n",
    "import math\n",
    "import pandas as pd"
   ]
  },
  {
   "cell_type": "code",
   "execution_count": 2,
   "metadata": {},
   "outputs": [
    {
     "name": "stdout",
     "output_type": "stream",
     "text": [
      "[1610612737, 1610612738, 1610612739, 1610612740, 1610612741, 1610612742, 1610612743, 1610612744, 1610612745, 1610612746, 1610612747, 1610612748, 1610612749, 1610612750, 1610612751, 1610612752, 1610612753, 1610612754, 1610612755, 1610612756, 1610612757, 1610612758, 1610612759, 1610612760, 1610612761, 1610612762, 1610612763, 1610612764, 1610612765, 1610612766]\n",
      "{'id': 1610612743, 'full_name': 'Denver Nuggets', 'abbreviation': 'DEN', 'nickname': 'Nuggets', 'city': 'Denver', 'state': 'Colorado', 'year_founded': 1976}\n"
     ]
    }
   ],
   "source": [
    "from nba_api.stats.static import teams\n",
    "nba_teams = teams.get_teams()\n",
    "teamIDs = [team['id'] for team in nba_teams]\n",
    "print(teamIDs)\n",
    "\n",
    "nuggets = [team for team in nba_teams if team['abbreviation'] == 'DEN'][0]\n",
    "print(nuggets)\n",
    "nuggID = nuggets['id']"
   ]
  },
  {
   "cell_type": "code",
   "execution_count": 3,
   "metadata": {},
   "outputs": [
    {
     "data": {
      "text/plain": [
       "\"from nba_api.stats.endpoints import playergamelogs\\nplayer17 = playergamelogs.PlayerGameLogs(season_nullable='2017-18')\\nplayer18 = playergamelogs.PlayerGameLogs(season_nullable='2018-19')\\nplayer19 = playergamelogs.PlayerGameLogs(season_nullable='2019-20')\\nplayer20 = playergamelogs.PlayerGameLogs(season_nullable='2020-21')\""
      ]
     },
     "execution_count": 3,
     "metadata": {},
     "output_type": "execute_result"
    }
   ],
   "source": [
    "'''from nba_api.stats.endpoints import playergamelogs\n",
    "player17 = playergamelogs.PlayerGameLogs(season_nullable='2017-18')\n",
    "player18 = playergamelogs.PlayerGameLogs(season_nullable='2018-19')\n",
    "player19 = playergamelogs.PlayerGameLogs(season_nullable='2019-20')\n",
    "player20 = playergamelogs.PlayerGameLogs(season_nullable='2020-21')'''"
   ]
  },
  {
   "cell_type": "code",
   "execution_count": 4,
   "metadata": {},
   "outputs": [
    {
     "data": {
      "text/plain": [
       "\"player17df = player17.get_data_frames()[0]\\nplayer17df.to_csv(r'.\\\\player17-18.csv')\""
      ]
     },
     "execution_count": 4,
     "metadata": {},
     "output_type": "execute_result"
    }
   ],
   "source": [
    "'''player17df = player17.get_data_frames()[0]\n",
    "player17df.to_csv(r'.\\player17-18.csv')'''"
   ]
  },
  {
   "cell_type": "code",
   "execution_count": 6,
   "metadata": {},
   "outputs": [
    {
     "data": {
      "text/plain": [
       "\"player18df = player18.get_data_frames()[0]\\nplayer18df.to_csv(r'.\\\\player18-19.csv')\""
      ]
     },
     "execution_count": 6,
     "metadata": {},
     "output_type": "execute_result"
    }
   ],
   "source": [
    "'''player18df = player18.get_data_frames()[0]\n",
    "player18df.to_csv(r'.\\player18-19.csv')'''"
   ]
  },
  {
   "cell_type": "code",
   "execution_count": 7,
   "metadata": {},
   "outputs": [
    {
     "data": {
      "text/plain": [
       "\"player19df = player19.get_data_frames()[0]\\nplayer19df.to_csv(r'.\\\\player19-20.csv')\""
      ]
     },
     "execution_count": 7,
     "metadata": {},
     "output_type": "execute_result"
    }
   ],
   "source": [
    "'''player19df = player19.get_data_frames()[0]\n",
    "player19df.to_csv(r'.\\player19-20.csv')'''"
   ]
  },
  {
   "cell_type": "code",
   "execution_count": 8,
   "metadata": {},
   "outputs": [
    {
     "data": {
      "text/plain": [
       "\"player20df = player20.get_data_frames()[0]\\nplayer20df.to_csv(r'.\\\\player20-21.csv')\""
      ]
     },
     "execution_count": 8,
     "metadata": {},
     "output_type": "execute_result"
    }
   ],
   "source": [
    "'''player20df = player20.get_data_frames()[0]\n",
    "player20df.to_csv(r'.\\player20-21.csv')'''"
   ]
  },
  {
   "cell_type": "code",
   "execution_count": 76,
   "metadata": {},
   "outputs": [],
   "source": [
    "from nba_api.stats.endpoints import teamgamelogs\n",
    "games17 = teamgamelogs.TeamGameLogs(season_nullable='2017-18')\n",
    "games18 = teamgamelogs.TeamGameLogs(season_nullable='2018-19')\n",
    "games19 = teamgamelogs.TeamGameLogs(season_nullable='2019-20')\n",
    "games20 = teamgamelogs.TeamGameLogs(season_nullable='2020-21')"
   ]
  },
  {
   "cell_type": "code",
   "execution_count": 77,
   "metadata": {},
   "outputs": [],
   "source": [
    "games2017 = games17.get_data_frames()[0]\n",
    "games2017 = games2017[games2017['TEAM_ID'].isin(teamIDs)]\n",
    "games2018 = games18.get_data_frames()[0]\n",
    "games2018 = games2018[games2018['TEAM_ID'].isin(teamIDs)]\n",
    "games2019 = games19.get_data_frames()[0]\n",
    "games2019 = games2019[games2019['TEAM_ID'].isin(teamIDs)]\n",
    "games2020 = games20.get_data_frames()[0]\n",
    "games2020 = games2020[games2020['TEAM_ID'].isin(teamIDs)]"
   ]
  },
  {
   "cell_type": "code",
   "execution_count": 78,
   "metadata": {},
   "outputs": [],
   "source": [
    "def applyPerMin(df):\n",
    "    df['FGM'] = df.apply(lambda x: x['FGM']/x['MIN'], axis=1)\n",
    "    df['FGA'] = df.apply(lambda x: x['FGA']/x['MIN'], axis=1)\n",
    "    df['FG3M'] = df.apply(lambda x: x['FG3M']/x['MIN'], axis=1)\n",
    "    df['FG3A'] = df.apply(lambda x: x['FG3A']/x['MIN'], axis=1)\n",
    "    df['FTM'] = df.apply(lambda x: x['FTM']/x['MIN'], axis=1)\n",
    "    df['FTA'] = df.apply(lambda x: x['FTA']/x['MIN'], axis=1)\n",
    "    df['OREB'] = df.apply(lambda x: x['OREB']/x['MIN'], axis=1)\n",
    "    df['DREB'] = df.apply(lambda x: x['DREB']/x['MIN'], axis=1)\n",
    "    df['REB'] = df.apply(lambda x: x['REB']/x['MIN'], axis=1)\n",
    "    df['AST'] = df.apply(lambda x: x['AST']/x['MIN'], axis=1)\n",
    "    df['TOV'] = df.apply(lambda x: x['TOV']/x['MIN'], axis=1)\n",
    "    df['STL'] = df.apply(lambda x: x['STL']/x['MIN'], axis=1)\n",
    "    df['BLK'] = df.apply(lambda x: x['BLK']/x['MIN'], axis=1)\n",
    "    df['BLKA'] = df.apply(lambda x: x['BLKA']/x['MIN'], axis=1)\n",
    "    df['PF'] = df.apply(lambda x: x['PF']/x['MIN'], axis=1)\n",
    "    df['PFD'] = df.apply(lambda x: x['PFD']/x['MIN'], axis=1)\n",
    "    df['PTS'] = df.apply(lambda x: x['PTS']/x['MIN'], axis=1)"
   ]
  },
  {
   "cell_type": "code",
   "execution_count": 79,
   "metadata": {},
   "outputs": [],
   "source": [
    "# standardize values so that they represent amount per minute (account for overtime)\n",
    "\n",
    "applyPerMin(games2017)\n",
    "applyPerMin(games2018)\n",
    "applyPerMin(games2019)\n",
    "applyPerMin(games2020)"
   ]
  },
  {
   "cell_type": "code",
   "execution_count": 80,
   "metadata": {},
   "outputs": [
    {
     "name": "stdout",
     "output_type": "stream",
     "text": [
      "[[{'FGM': 0.8204119596769592, 'FGA': 1.782531792252583, 'FG3M': 0.21731642703409235, 'FG3A': 0.6007341761016376, 'FTM': 0.3444066583339023, 'FTA': 0.44900917310420896, 'OREB': 0.20112116566471136, 'DREB': 0.700219545296966, 'REB': 0.9013407109616748, 'AST': 0.4813887357115279, 'TOV': 0.2954464382270069, 'STL': 0.15986338284840076, 'BLK': 0.09974081304213454, 'BLKA': 0.09974081304213456, 'PF': 0.41120214668914873, 'PFD': 0.4111936778544603, 'PTS': 2.202547004721915}, {'FGM': 0.8602920997298708, 'FGA': 1.7769038114599596, 'FG3M': 0.23572068201047297, 'FG3A': 0.6060975132224744, 'FTM': 0.36191144052167623, 'FTA': 0.465826030462259, 'OREB': 0.2003133948989829, 'DREB': 0.739547672762023, 'REB': 0.9398610676610081, 'AST': 0.5140142335195851, 'TOV': 0.28797640205930863, 'STL': 0.16899098960278877, 'BLK': 0.10938533383072152, 'BLKA': 0.09009629225354739, 'PF': 0.4038586920107979, 'PFD': 0.41852866369812197, 'PTS': 2.3182163219918874}, {'FGM': 0.7805318196240494, 'FGA': 1.7881597730452026, 'FG3M': 0.1989121720577125, 'FG3A': 0.5953708389807973, 'FTM': 0.3269018761461278, 'FTA': 0.43219231574615863, 'OREB': 0.20192893643044008, 'DREB': 0.6608914178319055, 'REB': 0.8628203542623468, 'AST': 0.4487632379034702, 'TOV': 0.30291647439470654, 'STL': 0.15073577609401256, 'BLK': 0.0900962922535474, 'BLKA': 0.10938533383072149, 'PF': 0.4185456013674987, 'PFD': 0.4038586920107979, 'PTS': 2.086877687451936}], [{'FGM': 0.10391290668329238, 'FGA': 0.13447769482223637, 'FG3M': 0.07377795935140678, 'FG3A': 0.13780901479285976, 'FTM': 0.12065255643160097, 'FTA': 0.14784823339098088, 'OREB': 0.07494744928189014, 'DREB': 0.10924952908576585, 'REB': 0.1301217063834043, 'AST': 0.10789534212744205, 'TOV': 0.07807287066863415, 'STL': 0.06059271076385068, 'BLK': 0.05189314351498133, 'BLKA': 0.051893143514981345, 'PF': 0.08661727236624243, 'PFD': 0.08661571855465225, 'PTS': 0.24467853704399223}, {'FGM': 0.097424887297507, 'FGA': 0.1362355400669244, 'FG3M': 0.07388398401802411, 'FG3A': 0.14436601933456364, 'FTM': 0.12493332991005611, 'FTA': 0.15270587549306355, 'OREB': 0.07499728046727389, 'DREB': 0.1046779969942051, 'REB': 0.12548908780594464, 'AST': 0.1086597150782044, 'TOV': 0.07845389936289815, 'STL': 0.060238755460684676, 'BLK': 0.05347933689246982, 'BLKA': 0.04839177007075902, 'PF': 0.08456260461674915, 'PFD': 0.08804626109528055, 'PTS': 0.21585857921547624}, {'FGM': 0.09449614965511886, 'FGA': 0.13251299241038758, 'FG3M': 0.06894908284180967, 'FG3A': 0.13076305541349656, 'FTM': 0.11359688816917936, 'FTA': 0.14089296754864702, 'OREB': 0.07491937440594368, 'DREB': 0.09913237336669706, 'REB': 0.12312405178062089, 'AST': 0.09672005940098886, 'TOV': 0.0769999862025586, 'STL': 0.059585828147903794, 'BLK': 0.04839177007075902, 'BLKA': 0.053479336892469816, 'PF': 0.08804790647066665, 'PFD': 0.08456260461674915, 'PTS': 0.21542609979545665}]]\n"
     ]
    }
   ],
   "source": [
    "# Find standard deviations and means for each column in each dataset\n",
    "\n",
    "\n",
    "m = [[[{},{},{}],[{},{},{}]],\n",
    "     [[{},{},{}],[{},{},{}]],\n",
    "     [[{},{},{}],[{},{},{}]],\n",
    "     [[{},{},{}],[{},{},{}]]]\n",
    "\n",
    "\n",
    "def generateDist(m, s, df):\n",
    "    m['FGM'] = df['FGM'].mean()#df['FGM'].mean()\n",
    "    m['FGA'] = df['FGA'].mean()\n",
    "    #m['FG_PCT'] = df['FG_PCT'].mean()\n",
    "    m['FG3M'] = df['FG3M'].mean()\n",
    "    m['FG3A'] = df['FG3A'].mean()\n",
    "    #m['FG3_PCT'] = df['FG3_PCT'].mean()\n",
    "    m['FTM'] = df['FTM'].mean()\n",
    "    m['FTA'] = df['FTA'].mean()\n",
    "    #m['FT_PCT'] = df['FT_PCT'].mean()\n",
    "    m['OREB'] = df['OREB'].mean()\n",
    "    m['DREB'] = df['DREB'].mean()\n",
    "    m['REB'] = df['REB'].mean()\n",
    "    m['AST'] = df['AST'].mean()\n",
    "    m['TOV'] = df['TOV'].mean()\n",
    "    m['STL'] = df['STL'].mean()\n",
    "    m['BLK'] = df['BLK'].mean()\n",
    "    m['BLKA'] = df['BLKA'].mean()\n",
    "    m['PF'] = df['PF'].mean()\n",
    "    m['PFD'] = df['PFD'].mean()\n",
    "    m['PTS'] = df['PTS'].mean()\n",
    "    '''m['FGM-'] = df['FGM-'].mean()#df['FGM'].mean()\n",
    "    m['FGA-'] = df['FGA-'].mean()\n",
    "    m['FG_PCT-'] = df['FG_PCT-'].mean()\n",
    "    m['FG3M-'] = df['FG3M-'].mean()\n",
    "    m['FG3A-'] = df['FG3A-'].mean()\n",
    "    m['FG3_PCT-'] = df['FG3_PCT-'].mean()\n",
    "    m['FTM-'] = df['FTM-'].mean()\n",
    "    m['FTA-'] = df['FTA-'].mean()\n",
    "    m['FT_PCT-'] = df['FT_PCT-'].mean()\n",
    "    m['OREB-'] = df['OREB-'].mean()\n",
    "    m['DREB-'] = df['DREB-'].mean()\n",
    "    m['REB-'] = df['REB-'].mean()\n",
    "    m['AST-'] = df['AST-'].mean()\n",
    "    m['TOV-'] = df['TOV-'].mean()\n",
    "    m['STL-'] = df['STL-'].mean()\n",
    "    m['BLK-'] = df['BLK-'].mean()\n",
    "    m['BLKA-'] = df['BLKA-'].mean()\n",
    "    m['PF-'] = df['PF-'].mean()\n",
    "    m['PFD-'] = df['PFD-'].mean()\n",
    "    m['PTS--'] = df['PTS-'].mean()'''\n",
    "    \n",
    "    s['FGM'] = df['FGM'].std()\n",
    "    s['FGA'] = df['FGA'].std()\n",
    "    #s['FG_PCT'] = df['FG_PCT'].mean()\n",
    "    s['FG3M'] = df['FG3M'].std()\n",
    "    s['FG3A'] = df['FG3A'].std()\n",
    "    #s['FG3_PCT'] = df['FG3_PCT'].mean()\n",
    "    s['FTM'] = df['FTM'].std()\n",
    "    s['FTA'] = df['FTA'].std()\n",
    "    #s['FT_PCT'] = df['FT_PCT'].mean(\n",
    "    s['OREB'] = df['OREB'].std()\n",
    "    s['DREB'] = df['DREB'].std()\n",
    "    s['REB'] = df['REB'].std()\n",
    "    s['AST'] = df['AST'].std()\n",
    "    s['TOV'] = df['TOV'].std()\n",
    "    s['STL'] = df['STL'].std()\n",
    "    s['BLK'] = df['BLK'].std()\n",
    "    s['BLKA'] = df['BLKA'].std()\n",
    "    s['PF'] = df['PF'].std()\n",
    "    s['PFD'] = df['PFD'].std()\n",
    "    s['PTS'] = df['PTS'].std()\n",
    "    '''s['FGM-'] = df['FGM-'].std()\n",
    "    s['FGA-'] = df['FGA-'].std()\n",
    "    s['FG_PCT-'] = df['FG_PCT-'].mean()\n",
    "    s['FG3M-'] = df['FG3M-'].std()\n",
    "    s['FG3A-'] = df['FG3A-'].std()\n",
    "    s['FG3_PCT-'] = df['FG3_PCT-'].mean()\n",
    "    s['FTM-'] = df['FTM-'].std()\n",
    "    s['FTA-'] = df['FTA-'].std()\n",
    "    s['FT_PCT-'] = df['FT_PCT-'].mean(\n",
    "    s['OREB-'] = df['OREB-'].std()\n",
    "    s['DREB-'] = df['DREB-'].std()\n",
    "    s['REB-'] = df['REB-'].std()\n",
    "    s['AST-'] = df['AST-'].std()\n",
    "    s['TOV-'] = df['TOV-'].std()\n",
    "    s['STL-'] = df['STL-'].std()\n",
    "    s['BLK-'] = df['BLK-'].std()\n",
    "    s['BLKA-'] = df['BLKA-'].std()\n",
    "    s['PF-'] = df['PF-'].std()\n",
    "    s['PFD-'] = df['PFD-'].std()\n",
    "    s['PTS-'] = df['PTS-'].std()'''\n",
    "\n",
    "    \n",
    "generateDist(m[0][0][0], m[0][1][0], games2017)\n",
    "generateDist(m[1][0][0], m[1][1][0], games2018)\n",
    "generateDist(m[2][0][0], m[2][1][0], games2019)\n",
    "generateDist(m[3][0][0], m[3][1][0], games2020)\n",
    "generateDist(m[0][0][1], m[0][1][1], games2017[games2017['WL']=='W'])\n",
    "generateDist(m[1][0][1], m[1][1][1], games2018[games2018['WL']=='W'])\n",
    "generateDist(m[2][0][1], m[2][1][1], games2019[games2019['WL']=='W'])\n",
    "generateDist(m[3][0][1], m[3][1][1], games2020[games2020['WL']=='W'])\n",
    "generateDist(m[0][0][2], m[0][1][2], games2017[games2017['WL']=='L'])\n",
    "generateDist(m[1][0][2], m[1][1][2], games2018[games2018['WL']=='L'])\n",
    "generateDist(m[2][0][2], m[2][1][2], games2019[games2019['WL']=='L'])\n",
    "generateDist(m[3][0][2], m[3][1][2], games2020[games2020['WL']=='L'])\n",
    "print(m[0])"
   ]
  },
  {
   "cell_type": "code",
   "execution_count": 81,
   "metadata": {},
   "outputs": [],
   "source": [
    "def standardNorm(df, wl, year):\n",
    "    df['FGM'] = df.apply(lambda x: (x['FGM']-m[year][0][wl]['FGM'])/m[year][1][wl]['FGM'], axis=1)\n",
    "    df['FGA'] = df.apply(lambda x: (x['FGA']-m[year][0][wl]['FGA'])/m[year][1][wl]['FGA'], axis=1)\n",
    "    df['FG3M'] = df.apply(lambda x: (x['FG3M']-m[year][0][wl]['FG3M'])/m[year][1][wl]['FG3M'], axis=1)\n",
    "    df['FG3A'] = df.apply(lambda x: (x['FG3A']-m[year][0][wl]['FG3A'])/m[year][1][wl]['FG3A'], axis=1)\n",
    "    df['FTM'] = df.apply(lambda x: (x['FTM']-m[year][0][wl]['FTM'])/m[year][1][wl]['FTM'], axis=1)\n",
    "    df['FTA'] = df.apply(lambda x: (x['FTA']-m[year][0][wl]['FTA'])/m[year][1][wl]['FTA'], axis=1)\n",
    "    df['OREB'] = df.apply(lambda x: (x['OREB']-m[year][0][wl]['OREB'])/m[year][1][wl]['OREB'], axis=1)\n",
    "    df['DREB'] = df.apply(lambda x: (x['DREB']-m[year][0][wl]['DREB'])/m[year][1][wl]['DREB'], axis=1)\n",
    "    df['REB'] = df.apply(lambda x: (x['REB']-m[year][0][wl]['REB'])/m[year][1][wl]['REB'], axis=1)\n",
    "    df['AST'] = df.apply(lambda x: (x['AST']-m[year][0][wl]['AST'])/m[year][1][wl]['AST'], axis=1)\n",
    "    df['TOV'] = df.apply(lambda x: (x['TOV']-m[year][0][wl]['TOV'])/m[year][1][wl]['TOV'], axis=1)\n",
    "    df['STL'] = df.apply(lambda x: (x['STL']-m[year][0][wl]['STL'])/m[year][1][wl]['STL'], axis=1)\n",
    "    df['BLK'] = df.apply(lambda x: (x['BLK']-m[year][0][wl]['BLK'])/m[year][1][wl]['BLK'], axis=1)\n",
    "    df['BLKA'] = df.apply(lambda x: (x['BLKA']-m[year][0][wl]['BLKA'])/m[year][1][wl]['BLKA'], axis=1)\n",
    "    df['PF'] = df.apply(lambda x: (x['PF']-m[year][0][wl]['PF'])/m[year][1][wl]['PF'], axis=1)\n",
    "    df['PFD'] = df.apply(lambda x: (x['PFD']-m[year][0][wl]['PFD'])/m[year][1][wl]['PFD'], axis=1)\n",
    "    df['PTS'] = df.apply(lambda x: (x['PTS']-m[year][0][wl]['PTS'])/m[year][1][wl]['PTS'], axis=1)"
   ]
  },
  {
   "cell_type": "code",
   "execution_count": 98,
   "metadata": {},
   "outputs": [],
   "source": [
    "gamesW2017 = games2017[games2017['WL']=='W'][['WL','FGM','FGA','FG3M','FG3A','FTM','FTA','OREB','DREB','REB','AST','TOV','STL','BLK','BLKA','PF','PFD','PTS']].copy()\n",
    "gamesW2018 = games2018[games2018['WL']=='W'][['WL','FGM','FGA','FG3M','FG3A','FTM','FTA','OREB','DREB','REB','AST','TOV','STL','BLK','BLKA','PF','PFD','PTS']].copy()\n",
    "gamesW2019 = games2019[games2019['WL']=='W'][['WL','FGM','FGA','FG3M','FG3A','FTM','FTA','OREB','DREB','REB','AST','TOV','STL','BLK','BLKA','PF','PFD','PTS']].copy()\n",
    "gamesW2020 = games2020[games2020['WL']=='W'][['WL','FGM','FGA','FG3M','FG3A','FTM','FTA','OREB','DREB','REB','AST','TOV','STL','BLK','BLKA','PF','PFD','PTS']].copy()\n",
    "gamesL2017 = games2017[games2017['WL']=='L'][['WL','FGM','FGA','FG3M','FG3A','FTM','FTA','OREB','DREB','REB','AST','TOV','STL','BLK','BLKA','PF','PFD','PTS']].copy()\n",
    "gamesL2018 = games2018[games2018['WL']=='L'][['WL','FGM','FGA','FG3M','FG3A','FTM','FTA','OREB','DREB','REB','AST','TOV','STL','BLK','BLKA','PF','PFD','PTS']].copy()\n",
    "gamesL2019 = games2019[games2019['WL']=='L'][['WL','FGM','FGA','FG3M','FG3A','FTM','FTA','OREB','DREB','REB','AST','TOV','STL','BLK','BLKA','PF','PFD','PTS']].copy()\n",
    "gamesL2020 = games2020[games2020['WL']=='L'][['WL','FGM','FGA','FG3M','FG3A','FTM','FTA','OREB','DREB','REB','AST','TOV','STL','BLK','BLKA','PF','PFD','PTS']].copy()\n",
    "games2017 = games2017[['WL','FGM','FGA','FG3M','FG3A','FTM','FTA','OREB','DREB','REB','AST','TOV','STL','BLK','BLKA','PF','PFD','PTS']].copy()\n",
    "games2018 = games2018[['WL','FGM','FGA','FG3M','FG3A','FTM','FTA','OREB','DREB','REB','AST','TOV','STL','BLK','BLKA','PF','PFD','PTS']].copy()\n",
    "games2019 = games2019[['WL','FGM','FGA','FG3M','FG3A','FTM','FTA','OREB','DREB','REB','AST','TOV','STL','BLK','BLKA','PF','PFD','PTS']].copy()\n",
    "games2020 = games2020[['WL','FGM','FGA','FG3M','FG3A','FTM','FTA','OREB','DREB','REB','AST','TOV','STL','BLK','BLKA','PF','PFD','PTS']].copy()\n",
    "\n",
    "'''\n",
    "standardNorm(games2017, 0, 0)\n",
    "standardNorm(games2018, 0, 1)\n",
    "standardNorm(games2019, 0, 2)\n",
    "standardNorm(games2020, 0, 3)\n",
    "standardNorm(gamesW2017, 1, 0)\n",
    "standardNorm(gamesW2018, 1, 1)\n",
    "standardNorm(gamesW2019, 1, 2)\n",
    "standardNorm(gamesW2020, 1, 3)\n",
    "standardNorm(gamesL2017, 2, 0)\n",
    "standardNorm(gamesL2018, 2, 1)\n",
    "standardNorm(gamesL2019, 2, 2)\n",
    "standardNorm(gamesL2020, 2, 3)''';"
   ]
  },
  {
   "cell_type": "code",
   "execution_count": 99,
   "metadata": {},
   "outputs": [],
   "source": [
    "def naiveBayes(predict):\n",
    "    wProb = 1 \n",
    "    lProb = 1\n",
    "    for key in predict:\n",
    "        if key != 'WL':\n",
    "            wProb *= GaussianDist(m[0][0][1][key], m[0][1][1][key], predict[key])\n",
    "            lProb *= GaussianDist(m[0][0][2][key], m[0][1][2][key], predict[key])\n",
    "    return wProb, lProb"
   ]
  },
  {
   "cell_type": "code",
   "execution_count": 103,
   "metadata": {},
   "outputs": [
    {
     "name": "stdout",
     "output_type": "stream",
     "text": [
      "tp + tn: 1841fp + fn: 619\n"
     ]
    }
   ],
   "source": [
    "tests = []\n",
    "wct = 0\n",
    "lct = 0\n",
    "\n",
    "for row_dict in games2018.to_dict(orient=\"records\"):\n",
    "    w,l = naiveBayes(row_dict)\n",
    "    if (w > l):\n",
    "        if row_dict['WL']=='W': \n",
    "            wct += 1\n",
    "        else:\n",
    "            lct += 1\n",
    "    else: \n",
    "        if row_dict['WL']=='L': \n",
    "            wct += 1\n",
    "        else:\n",
    "            lct += 1\n",
    "print(\"tp + tn: \" + str(wct) + \"fp + fn: \" + str(lct))"
   ]
  },
  {
   "cell_type": "code",
   "execution_count": 74,
   "metadata": {},
   "outputs": [],
   "source": [
    "def GaussianDist(mean, sig, x):\n",
    "    return (1/(sig*np.sqrt(2*np.pi)))*np.exp(-0.5*((x-mean)/sig)**2)"
   ]
  },
  {
   "cell_type": "code",
   "execution_count": 75,
   "metadata": {},
   "outputs": [
    {
     "data": {
      "text/plain": [
       "3.8691454122884337"
      ]
     },
     "execution_count": 75,
     "metadata": {},
     "output_type": "execute_result"
    }
   ],
   "source": [
    "GaussianDist(m[0][0][2]['FGM'], m[0][1][2]['FGM'], 0.82)"
   ]
  },
  {
   "cell_type": "code",
   "execution_count": 70,
   "metadata": {},
   "outputs": [],
   "source": [
    "games2017.to_csv(r'.\\2017-18.csv')\n",
    "games2018.to_csv(r'.\\2018-19.csv')\n",
    "games2019.to_csv(r'.\\2019-20.csv')\n",
    "games2020.to_csv(r'.\\2020-21.csv')"
   ]
  },
  {
   "cell_type": "code",
   "execution_count": 71,
   "metadata": {},
   "outputs": [],
   "source": [
    "from nba_api.stats.endpoints import teamgamelog\n",
    "game17 = teamgamelog.TeamGameLog(season='2017-18', team_id=1610612743)"
   ]
  },
  {
   "cell_type": "code",
   "execution_count": 73,
   "metadata": {},
   "outputs": [
    {
     "data": {
      "text/plain": [
       "['Team_ID',\n",
       " 'Game_ID',\n",
       " 'GAME_DATE',\n",
       " 'MATCHUP',\n",
       " 'WL',\n",
       " 'W',\n",
       " 'L',\n",
       " 'W_PCT',\n",
       " 'MIN',\n",
       " 'FGM',\n",
       " 'FGA',\n",
       " 'FG_PCT',\n",
       " 'FG3M',\n",
       " 'FG3A',\n",
       " 'FG3_PCT',\n",
       " 'FTM',\n",
       " 'FTA',\n",
       " 'FT_PCT',\n",
       " 'OREB',\n",
       " 'DREB',\n",
       " 'REB',\n",
       " 'AST',\n",
       " 'STL',\n",
       " 'BLK',\n",
       " 'TOV',\n",
       " 'PF',\n",
       " 'PTS']"
      ]
     },
     "execution_count": 73,
     "metadata": {},
     "output_type": "execute_result"
    }
   ],
   "source": [
    "game17.get_data_frames()[0].columns.tolist()"
   ]
  },
  {
   "cell_type": "code",
   "execution_count": null,
   "metadata": {},
   "outputs": [],
   "source": []
  }
 ],
 "metadata": {
  "kernelspec": {
   "display_name": "Python 3",
   "language": "python",
   "name": "python3"
  },
  "language_info": {
   "codemirror_mode": {
    "name": "ipython",
    "version": 3
   },
   "file_extension": ".py",
   "mimetype": "text/x-python",
   "name": "python",
   "nbconvert_exporter": "python",
   "pygments_lexer": "ipython3",
   "version": "3.7.6"
  }
 },
 "nbformat": 4,
 "nbformat_minor": 4
}
