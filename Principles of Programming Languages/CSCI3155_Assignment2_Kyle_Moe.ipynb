{
 "cells": [
  {
   "cell_type": "code",
   "execution_count": null,
   "metadata": {},
   "outputs": [],
   "source": []
  },
  {
   "cell_type": "markdown",
   "metadata": {
    "deletable": false,
    "editable": false,
    "nbgrader": {
     "cell_type": "markdown",
     "checksum": "8cace4f804998a8e22569d6a702813b8",
     "grade": false,
     "grade_id": "cell-a6f5e20aebff818d",
     "locked": true,
     "schema_version": 3,
     "solution": false,
     "task": false
    }
   },
   "source": [
    "# CSCI 3155 Homework 2\n",
    "\n",
    "Practice with Algebraic Data Types: Natural Numbers and Lists"
   ]
  },
  {
   "cell_type": "markdown",
   "metadata": {},
   "source": [
    "__Name__:\n",
    "\n",
    "Kyle Moe"
   ]
  },
  {
   "cell_type": "code",
   "execution_count": 43,
   "metadata": {
    "deletable": false,
    "editable": false,
    "nbgrader": {
     "cell_type": "code",
     "checksum": "794f0fe51e0a49d2e467167fb86b56c6",
     "grade": false,
     "grade_id": "cell-15cf10787d1b2fef",
     "locked": true,
     "schema_version": 3,
     "solution": false,
     "task": false
    }
   },
   "outputs": [
    {
     "data": {
      "text/plain": [
       "defined \u001b[32mfunction\u001b[39m \u001b[36mpassed\u001b[39m"
      ]
     },
     "execution_count": 43,
     "metadata": {},
     "output_type": "execute_result"
    }
   ],
   "source": [
    "// TEST HELPER: Do not EDIT this cell please.\n",
    "def passed(points: Int) {\n",
    "    require(points >=0)\n",
    "    if (points == 1) print(s\"\\n*** Tests Passed (1 point) ***\\n\")\n",
    "    else print(s\"\\n*** Tests Passed ($points points) ***\\n\")\n",
    "}"
   ]
  },
  {
   "cell_type": "markdown",
   "metadata": {
    "deletable": false,
    "editable": false,
    "nbgrader": {
     "cell_type": "markdown",
     "checksum": "bf03b0aa4634492b866b1e9eafebbf16",
     "grade": false,
     "grade_id": "cell-7ba126c839bd0044",
     "locked": true,
     "schema_version": 3,
     "solution": false,
     "task": false
    }
   },
   "source": [
    "## Problem 1 (20 Points) : Natural numbers\n",
    "\n",
    "Natural numbers can be defined in scala using an abstract data type. First we create a type called ``Nat``, and then add two ways of constructing an element of type Nat. A Nat can either be a Zero, or the successor of another already defined Nat. With this type definition, we can construct elements of type Nat."
   ]
  },
  {
   "cell_type": "code",
   "execution_count": 44,
   "metadata": {
    "deletable": false,
    "editable": false,
    "nbgrader": {
     "cell_type": "code",
     "checksum": "0edc43e7a9a48f94a5234521e24ccf43",
     "grade": false,
     "grade_id": "cell-cabddd403420325d",
     "locked": true,
     "schema_version": 3,
     "solution": false,
     "task": false
    }
   },
   "outputs": [
    {
     "data": {
      "text/plain": [
       "defined \u001b[32mtrait\u001b[39m \u001b[36mNat\u001b[39m\r\n",
       "defined \u001b[32mobject\u001b[39m \u001b[36mZero\u001b[39m\r\n",
       "defined \u001b[32mclass\u001b[39m \u001b[36mSucc\u001b[39m\r\n",
       "\u001b[36mone\u001b[39m: \u001b[32mSucc\u001b[39m = \u001b[33mSucc\u001b[39m(Zero)\r\n",
       "\u001b[36mtwo\u001b[39m: \u001b[32mSucc\u001b[39m = \u001b[33mSucc\u001b[39m(\u001b[33mSucc\u001b[39m(Zero))\r\n",
       "\u001b[36mthree\u001b[39m: \u001b[32mSucc\u001b[39m = \u001b[33mSucc\u001b[39m(\u001b[33mSucc\u001b[39m(\u001b[33mSucc\u001b[39m(Zero)))\r\n",
       "\u001b[36mfour\u001b[39m: \u001b[32mSucc\u001b[39m = \u001b[33mSucc\u001b[39m(\u001b[33mSucc\u001b[39m(\u001b[33mSucc\u001b[39m(\u001b[33mSucc\u001b[39m(Zero))))\r\n",
       "\u001b[36mfive\u001b[39m: \u001b[32mSucc\u001b[39m = \u001b[33mSucc\u001b[39m(\u001b[33mSucc\u001b[39m(\u001b[33mSucc\u001b[39m(\u001b[33mSucc\u001b[39m(\u001b[33mSucc\u001b[39m(Zero)))))"
      ]
     },
     "execution_count": 44,
     "metadata": {},
     "output_type": "execute_result"
    }
   ],
   "source": [
    "sealed trait Nat\n",
    "case object Zero extends Nat\n",
    "case class Succ(pred : Nat) extends Nat\n",
    "\n",
    "val one   = Succ(Zero)\n",
    "val two   = Succ(one)\n",
    "val three = Succ(two)\n",
    "val four  = Succ(three)\n",
    "val five  = Succ(four)"
   ]
  },
  {
   "cell_type": "markdown",
   "metadata": {
    "deletable": false,
    "editable": false,
    "nbgrader": {
     "cell_type": "markdown",
     "checksum": "a4a869794ac193d310dc5a5cf34902e0",
     "grade": false,
     "grade_id": "cell-65930cc30cbaac37",
     "locked": true,
     "schema_version": 3,
     "solution": false,
     "task": false
    }
   },
   "source": [
    "How are two natural numbers added together? The result is obtained by constructing a new natural number that is incremented from zero as many times as both of the operands combined."
   ]
  },
  {
   "cell_type": "code",
   "execution_count": 45,
   "metadata": {
    "deletable": false,
    "editable": false,
    "nbgrader": {
     "cell_type": "code",
     "checksum": "86de21331a1e5844e32bc239827c4008",
     "grade": false,
     "grade_id": "cell-1cafbcb684228836",
     "locked": true,
     "schema_version": 3,
     "solution": false,
     "task": false
    }
   },
   "outputs": [
    {
     "data": {
      "text/plain": [
       "defined \u001b[32mfunction\u001b[39m \u001b[36mplus\u001b[39m\r\n",
       "\u001b[36mans\u001b[39m: \u001b[32mNat\u001b[39m = \u001b[33mSucc\u001b[39m(\u001b[33mSucc\u001b[39m(\u001b[33mSucc\u001b[39m(\u001b[33mSucc\u001b[39m(\u001b[33mSucc\u001b[39m(Zero)))))\r\n",
       "\u001b[36mres44_2\u001b[39m: \u001b[32mBoolean\u001b[39m = true"
      ]
     },
     "execution_count": 45,
     "metadata": {},
     "output_type": "execute_result"
    }
   ],
   "source": [
    "def plus(x : Nat, y : Nat) : Nat = x match {\n",
    "    case Zero    => y\n",
    "    case Succ(x) => Succ(plus(x, y))\n",
    "}\n",
    "\n",
    "val ans = plus(two,three)\n",
    "ans == five"
   ]
  },
  {
   "cell_type": "markdown",
   "metadata": {
    "deletable": false,
    "editable": false,
    "nbgrader": {
     "cell_type": "markdown",
     "checksum": "91a1ab83b0432463dbfb660a68da8dbf",
     "grade": false,
     "grade_id": "cell-38d4f2ed23dc0895",
     "locked": true,
     "schema_version": 3,
     "solution": false,
     "task": false
    }
   },
   "source": [
    "### Problem 1a (10 points)\n",
    "Define a function that multiplies two natural numbers:"
   ]
  },
  {
   "cell_type": "code",
   "execution_count": 46,
   "metadata": {
    "deletable": false,
    "nbgrader": {
     "cell_type": "code",
     "checksum": "7d0d0cd77b18415aadb22057dd0e6869",
     "grade": false,
     "grade_id": "cell-07775b70f29b720c",
     "locked": false,
     "schema_version": 3,
     "solution": true,
     "task": false
    }
   },
   "outputs": [
    {
     "data": {
      "text/plain": [
       "defined \u001b[32mfunction\u001b[39m \u001b[36mmult\u001b[39m"
      ]
     },
     "execution_count": 46,
     "metadata": {},
     "output_type": "execute_result"
    }
   ],
   "source": [
    "def mult(x : Nat, y : Nat) : Nat = {\n",
    "    var result : Nat = Zero // Store the return var as a Nat\n",
    "    if (x != Zero || y != Zero) { // Return Zero if either input is Zero\n",
    "        // Define a recursive helper function to perform Nat multiplication\n",
    "        def multRec(p : Nat, res: Nat) : Nat = p match { \n",
    "            case Zero => res // as p decrements, result += y\n",
    "            case Succ(p) => multRec(p, plus(res,y))\n",
    "        }\n",
    "        // Call recsursion with with x as p\n",
    "        result = multRec(x, result)\n",
    "    }\n",
    "    result\n",
    "}"
   ]
  },
  {
   "cell_type": "code",
   "execution_count": 47,
   "metadata": {
    "deletable": false,
    "editable": false,
    "nbgrader": {
     "cell_type": "code",
     "checksum": "471897c2cb3367b5b357aa8ed44bdd9b",
     "grade": true,
     "grade_id": "cell-6cf23ea68d798237",
     "locked": true,
     "points": 10,
     "schema_version": 3,
     "solution": false,
     "task": false
    }
   },
   "outputs": [
    {
     "name": "stdout",
     "output_type": "stream",
     "text": [
      "\n",
      "*** Tests Passed (10 points) ***\n"
     ]
    }
   ],
   "source": [
    "//BEGIN TEST\n",
    "assert( mult(one, four) == four)\n",
    "assert( mult(two, three) == Succ(five))\n",
    "assert( mult(Zero, five) == Zero)\n",
    "passed(10)\n",
    "//END TEST"
   ]
  },
  {
   "cell_type": "markdown",
   "metadata": {
    "deletable": false,
    "editable": false,
    "nbgrader": {
     "cell_type": "markdown",
     "checksum": "10889cbdd31d7fda1ae72375b7de67a6",
     "grade": false,
     "grade_id": "cell-8d90557abc6152b4",
     "locked": true,
     "schema_version": 3,
     "solution": false,
     "task": false
    }
   },
   "source": [
    "### Problem 1b (10 points)\n",
    "\n",
    "Define a function called ``even`` that checks is a Nat is even, returning ``true`` if the number is even."
   ]
  },
  {
   "cell_type": "code",
   "execution_count": 48,
   "metadata": {
    "deletable": false,
    "nbgrader": {
     "cell_type": "code",
     "checksum": "28b1bd2154c4e682c4e17c5f2ac6476c",
     "grade": false,
     "grade_id": "cell-dcd74ba982b165c7",
     "locked": false,
     "schema_version": 3,
     "solution": true,
     "task": false
    }
   },
   "outputs": [
    {
     "data": {
      "text/plain": [
       "defined \u001b[32mfunction\u001b[39m \u001b[36meven\u001b[39m"
      ]
     },
     "execution_count": 48,
     "metadata": {},
     "output_type": "execute_result"
    }
   ],
   "source": [
    "// Apply pattern matching to develop a recusion with even/odd base cases\n",
    "def even(n: Nat) : Boolean = n match {\n",
    "    case Zero => true // even base case\n",
    "    case Succ(Zero) => false // odd base case\n",
    "    case Succ(Succ(prev)) => even(prev) // Subtract by two to maintain parity\n",
    "}"
   ]
  },
  {
   "cell_type": "code",
   "execution_count": 49,
   "metadata": {
    "deletable": false,
    "editable": false,
    "nbgrader": {
     "cell_type": "code",
     "checksum": "3db7f59df82a8fd69760111e5102495d",
     "grade": true,
     "grade_id": "cell-c18cb8cff48ffefb",
     "locked": true,
     "points": 10,
     "schema_version": 3,
     "solution": false,
     "task": false
    }
   },
   "outputs": [
    {
     "name": "stdout",
     "output_type": "stream",
     "text": [
      "\n",
      "*** Tests Passed (10 points) ***\n"
     ]
    }
   ],
   "source": [
    "//BEGIN TEST\n",
    "assert( even(Zero) == true)\n",
    "assert( even(one) == false)\n",
    "assert( even(five) == false)\n",
    "assert( even(plus(five,five)) == true)\n",
    "passed(10)\n",
    "//END TEST"
   ]
  },
  {
   "cell_type": "markdown",
   "metadata": {
    "deletable": false,
    "editable": false,
    "nbgrader": {
     "cell_type": "markdown",
     "checksum": "2059410726b554446065b1e9954d4f87",
     "grade": false,
     "grade_id": "cell-fcf6babaf2df454d",
     "locked": true,
     "schema_version": 3,
     "solution": false,
     "task": false
    }
   },
   "source": [
    "## Problem 2 (30 points) : Lists"
   ]
  },
  {
   "cell_type": "markdown",
   "metadata": {
    "deletable": false,
    "editable": false,
    "nbgrader": {
     "cell_type": "markdown",
     "checksum": "4c72c8a6a37859eb0c5e1515f59e4d78",
     "grade": false,
     "grade_id": "cell-8c867361fc7891e8",
     "locked": true,
     "schema_version": 3,
     "solution": false,
     "task": false
    }
   },
   "source": [
    "### Problem 2a (10 points)\n",
    "Write the definition of list of Nats in scala using using the cons construction we defined in class. If your definition is correct, the lists defined in the test should be created successfully."
   ]
  },
  {
   "cell_type": "code",
   "execution_count": 50,
   "metadata": {
    "deletable": false,
    "nbgrader": {
     "cell_type": "code",
     "checksum": "c07664a096f7d0c4a76e5fa567429428",
     "grade": false,
     "grade_id": "cell-05547163ae0a3a81",
     "locked": false,
     "schema_version": 3,
     "solution": true,
     "task": false
    }
   },
   "outputs": [
    {
     "data": {
      "text/plain": [
       "defined \u001b[32mtrait\u001b[39m \u001b[36mList\u001b[39m\r\n",
       "defined \u001b[32mobject\u001b[39m \u001b[36mEmpty\u001b[39m\r\n",
       "defined \u001b[32mclass\u001b[39m \u001b[36mCons\u001b[39m"
      ]
     },
     "execution_count": 50,
     "metadata": {},
     "output_type": "execute_result"
    }
   ],
   "source": [
    "\n",
    "sealed trait List // Define a List trait just as Nat\n",
    "case object Empty extends List // Empty base case like Zero\n",
    "case class Cons(n : Nat, lst: List) extends List // List constructor with two arguments\n"
   ]
  },
  {
   "cell_type": "code",
   "execution_count": 51,
   "metadata": {
    "deletable": false,
    "editable": false,
    "nbgrader": {
     "cell_type": "code",
     "checksum": "9d932994cc974035d91b60a05fba2923",
     "grade": true,
     "grade_id": "cell-c5a1cf21d594aaa1",
     "locked": true,
     "points": 10,
     "schema_version": 3,
     "solution": false,
     "task": false
    }
   },
   "outputs": [
    {
     "name": "stdout",
     "output_type": "stream",
     "text": [
      "\n",
      "*** Tests Passed (10 points) ***\n"
     ]
    },
    {
     "data": {
      "text/plain": [
       "\u001b[36mlist1\u001b[39m: \u001b[32mEmpty\u001b[39m.type = Empty\r\n",
       "\u001b[36mlist2\u001b[39m: \u001b[32mCons\u001b[39m = \u001b[33mCons\u001b[39m(\u001b[33mSucc\u001b[39m(\u001b[33mSucc\u001b[39m(\u001b[33mSucc\u001b[39m(\u001b[33mSucc\u001b[39m(\u001b[33mSucc\u001b[39m(Zero))))), Empty)\r\n",
       "\u001b[36mlist3\u001b[39m: \u001b[32mCons\u001b[39m = \u001b[33mCons\u001b[39m(\n",
       "  \u001b[33mSucc\u001b[39m(\u001b[33mSucc\u001b[39m(\u001b[33mSucc\u001b[39m(Zero))),\n",
       "  \u001b[33mCons\u001b[39m(\n",
       "    \u001b[33mSucc\u001b[39m(Zero),\n",
       "    \u001b[33mCons\u001b[39m(\n",
       "      \u001b[33mSucc\u001b[39m(\u001b[33mSucc\u001b[39m(\u001b[33mSucc\u001b[39m(\u001b[33mSucc\u001b[39m(Zero)))),\n",
       "      \u001b[33mCons\u001b[39m(\u001b[33mSucc\u001b[39m(Zero), \u001b[33mCons\u001b[39m(\u001b[33mSucc\u001b[39m(\u001b[33mSucc\u001b[39m(\u001b[33mSucc\u001b[39m(\u001b[33mSucc\u001b[39m(\u001b[33mSucc\u001b[39m(Zero))))), Empty))\n",
       "    )\n",
       "  )\n",
       ")"
      ]
     },
     "execution_count": 51,
     "metadata": {},
     "output_type": "execute_result"
    }
   ],
   "source": [
    "//BEGIN TEST\n",
    "val list1 = Empty\n",
    "val list2 = Cons(five, Empty)\n",
    "val list3 = Cons(three, Cons(one, Cons(four, Cons(one, Cons(five, Empty)))))\n",
    "passed(10)\n",
    "//END TEST"
   ]
  },
  {
   "cell_type": "markdown",
   "metadata": {
    "deletable": false,
    "editable": false,
    "nbgrader": {
     "cell_type": "markdown",
     "checksum": "355aa571a43fbfde0c5730525f8cad20",
     "grade": false,
     "grade_id": "cell-bdcf26ff44c70cea",
     "locked": true,
     "schema_version": 3,
     "solution": false,
     "task": false
    }
   },
   "source": [
    "### Problem 2b (5 points)\n",
    "Write a ``List => Nat`` function called ``length`` that returns the length of a list as a Nat"
   ]
  },
  {
   "cell_type": "code",
   "execution_count": 52,
   "metadata": {
    "deletable": false,
    "nbgrader": {
     "cell_type": "code",
     "checksum": "5a9409673982bb4359f9a9222e9baa44",
     "grade": false,
     "grade_id": "cell-198204e8fa90413b",
     "locked": false,
     "schema_version": 3,
     "solution": true,
     "task": false
    }
   },
   "outputs": [
    {
     "data": {
      "text/plain": [
       "defined \u001b[32mfunction\u001b[39m \u001b[36mlength\u001b[39m"
      ]
     },
     "execution_count": 52,
     "metadata": {},
     "output_type": "execute_result"
    }
   ],
   "source": [
    "// Somewhat similar recursion to mult with helper function\n",
    "def length(in : List) : Nat = {\n",
    "    // helper function that increments size:Nat for each element\n",
    "    def lengthRec(inLst : List, size : Nat) : Nat = {\n",
    "        inLst match {\n",
    "            case Empty => size // Empty list base case returns size\n",
    "            case Cons(inNum, inLst) => lengthRec(inLst, Succ(size)) // recurse with incresed size and 'inside' list\n",
    "        }\n",
    "    }\n",
    "    lengthRec(in, Zero) // Call helper with input and initial size of Zero\n",
    "}"
   ]
  },
  {
   "cell_type": "code",
   "execution_count": 53,
   "metadata": {
    "deletable": false,
    "editable": false,
    "nbgrader": {
     "cell_type": "code",
     "checksum": "8b3920ded5e9e841e7a3625113f7fcf4",
     "grade": true,
     "grade_id": "cell-4851c80fe2d7a6b5",
     "locked": true,
     "points": 5,
     "schema_version": 3,
     "solution": false,
     "task": false
    }
   },
   "outputs": [
    {
     "name": "stdout",
     "output_type": "stream",
     "text": [
      "\n",
      "*** Tests Passed (5 points) ***\n"
     ]
    }
   ],
   "source": [
    "//BEGIN TEST\n",
    "assert( length(list1) == Zero )\n",
    "assert( length(list2) == one )\n",
    "assert( length(list3) == five )\n",
    "passed(5)\n",
    "//END TEST"
   ]
  },
  {
   "cell_type": "markdown",
   "metadata": {
    "deletable": false,
    "editable": false,
    "nbgrader": {
     "cell_type": "markdown",
     "checksum": "e7e0689662da9ff7f434b66ce56b3515",
     "grade": false,
     "grade_id": "cell-9212786ad782d125",
     "locked": true,
     "schema_version": 3,
     "solution": false,
     "task": false
    }
   },
   "source": [
    "### Problem 2c (5 points)\n",
    "Write a ``sum`` function which computes the sum of a list and returns a Nat."
   ]
  },
  {
   "cell_type": "code",
   "execution_count": 59,
   "metadata": {
    "deletable": false,
    "nbgrader": {
     "cell_type": "code",
     "checksum": "67a2e1d109f4c9870bb0ff978c55b5cc",
     "grade": false,
     "grade_id": "cell-5f653fd80422308e",
     "locked": false,
     "schema_version": 3,
     "solution": true,
     "task": false
    }
   },
   "outputs": [
    {
     "data": {
      "text/plain": [
       "defined \u001b[32mfunction\u001b[39m \u001b[36msum\u001b[39m"
      ]
     },
     "execution_count": 59,
     "metadata": {},
     "output_type": "execute_result"
    }
   ],
   "source": [
    "// Similar to length this implements a helper function recursion\n",
    "def sum(list : List) : Nat = {\n",
    "    // Whereas length incremented by one for each element, sum adds the list \n",
    "    // number in Cons(inNum, inLst)\n",
    "    def sumRec(inLst : List, amount : Nat) : Nat = {\n",
    "        inLst match {\n",
    "            case Empty => amount // Fully traversed list return sum\n",
    "            case Cons(inNum, inLst) => sumRec(inLst, plus(inNum, amount)) // plus(inNum, amount) keeps track of sum\n",
    "        }\n",
    "    }\n",
    "    sumRec(list, Zero) // Sum starts at Zero with input list\n",
    "}"
   ]
  },
  {
   "cell_type": "code",
   "execution_count": 60,
   "metadata": {
    "deletable": false,
    "editable": false,
    "nbgrader": {
     "cell_type": "code",
     "checksum": "2d7115dff3da57c0800d7b2876156ff8",
     "grade": true,
     "grade_id": "cell-dd1215a8749c149d",
     "locked": true,
     "points": 5,
     "schema_version": 3,
     "solution": false,
     "task": false
    }
   },
   "outputs": [
    {
     "name": "stdout",
     "output_type": "stream",
     "text": [
      "\n",
      "*** Tests Passed (5 points) ***\n"
     ]
    }
   ],
   "source": [
    "//BEGIN TEST\n",
    "assert( sum(list1) == Zero )\n",
    "assert( sum(list2) == five )\n",
    "assert( sum(list3) == Succ(Succ(Succ(Succ(Succ(Succ(Succ(Succ(Succ(Succ(Succ(Succ(Succ(Succ(Zero)))))))))))))) )\n",
    "passed(5)\n",
    "//END TEST"
   ]
  },
  {
   "cell_type": "markdown",
   "metadata": {
    "deletable": false,
    "editable": false,
    "nbgrader": {
     "cell_type": "markdown",
     "checksum": "3ac4722e64a97eadf8a563804a78117f",
     "grade": false,
     "grade_id": "cell-a438f748bf33f5cb",
     "locked": true,
     "schema_version": 3,
     "solution": false,
     "task": false
    }
   },
   "source": [
    "### Problem 2d (5 points)\n",
    "Write a function called ``last`` that returns the last element of a list as a singleton list.\n",
    "\n",
    "[1] => [1]\n",
    "\n",
    "[1,2,3,4,5] => [5]\n",
    "\n",
    "What should you do for empty lists?"
   ]
  },
  {
   "cell_type": "code",
   "execution_count": 61,
   "metadata": {
    "deletable": false,
    "nbgrader": {
     "cell_type": "code",
     "checksum": "139f807d2bda5de07ceba60e798458d9",
     "grade": false,
     "grade_id": "cell-a5e99da11725afdb",
     "locked": false,
     "schema_version": 3,
     "solution": true,
     "task": false
    }
   },
   "outputs": [
    {
     "data": {
      "text/plain": [
       "defined \u001b[32mfunction\u001b[39m \u001b[36mlast\u001b[39m"
      ]
     },
     "execution_count": 61,
     "metadata": {},
     "output_type": "execute_result"
    }
   ],
   "source": [
    "// Another recursion with only one argument as we simply need a list element\n",
    "def last(list : List) : List = {\n",
    "    def lastRec(inner : List) : List = {\n",
    "        // Check each inner list until reaching last element\n",
    "        inner match {\n",
    "            case Empty => inner // Handles empty list case\n",
    "            case Cons(inNat, Empty) => inner // base case to return \n",
    "            case Cons(inNat, inList) => lastRec(inList) // Traverse list\n",
    "        }\n",
    "    }\n",
    "    lastRec(list)\n",
    "}"
   ]
  },
  {
   "cell_type": "code",
   "execution_count": 62,
   "metadata": {
    "deletable": false,
    "editable": false,
    "nbgrader": {
     "cell_type": "code",
     "checksum": "0c16fa0146bbb2b2646b611473374d1c",
     "grade": true,
     "grade_id": "cell-f3cd3bc0a702d90e",
     "locked": true,
     "points": 5,
     "schema_version": 3,
     "solution": false,
     "task": false
    }
   },
   "outputs": [
    {
     "name": "stdout",
     "output_type": "stream",
     "text": [
      "\n",
      "*** Tests Passed (5 points) ***\n"
     ]
    }
   ],
   "source": [
    "//BEGIN TEST\n",
    "assert( last(list1) == Empty )\n",
    "assert( last(list2) == list2 )\n",
    "assert( last(list3) == list2 )\n",
    "passed(5)\n",
    "//END TEST"
   ]
  },
  {
   "cell_type": "markdown",
   "metadata": {
    "deletable": false,
    "editable": false,
    "nbgrader": {
     "cell_type": "markdown",
     "checksum": "b6eab749a7d780434754e6def022837e",
     "grade": false,
     "grade_id": "cell-eea82c363be16e88",
     "locked": true,
     "schema_version": 3,
     "solution": false,
     "task": false
    }
   },
   "source": [
    "### Problem 2e (5 points)\n",
    "Write the ``countdown`` function: given a Nat x, return a list counting down from x to zero."
   ]
  },
  {
   "cell_type": "code",
   "execution_count": 64,
   "metadata": {
    "deletable": false,
    "nbgrader": {
     "cell_type": "code",
     "checksum": "d470316b7af9caf13082ff63231aeb51",
     "grade": false,
     "grade_id": "cell-bcab1cbf421bcac1",
     "locked": false,
     "schema_version": 3,
     "solution": true,
     "task": false
    }
   },
   "outputs": [
    {
     "data": {
      "text/plain": [
       "defined \u001b[32mfunction\u001b[39m \u001b[36mcountdown\u001b[39m"
      ]
     },
     "execution_count": 64,
     "metadata": {},
     "output_type": "execute_result"
    }
   ],
   "source": [
    "// Because we start with the list Cons(Zero,Empty) we can use our function, length,\n",
    "// on the recursive list to get the Nat for each subsequent layer \n",
    "def countdown(n : Nat) : List = {\n",
    "    def cdRec(left : Nat, list : List) : List = {\n",
    "        left match {\n",
    "            case Zero => list\n",
    "            // Decrement our input Nat. Add addtional element with current list of value, length(list)\n",
    "            case Succ(p) => cdRec(p, Cons(length(list), list))\n",
    "        }\n",
    "    }\n",
    "    cdRec(n, Cons(Zero, Empty))\n",
    "}"
   ]
  },
  {
   "cell_type": "code",
   "execution_count": 65,
   "metadata": {
    "deletable": false,
    "editable": false,
    "nbgrader": {
     "cell_type": "code",
     "checksum": "bfb19344e27d8ec17a00e46fc83a40c7",
     "grade": true,
     "grade_id": "cell-17ee23e31318b5e4",
     "locked": true,
     "points": 5,
     "schema_version": 3,
     "solution": false,
     "task": false
    }
   },
   "outputs": [
    {
     "name": "stdout",
     "output_type": "stream",
     "text": [
      "\n",
      "*** Tests Passed (5 points) ***\n"
     ]
    }
   ],
   "source": [
    "//BEGIN TEST\n",
    "assert( countdown(five) == \n",
    "    Cons( Succ(Succ(Succ(Succ(Succ(Zero))))),\n",
    "    Cons( Succ(Succ(Succ(Succ(Zero)))),\n",
    "    Cons( Succ(Succ(Succ(Zero))),\n",
    "    Cons( Succ(Succ(Zero)), \n",
    "    Cons( Succ(Zero),\n",
    "    Cons(Zero, \n",
    "         Empty))))))\n",
    ")\n",
    "passed(5)\n",
    "//END TEST"
   ]
  },
  {
   "cell_type": "code",
   "execution_count": null,
   "metadata": {},
   "outputs": [],
   "source": []
  }
 ],
 "metadata": {
  "celltoolbar": "Edit Metadata",
  "kernelspec": {
   "display_name": "Scala",
   "language": "scala",
   "name": "scala"
  },
  "language_info": {
   "codemirror_mode": "text/x-scala",
   "file_extension": ".scala",
   "mimetype": "text/x-scala",
   "name": "scala",
   "nbconvert_exporter": "script",
   "version": "2.12.10"
  }
 },
 "nbformat": 4,
 "nbformat_minor": 2
}
