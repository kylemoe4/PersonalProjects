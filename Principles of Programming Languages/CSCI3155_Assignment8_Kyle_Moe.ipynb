{
 "cells": [
  {
   "cell_type": "code",
   "execution_count": null,
   "metadata": {},
   "outputs": [],
   "source": []
  },
  {
   "cell_type": "markdown",
   "metadata": {
    "deletable": false,
    "editable": false,
    "nbgrader": {
     "cell_type": "markdown",
     "checksum": "3208fe3b93767f291a8f1a93aca2ecae",
     "grade": false,
     "grade_id": "cell-7a448b048326fe96",
     "locked": true,
     "schema_version": 3,
     "solution": false,
     "task": false
    }
   },
   "source": [
    "# CSCI 3155 : Assignment 8"
   ]
  },
  {
   "cell_type": "markdown",
   "metadata": {},
   "source": [
    "__Name__:\n",
    "\n",
    "Kyle Moe"
   ]
  },
  {
   "cell_type": "code",
   "execution_count": 1,
   "metadata": {
    "deletable": false,
    "editable": false,
    "nbgrader": {
     "cell_type": "code",
     "checksum": "6bd4de977850c58348293883865f571c",
     "grade": false,
     "grade_id": "cell-a76bd805063f24b9",
     "locked": true,
     "schema_version": 3,
     "solution": false,
     "task": false
    }
   },
   "outputs": [
    {
     "data": {
      "text/plain": [
       "defined \u001b[32mfunction\u001b[39m \u001b[36mpassed\u001b[39m"
      ]
     },
     "execution_count": 1,
     "metadata": {},
     "output_type": "execute_result"
    }
   ],
   "source": [
    "// TEST HELPER: Do not EDIT this cell please.\n",
    "def passed(points: Int) {\n",
    "    require(points >=0)\n",
    "    if (points == 1) print(s\"\\n*** Tests Passed (1 point) ***\\n\")\n",
    "    else print(s\"\\n*** Tests Passed ($points points) ***\\n\")\n",
    "}"
   ]
  },
  {
   "cell_type": "markdown",
   "metadata": {
    "deletable": false,
    "editable": false,
    "nbgrader": {
     "cell_type": "markdown",
     "checksum": "5a135992e7fb2d981f0451e753d2931c",
     "grade": false,
     "grade_id": "cell-c0e2fe59872461d1",
     "locked": true,
     "schema_version": 3,
     "solution": false,
     "task": false
    }
   },
   "source": [
    "## Problem 1 : Type Checking (100 points)\n",
    "\n",
    "Write a function `typecheck` that typechecks a Lettuce program.\n",
    "\n",
    "$$\\texttt{typecheck} : Program \\rightarrow Type$$ \n",
    "\n",
    "This function should take as input a lettuce _Program_, and return what _Type_ it is. If it doesn't typecheck it should return a special value _TypeError_. Use the Lettuce typing notes on moodle for details on how typechecking lettuce works.\n",
    "\n",
    "The tests for this assigment are hidden, so you will need to write your own tests! Note that you are encouraged to collaborate and share your test ideas on Piazza. To get full points, your implementation needs to match the specification from the Lettuce typing notes on moodle."
   ]
  },
  {
   "cell_type": "code",
   "execution_count": 2,
   "metadata": {
    "deletable": false,
    "editable": false,
    "nbgrader": {
     "cell_type": "code",
     "checksum": "5ddc9ef62f5e3348da0b7ba96c672ba8",
     "grade": false,
     "grade_id": "cell-3f06bd7da6098c56",
     "locked": true,
     "schema_version": 3,
     "solution": false,
     "task": false
    }
   },
   "outputs": [
    {
     "data": {
      "text/plain": [
       "defined \u001b[32mtrait\u001b[39m \u001b[36mType\u001b[39m\r\n",
       "defined \u001b[32mobject\u001b[39m \u001b[36mNumType\u001b[39m\r\n",
       "defined \u001b[32mobject\u001b[39m \u001b[36mBoolType\u001b[39m\r\n",
       "defined \u001b[32mclass\u001b[39m \u001b[36mFunType\u001b[39m\r\n",
       "defined \u001b[32mobject\u001b[39m \u001b[36mTypeError\u001b[39m\r\n",
       "defined \u001b[32mtrait\u001b[39m \u001b[36mExpr\u001b[39m\r\n",
       "defined \u001b[32mclass\u001b[39m \u001b[36mConst\u001b[39m\r\n",
       "defined \u001b[32mclass\u001b[39m \u001b[36mIdent\u001b[39m\r\n",
       "defined \u001b[32mobject\u001b[39m \u001b[36mTrue\u001b[39m\r\n",
       "defined \u001b[32mobject\u001b[39m \u001b[36mFalse\u001b[39m\r\n",
       "defined \u001b[32mclass\u001b[39m \u001b[36mPlus\u001b[39m\r\n",
       "defined \u001b[32mclass\u001b[39m \u001b[36mMinus\u001b[39m\r\n",
       "defined \u001b[32mclass\u001b[39m \u001b[36mMult\u001b[39m\r\n",
       "defined \u001b[32mclass\u001b[39m \u001b[36mNeg\u001b[39m\r\n",
       "defined \u001b[32mclass\u001b[39m \u001b[36mAnd\u001b[39m\r\n",
       "defined \u001b[32mclass\u001b[39m \u001b[36mOr\u001b[39m\r\n",
       "defined \u001b[32mclass\u001b[39m \u001b[36mGeq\u001b[39m\r\n",
       "defined \u001b[32mclass\u001b[39m \u001b[36mEq\u001b[39m\r\n",
       "defined \u001b[32mclass\u001b[39m \u001b[36mITE\u001b[39m\r\n",
       "defined \u001b[32mclass\u001b[39m \u001b[36mLet\u001b[39m\r\n",
       "defined \u001b[32mclass\u001b[39m \u001b[36mFunDef\u001b[39m\r\n",
       "defined \u001b[32mclass\u001b[39m \u001b[36mFunCall\u001b[39m\r\n",
       "defined \u001b[32mclass\u001b[39m \u001b[36mLetRec\u001b[39m\r\n",
       "defined \u001b[32mtrait\u001b[39m \u001b[36mProgram\u001b[39m\r\n",
       "defined \u001b[32mclass\u001b[39m \u001b[36mMain\u001b[39m"
      ]
     },
     "execution_count": 2,
     "metadata": {},
     "output_type": "execute_result"
    }
   ],
   "source": [
    "sealed trait Type\n",
    "case object NumType extends Type\n",
    "case object BoolType extends Type\n",
    "case class FunType( ty_a : Type, ty_r : Type) extends Type\n",
    "case object TypeError extends Type\n",
    "\n",
    "sealed trait Expr\n",
    "case class  Const(n : Int) extends Expr\n",
    "case class  Ident(s : String) extends Expr\n",
    "case object True extends Expr\n",
    "case object False extends Expr\n",
    "case class  Plus( e1 : Expr, e2 : Expr) extends Expr\n",
    "case class  Minus( e1 : Expr, e2 : Expr) extends Expr\n",
    "case class  Mult( e1 : Expr, e2 : Expr) extends Expr\n",
    "case class  Neg( e1 : Expr) extends Expr\n",
    "case class  And( e1 : Expr, e2 : Expr) extends Expr\n",
    "case class  Or( e1 : Expr, e2 : Expr) extends Expr\n",
    "case class  Geq( e1 : Expr, e2 : Expr) extends Expr\n",
    "case class  Eq( e1 : Expr, e2 : Expr) extends Expr\n",
    "case class  ITE( ec : Expr, et : Expr, ef : Expr) extends Expr\n",
    "case class  Let( name : String, ty_d : Type, ed : Expr, ei : Expr) extends Expr\n",
    "case class  FunDef( arg : String, ty_a : Type, eb : Expr) extends Expr\n",
    "case class  FunCall( ef : Expr, ea : Expr) extends Expr\n",
    "case class  LetRec( f : String, ty_f : Type, x : String, ty_x : Type, eb : Expr, ei : Expr) extends Expr\n",
    "\n",
    "sealed trait Program\n",
    "case class Main(p : Expr) extends Program"
   ]
  },
  {
   "cell_type": "code",
   "execution_count": 3,
   "metadata": {
    "deletable": false,
    "nbgrader": {
     "cell_type": "code",
     "checksum": "cbdeb01186bcefd40ba2d4d5c773789f",
     "grade": false,
     "grade_id": "cell-f8cd57266fd56cf2",
     "locked": false,
     "schema_version": 3,
     "solution": true,
     "task": false
    }
   },
   "outputs": [
    {
     "data": {
      "text/plain": [
       "defined \u001b[32mtrait\u001b[39m \u001b[36mContext\u001b[39m\r\n",
       "defined \u001b[32mobject\u001b[39m \u001b[36mEmpty\u001b[39m\r\n",
       "defined \u001b[32mclass\u001b[39m \u001b[36mExtend\u001b[39m\r\n",
       "defined \u001b[32mfunction\u001b[39m \u001b[36mget\u001b[39m\r\n",
       "defined \u001b[32mfunction\u001b[39m \u001b[36mtypecheck\u001b[39m"
      ]
     },
     "execution_count": 3,
     "metadata": {},
     "output_type": "execute_result"
    }
   ],
   "source": [
    "// By defining the following Context ADT we are able to store the type of each function and variable\n",
    "sealed trait Context\n",
    "case object Empty extends Context\n",
    "case class Extend(key : String, t : Type, con : Context) extends Context\n",
    "\n",
    "// Getter function for Context that determines if an Ident(\"X\") corresponds to a known type\n",
    "def get(c : Context, key : String) : Type = {\n",
    "    c match {\n",
    "        case Empty => TypeError \n",
    "        case Extend(k, t, con) => if (k == key) t else get(con, key)\n",
    "    }\n",
    "}\n",
    "\n",
    "//Typecheck function for Main(Expr) kind of program\n",
    "def typecheck(p : Program) : Type = {\n",
    "    p match {\n",
    "        //Ensure that our program is correctly constructed\n",
    "        case Main(q) => {\n",
    "            // We define a recursive helper function in order to make use of our defined Context\n",
    "            def typeRec(i : Expr, con : Context) : Type = {\n",
    "                i match {\n",
    "                    case Const(n) => NumType \n",
    "                    case True => BoolType\n",
    "                    case False => BoolType\n",
    "                    case Ident(s) => get(con, s) // Depends on whether Identity has type in Context\n",
    "                    \n",
    "                    //Plus, Minus, and Mult are essentially the same and require that both args are\n",
    "                    //NumType and if so returns NumType\n",
    "                    case Plus(e1, e2) => {\n",
    "                        if ((typeRec(e1, con) == NumType) && (typeRec(e2, con) == NumType)) NumType else TypeError\n",
    "                    }\n",
    "                    case Minus(e1, e2) => {\n",
    "                        if ((typeRec(e1, con) == NumType) && (typeRec(e2, con) == NumType)) NumType else TypeError\n",
    "                    }\n",
    "                    case Mult(e1, e2) => {\n",
    "                        if ((typeRec(e1, con) == NumType) && (typeRec(e2, con) == NumType)) NumType else TypeError\n",
    "                    }\n",
    "                    //Neg needs to be able to return return type if function or Expr type otherwise\n",
    "                    case Neg(e) => typeRec(e, con) match {\n",
    "                        case FunType(ta, tr) => tr\n",
    "                        case BoolType => BoolType\n",
    "                        case NumType => NumType\n",
    "                        case TypeError => TypeError\n",
    "                    }\n",
    "                    // And and Or take BoolType args and returns BoolType\n",
    "                    case And(e1, e2) => {\n",
    "                        if ((typeRec(e1, con) == BoolType) && (typeRec(e2, con) == BoolType)) BoolType else TypeError\n",
    "                    }\n",
    "                    case Or(e1, e2) => {\n",
    "                        if ((typeRec(e1, con) == BoolType) && (typeRec(e2, con) == BoolType)) BoolType else TypeError\n",
    "                    }\n",
    "                    //Geq and Eq take NumType and return BoolType\n",
    "                    case Geq(e1, e2) => {\n",
    "                        if ((typeRec(e1, con) == NumType) && (typeRec(e2, con) == NumType)) BoolType else TypeError\n",
    "                    }\n",
    "                    case Eq(e1, e2) => {\n",
    "                        val t1 = typeRec(e1, con)\n",
    "                        val t2 = typeRec(e2, con)\n",
    "                        (t1, t2) match {\n",
    "                            case (FunType(a, b), FunType(c, d)) => if (b == d) BoolType else TypeError\n",
    "                            case (a, FunType(c, d)) => if (a == d) BoolType else TypeError\n",
    "                            case (FunType(a, b), c) => if (b == c) BoolType else TypeError\n",
    "                            case _ => if (t1 == t2) BoolType else TypeError\n",
    "                        }\n",
    "                        //if (typeRec(e1, con) == typeRec(e2, con)) BoolType else TypeError\n",
    "                    }\n",
    "                    // ITE requires that e1 is a BoolType conditional and that e2 and e3 are the same return type\n",
    "                    case ITE(e1, e2, e3) => typeRec(e1, con) match {\n",
    "                        case BoolType => {\n",
    "                            val v2 = typeRec(e2, con)\n",
    "                            val v3 = typeRec(e3, con)\n",
    "                            if (v2 == v3) v2 else TypeError\n",
    "                        }\n",
    "                        case _ => TypeError\n",
    "                    }\n",
    "                    // We must evaluate the in expression so long as we know the let definition type in our Context\n",
    "                    case Let(name, ty, ed, ei) => {\n",
    "                        val newCon = Extend(name, ty, con)\n",
    "                        typeRec(ei, newCon)\n",
    "                    }\n",
    "                    // FunDef returns FunType or Error but we must know argument type in Context to determine return type\n",
    "                    case FunDef(a, tya, b) => {\n",
    "                        val newCon = Extend(a, tya, con)\n",
    "                        val tyb = typeRec(b, newCon)\n",
    "                        tyb match {\n",
    "                            case TypeError => TypeError\n",
    "                            case _ => FunType(tya, tyb)\n",
    "                        }\n",
    "                    }\n",
    "                    // When calling a function we want the function name to actually be associated with a\n",
    "                    // FunType. From there ensure that argument type is appropriate as well\n",
    "                    case FunCall(ef, ea) => {\n",
    "                        val tyf = typeRec(ef, con)\n",
    "                        val tya = typeRec(ea, con)\n",
    "                        tyf match {\n",
    "                            case FunType(ta, tr) => if (tya == ta) tr else TypeError\n",
    "                            case _ => TypeError\n",
    "                        }\n",
    "                    }\n",
    "                    // LetRec evaluates the function body in the context of the type of the function and its\n",
    "                    // argument and from there ensures that the types of the function match the argument type\n",
    "                    // and return type. The return type is defined by what returns from the in expression in\n",
    "                    // when the function is included in the Context\n",
    "                    case LetRec(f, tyf, a, tya, eb, ei) => {\n",
    "                        val newCon1 = Extend(f, tyf, con)\n",
    "                        val newCon2 = Extend(a, tya, newCon1)\n",
    "                        val tyr = typeRec(eb, newCon2)\n",
    "                        tyf match {\n",
    "                            case FunType(ftya, ftyr) => {\n",
    "                                if (ftya == tya && ftyr == tyr) {\n",
    "                                    typeRec(ei, newCon1)\n",
    "                                }else {\n",
    "                                    TypeError\n",
    "                                }\n",
    "                                \n",
    "                            }\n",
    "                            case _ => TypeError\n",
    "                        }\n",
    "                        \n",
    "                    }\n",
    "                }\n",
    "            }\n",
    "            typeRec(q, Empty)\n",
    "            \n",
    "        }\n",
    "        case _ => TypeError\n",
    "    }\n",
    "}"
   ]
  },
  {
   "cell_type": "code",
   "execution_count": 4,
   "metadata": {
    "deletable": false,
    "editable": false,
    "nbgrader": {
     "cell_type": "code",
     "checksum": "cc4269729414496011cfa4980d54a4e4",
     "grade": true,
     "grade_id": "cell-d9b206afd7a24388",
     "locked": true,
     "points": 20,
     "schema_version": 3,
     "solution": false,
     "task": false
    },
    "scrolled": true
   },
   "outputs": [
    {
     "name": "stdout",
     "output_type": "stream",
     "text": [
      "\n",
      "*** Tests Passed (20 points) ***\n",
      "Hidden Tests : up to 80 points remaining\n"
     ]
    },
    {
     "data": {
      "text/plain": [
       "\u001b[36mp1\u001b[39m: \u001b[32mProgram\u001b[39m = \u001b[33mMain\u001b[39m(\u001b[33mConst\u001b[39m(\u001b[32m10\u001b[39m))"
      ]
     },
     "execution_count": 4,
     "metadata": {},
     "output_type": "execute_result"
    }
   ],
   "source": [
    "val p1 : Program = Main( Const(10) )\n",
    "assert( typecheck(p1) == NumType, \"test 1\")\n",
    "passed(20)\n",
    "println(\"Hidden Tests : up to 80 points remaining\")"
   ]
  },
  {
   "cell_type": "code",
   "execution_count": 5,
   "metadata": {},
   "outputs": [
    {
     "data": {
      "text/plain": [
       "\u001b[36mp1\u001b[39m: \u001b[32mProgram\u001b[39m = \u001b[33mMain\u001b[39m(True)\r\n",
       "\u001b[36mp2\u001b[39m: \u001b[32mProgram\u001b[39m = \u001b[33mMain\u001b[39m(False)"
      ]
     },
     "execution_count": 5,
     "metadata": {},
     "output_type": "execute_result"
    }
   ],
   "source": [
    "//Checks basic True/False\n",
    "val p1 : Program = Main(True)\n",
    "val p2 : Program = Main(False)\n",
    "assert(typecheck(p1) == BoolType)\n",
    "assert(typecheck(p2) == BoolType)"
   ]
  },
  {
   "cell_type": "code",
   "execution_count": 6,
   "metadata": {},
   "outputs": [
    {
     "data": {
      "text/plain": [
       "\u001b[36mp1\u001b[39m: \u001b[32mProgram\u001b[39m = \u001b[33mMain\u001b[39m(\u001b[33mPlus\u001b[39m(\u001b[33mConst\u001b[39m(\u001b[32m2\u001b[39m), \u001b[33mConst\u001b[39m(\u001b[32m-5\u001b[39m)))\r\n",
       "\u001b[36mp2\u001b[39m: \u001b[32mProgram\u001b[39m = \u001b[33mMain\u001b[39m(\u001b[33mPlus\u001b[39m(\u001b[33mConst\u001b[39m(\u001b[32m2\u001b[39m), True))\r\n",
       "\u001b[36mp3\u001b[39m: \u001b[32mProgram\u001b[39m = \u001b[33mMain\u001b[39m(\u001b[33mPlus\u001b[39m(False, True))"
      ]
     },
     "execution_count": 6,
     "metadata": {},
     "output_type": "execute_result"
    }
   ],
   "source": [
    "//Checks Plus\n",
    "val p1 : Program = Main(Plus(Const(2), Const(-5)))\n",
    "val p2 : Program = Main(Plus(Const(2), True))\n",
    "val p3 : Program = Main(Plus(False, True))\n",
    "assert(typecheck(p1) == NumType)\n",
    "assert(typecheck(p2) == TypeError)\n",
    "assert(typecheck(p3) == TypeError)"
   ]
  },
  {
   "cell_type": "code",
   "execution_count": 7,
   "metadata": {},
   "outputs": [
    {
     "data": {
      "text/plain": [
       "\u001b[36mp1\u001b[39m: \u001b[32mProgram\u001b[39m = \u001b[33mMain\u001b[39m(\u001b[33mMinus\u001b[39m(\u001b[33mConst\u001b[39m(\u001b[32m2\u001b[39m), \u001b[33mConst\u001b[39m(\u001b[32m-5\u001b[39m)))\r\n",
       "\u001b[36mp2\u001b[39m: \u001b[32mProgram\u001b[39m = \u001b[33mMain\u001b[39m(\u001b[33mMinus\u001b[39m(\u001b[33mConst\u001b[39m(\u001b[32m2\u001b[39m), True))\r\n",
       "\u001b[36mp3\u001b[39m: \u001b[32mProgram\u001b[39m = \u001b[33mMain\u001b[39m(\u001b[33mMinus\u001b[39m(False, True))"
      ]
     },
     "execution_count": 7,
     "metadata": {},
     "output_type": "execute_result"
    }
   ],
   "source": [
    "//Checks Minus\n",
    "val p1 : Program = Main(Minus(Const(2), Const(-5)))\n",
    "val p2 : Program = Main(Minus(Const(2), True))\n",
    "val p3 : Program = Main(Minus(False, True))\n",
    "assert(typecheck(p1) == NumType)\n",
    "assert(typecheck(p2) == TypeError)\n",
    "assert(typecheck(p3) == TypeError)"
   ]
  },
  {
   "cell_type": "code",
   "execution_count": 8,
   "metadata": {},
   "outputs": [
    {
     "data": {
      "text/plain": [
       "\u001b[36mp1\u001b[39m: \u001b[32mProgram\u001b[39m = \u001b[33mMain\u001b[39m(\u001b[33mMult\u001b[39m(\u001b[33mConst\u001b[39m(\u001b[32m2\u001b[39m), \u001b[33mConst\u001b[39m(\u001b[32m-5\u001b[39m)))\r\n",
       "\u001b[36mp2\u001b[39m: \u001b[32mProgram\u001b[39m = \u001b[33mMain\u001b[39m(\u001b[33mMult\u001b[39m(\u001b[33mConst\u001b[39m(\u001b[32m2\u001b[39m), True))\r\n",
       "\u001b[36mp3\u001b[39m: \u001b[32mProgram\u001b[39m = \u001b[33mMain\u001b[39m(\u001b[33mMult\u001b[39m(False, True))"
      ]
     },
     "execution_count": 8,
     "metadata": {},
     "output_type": "execute_result"
    }
   ],
   "source": [
    "//Checks Mult\n",
    "val p1 : Program = Main(Mult(Const(2), Const(-5)))\n",
    "val p2 : Program = Main(Mult(Const(2), True))\n",
    "val p3 : Program = Main(Mult(False, True))\n",
    "assert(typecheck(p1) == NumType)\n",
    "assert(typecheck(p2) == TypeError)\n",
    "assert(typecheck(p3) == TypeError)"
   ]
  },
  {
   "cell_type": "code",
   "execution_count": 9,
   "metadata": {
    "scrolled": true
   },
   "outputs": [
    {
     "data": {
      "text/plain": [
       "\u001b[36mp1\u001b[39m: \u001b[32mProgram\u001b[39m = \u001b[33mMain\u001b[39m(\u001b[33mNeg\u001b[39m(\u001b[33mConst\u001b[39m(\u001b[32m4\u001b[39m)))\r\n",
       "\u001b[36mp2\u001b[39m: \u001b[32mProgram\u001b[39m = \u001b[33mMain\u001b[39m(\u001b[33mNeg\u001b[39m(False))\r\n",
       "\u001b[36mp3\u001b[39m: \u001b[32mProgram\u001b[39m = \u001b[33mMain\u001b[39m(\n",
       "  \u001b[33mNeg\u001b[39m(\n",
       "    \u001b[33mLet\u001b[39m(\n",
       "      \u001b[32m\"f\"\u001b[39m,\n",
       "      \u001b[33mFunType\u001b[39m(NumType, NumType),\n",
       "      \u001b[33mFunDef\u001b[39m(\u001b[32m\"x\"\u001b[39m, NumType, \u001b[33mPlus\u001b[39m(\u001b[33mConst\u001b[39m(\u001b[32m1\u001b[39m), \u001b[33mIdent\u001b[39m(\u001b[32m\"x\"\u001b[39m))),\n",
       "      \u001b[33mFunCall\u001b[39m(\u001b[33mIdent\u001b[39m(\u001b[32m\"f\"\u001b[39m), \u001b[33mConst\u001b[39m(\u001b[32m2\u001b[39m))\n",
       "    )\n",
       "  )\n",
       ")"
      ]
     },
     "execution_count": 9,
     "metadata": {},
     "output_type": "execute_result"
    }
   ],
   "source": [
    "//Checks Neg for NumType and BoolType\n",
    "val p1 : Program = Main(Neg(Const(4)))\n",
    "val p2 : Program = Main(Neg(False))\n",
    "val p3 : Program = Main(Neg(Let( \"f\", FunType(NumType, NumType),\n",
    "                     FunDef(\"x\", NumType, Plus(Const(1), Ident(\"x\"))),\n",
    "                     FunCall( Ident(\"f\"), Const(2)))))\n",
    "assert(typecheck(p1) == NumType)\n",
    "assert(typecheck(p2) == BoolType)\n",
    "assert(typecheck(p3) == NumType)"
   ]
  },
  {
   "cell_type": "code",
   "execution_count": 10,
   "metadata": {},
   "outputs": [
    {
     "data": {
      "text/plain": [
       "\u001b[36mp1\u001b[39m: \u001b[32mProgram\u001b[39m = \u001b[33mMain\u001b[39m(\u001b[33mITE\u001b[39m(\u001b[33mGeq\u001b[39m(\u001b[33mConst\u001b[39m(\u001b[32m1\u001b[39m), \u001b[33mConst\u001b[39m(\u001b[32m3\u001b[39m)), True, False))\r\n",
       "\u001b[36mp2\u001b[39m: \u001b[32mProgram\u001b[39m = \u001b[33mMain\u001b[39m(\u001b[33mITE\u001b[39m(\u001b[33mGeq\u001b[39m(\u001b[33mConst\u001b[39m(\u001b[32m1\u001b[39m), \u001b[33mConst\u001b[39m(\u001b[32m3\u001b[39m)), \u001b[33mConst\u001b[39m(\u001b[32m0\u001b[39m), False))\r\n",
       "\u001b[36mp3\u001b[39m: \u001b[32mProgram\u001b[39m = \u001b[33mMain\u001b[39m(\u001b[33mITE\u001b[39m(\u001b[33mMult\u001b[39m(\u001b[33mConst\u001b[39m(\u001b[32m1\u001b[39m), \u001b[33mConst\u001b[39m(\u001b[32m4\u001b[39m)), \u001b[33mConst\u001b[39m(\u001b[32m0\u001b[39m), \u001b[33mConst\u001b[39m(\u001b[32m1\u001b[39m)))\r\n",
       "\u001b[36mp4\u001b[39m: \u001b[32mProgram\u001b[39m = \u001b[33mMain\u001b[39m(\u001b[33mAnd\u001b[39m(\u001b[33mNeg\u001b[39m(False), True))\r\n",
       "\u001b[36mp5\u001b[39m: \u001b[32mProgram\u001b[39m = \u001b[33mMain\u001b[39m(\u001b[33mOr\u001b[39m(\u001b[33mNeg\u001b[39m(\u001b[33mConst\u001b[39m(\u001b[32m-1\u001b[39m)), True))\r\n",
       "\u001b[36mp6\u001b[39m: \u001b[32mProgram\u001b[39m = \u001b[33mMain\u001b[39m(\u001b[33mITE\u001b[39m(False, \u001b[33mConst\u001b[39m(\u001b[32m2\u001b[39m), \u001b[33mMult\u001b[39m(\u001b[33mConst\u001b[39m(\u001b[32m3\u001b[39m), \u001b[33mConst\u001b[39m(\u001b[32m4\u001b[39m))))"
      ]
     },
     "execution_count": 10,
     "metadata": {},
     "output_type": "execute_result"
    }
   ],
   "source": [
    "// Test ITE under multiple conditions as well as simple And and Or conditionals\n",
    "val p1 : Program = Main(ITE(Geq(Const(1), Const(3)), True, False))\n",
    "val p2 : Program = Main(ITE(Geq(Const(1), Const(3)), Const(0), False))\n",
    "val p3 : Program = Main(ITE(Mult(Const(1), Const(4)), Const(0), Const(1)))\n",
    "val p4 : Program = Main(And(Neg(False), True))\n",
    "val p5 : Program = Main(Or(Neg(Const(-1)), True))\n",
    "val p6 : Program = Main(ITE(False, Const(2), Mult(Const(3), Const(4))))\n",
    "\n",
    "assert(typecheck(p1) == BoolType)\n",
    "assert(typecheck(p2) == TypeError)\n",
    "assert(typecheck(p3) == TypeError)\n",
    "assert(typecheck(p4) == BoolType)\n",
    "assert(typecheck(p5) == TypeError)\n",
    "assert(typecheck(p6) == NumType)"
   ]
  },
  {
   "cell_type": "code",
   "execution_count": 11,
   "metadata": {},
   "outputs": [
    {
     "data": {
      "text/plain": [
       "\u001b[36mp1\u001b[39m: \u001b[32mProgram\u001b[39m = \u001b[33mMain\u001b[39m(\n",
       "  \u001b[33mLet\u001b[39m(\n",
       "    \u001b[32m\"f\"\u001b[39m,\n",
       "    \u001b[33mFunType\u001b[39m(NumType, NumType),\n",
       "    \u001b[33mFunDef\u001b[39m(\u001b[32m\"x\"\u001b[39m, NumType, \u001b[33mPlus\u001b[39m(\u001b[33mConst\u001b[39m(\u001b[32m1\u001b[39m), \u001b[33mIdent\u001b[39m(\u001b[32m\"x\"\u001b[39m))),\n",
       "    \u001b[33mFunCall\u001b[39m(\u001b[33mIdent\u001b[39m(\u001b[32m\"f\"\u001b[39m), \u001b[33mConst\u001b[39m(\u001b[32m2\u001b[39m))\n",
       "  )\n",
       ")\r\n",
       "\u001b[36mp2\u001b[39m: \u001b[32mProgram\u001b[39m = \u001b[33mMain\u001b[39m(\n",
       "  \u001b[33mLet\u001b[39m(\n",
       "    \u001b[32m\"f\"\u001b[39m,\n",
       "    \u001b[33mFunType\u001b[39m(NumType, \u001b[33mFunType\u001b[39m(NumType, NumType)),\n",
       "    \u001b[33mFunDef\u001b[39m(\u001b[32m\"x\"\u001b[39m, NumType, \u001b[33mFunDef\u001b[39m(\u001b[32m\"y\"\u001b[39m, NumType, \u001b[33mPlus\u001b[39m(\u001b[33mIdent\u001b[39m(\u001b[32m\"x\"\u001b[39m), \u001b[33mIdent\u001b[39m(\u001b[32m\"y\"\u001b[39m)))),\n",
       "    \u001b[33mFunCall\u001b[39m(\u001b[33mFunCall\u001b[39m(\u001b[33mIdent\u001b[39m(\u001b[32m\"f\"\u001b[39m), \u001b[33mConst\u001b[39m(\u001b[32m2\u001b[39m)), \u001b[33mConst\u001b[39m(\u001b[32m3\u001b[39m))\n",
       "  )\n",
       ")\r\n",
       "\u001b[36mp3\u001b[39m: \u001b[32mProgram\u001b[39m = \u001b[33mMain\u001b[39m(\n",
       "  \u001b[33mLet\u001b[39m(\n",
       "    \u001b[32m\"f\"\u001b[39m,\n",
       "    \u001b[33mFunType\u001b[39m(NumType, \u001b[33mFunType\u001b[39m(NumType, NumType)),\n",
       "    \u001b[33mFunDef\u001b[39m(\u001b[32m\"x\"\u001b[39m, NumType, \u001b[33mFunDef\u001b[39m(\u001b[32m\"y\"\u001b[39m, NumType, \u001b[33mPlus\u001b[39m(\u001b[33mIdent\u001b[39m(\u001b[32m\"x\"\u001b[39m), \u001b[33mIdent\u001b[39m(\u001b[32m\"y\"\u001b[39m)))),\n",
       "    \u001b[33mFunCall\u001b[39m(\u001b[33mFunCall\u001b[39m(\u001b[33mIdent\u001b[39m(\u001b[32m\"f\"\u001b[39m), False), \u001b[33mConst\u001b[39m(\u001b[32m3\u001b[39m))\n",
       "  )\n",
       ")"
      ]
     },
     "execution_count": 11,
     "metadata": {},
     "output_type": "execute_result"
    }
   ],
   "source": [
    "// Checks Let, FunDef, and FunCall\n",
    "val p1 : Program = Main(Let( \"f\", FunType(NumType, NumType),\n",
    "                     FunDef(\"x\", NumType, Plus(Const(1), Ident(\"x\"))),\n",
    "                     FunCall( Ident(\"f\"), Const(2))))\n",
    "val p2 : Program = Main(Let(\"f\", FunType(NumType, FunType(NumType, NumType)),\n",
    "                   FunDef(\"x\", NumType,\n",
    "                     FunDef(\"y\", NumType,\n",
    "                       Plus(Ident(\"x\"),Ident(\"y\")))),\n",
    "                   FunCall(FunCall(Ident(\"f\"), Const(2)), Const(3))\n",
    "                   ))\n",
    "val p3 : Program = Main(Let(\"f\", FunType(NumType, FunType(NumType, NumType)),\n",
    "                   FunDef(\"x\", NumType,\n",
    "                     FunDef(\"y\", NumType,\n",
    "                       Plus(Ident(\"x\"),Ident(\"y\")))),\n",
    "                   FunCall(FunCall(Ident(\"f\"), False), Const(3))\n",
    "                   ))\n",
    "assert(typecheck(p1) == NumType)\n",
    "assert(typecheck(p2) == NumType)\n",
    "assert(typecheck(p3) == TypeError)"
   ]
  },
  {
   "cell_type": "code",
   "execution_count": 12,
   "metadata": {},
   "outputs": [
    {
     "data": {
      "text/plain": [
       "\u001b[36mp1\u001b[39m: \u001b[32mMain\u001b[39m = \u001b[33mMain\u001b[39m(\n",
       "  \u001b[33mFunDef\u001b[39m(\n",
       "    \u001b[32m\"g\"\u001b[39m,\n",
       "    NumType,\n",
       "    \u001b[33mLet\u001b[39m(\u001b[32m\"h\"\u001b[39m, NumType, \u001b[33mConst\u001b[39m(\u001b[32m1\u001b[39m), \u001b[33mMult\u001b[39m(\u001b[33mIdent\u001b[39m(\u001b[32m\"g\"\u001b[39m), \u001b[33mIdent\u001b[39m(\u001b[32m\"h\"\u001b[39m)))\n",
       "  )\n",
       ")\r\n",
       "\u001b[36mp2\u001b[39m: \u001b[32mMain\u001b[39m = \u001b[33mMain\u001b[39m(\u001b[33mFunDef\u001b[39m(\u001b[32m\"f\"\u001b[39m, NumType, \u001b[33mEq\u001b[39m(\u001b[33mIdent\u001b[39m(\u001b[32m\"f\"\u001b[39m), \u001b[33mIdent\u001b[39m(\u001b[32m\"1\"\u001b[39m))))\r\n",
       "\u001b[36mp3\u001b[39m: \u001b[32mMain\u001b[39m = \u001b[33mMain\u001b[39m(\u001b[33mFunDef\u001b[39m(\u001b[32m\"e\"\u001b[39m, NumType, \u001b[33mMult\u001b[39m(\u001b[33mIdent\u001b[39m(\u001b[32m\"e\"\u001b[39m), \u001b[33mIdent\u001b[39m(\u001b[32m\"e\"\u001b[39m))))"
      ]
     },
     "execution_count": 12,
     "metadata": {},
     "output_type": "execute_result"
    }
   ],
   "source": [
    "// Additional FunDef checks for lambda functions\n",
    "val p1 = Main( FunDef(\"g\", NumType, Let(\"h\", NumType, Const(1), Mult(Ident(\"g\"), Ident(\"h\")))) )\n",
    "val p2 = Main( FunDef(\"f\", NumType, Eq( Ident(\"f\"), Ident(\"1\"))) )\n",
    "val p3 = Main( FunDef(\"e\", NumType, Mult( Ident(\"e\"), Ident(\"e\"))) )\n",
    "assert(typecheck(p1) == FunType(NumType, NumType))\n",
    "assert(typecheck(p2) == TypeError)\n",
    "assert(typecheck(p3) == FunType(NumType, NumType))"
   ]
  },
  {
   "cell_type": "code",
   "execution_count": 13,
   "metadata": {},
   "outputs": [
    {
     "data": {
      "text/plain": [
       "\u001b[36mp2\u001b[39m: \u001b[32mMain\u001b[39m = \u001b[33mMain\u001b[39m(\n",
       "  \u001b[33mLetRec\u001b[39m(\n",
       "    \u001b[32m\"fact\"\u001b[39m,\n",
       "    \u001b[33mFunType\u001b[39m(NumType, NumType),\n",
       "    \u001b[32m\"x\"\u001b[39m,\n",
       "    NumType,\n",
       "    \u001b[33mFunDef\u001b[39m(\n",
       "      \u001b[32m\"x\"\u001b[39m,\n",
       "      NumType,\n",
       "      \u001b[33mITE\u001b[39m(\n",
       "        \u001b[33mGeq\u001b[39m(\u001b[33mConst\u001b[39m(\u001b[32m1\u001b[39m), \u001b[33mIdent\u001b[39m(\u001b[32m\"x\"\u001b[39m)),\n",
       "        \u001b[33mConst\u001b[39m(\u001b[32m1\u001b[39m),\n",
       "        \u001b[33mMult\u001b[39m(\u001b[33mIdent\u001b[39m(\u001b[32m\"x\"\u001b[39m), \u001b[33mFunCall\u001b[39m(\u001b[33mIdent\u001b[39m(\u001b[32m\"fact\"\u001b[39m), \u001b[33mMinus\u001b[39m(\u001b[33mIdent\u001b[39m(\u001b[32m\"x\"\u001b[39m), \u001b[33mConst\u001b[39m(\u001b[32m1\u001b[39m))))\n",
       "      )\n",
       "    ),\n",
       "    \u001b[33mFunCall\u001b[39m(\u001b[33mIdent\u001b[39m(\u001b[32m\"fact\"\u001b[39m), \u001b[33mConst\u001b[39m(\u001b[32m5\u001b[39m))\n",
       "  )\n",
       ")\r\n",
       "\u001b[36mp1\u001b[39m: \u001b[32mMain\u001b[39m = \u001b[33mMain\u001b[39m(\n",
       "  \u001b[33mLetRec\u001b[39m(\n",
       "    \u001b[32m\"fact\"\u001b[39m,\n",
       "    \u001b[33mFunType\u001b[39m(NumType, NumType),\n",
       "    \u001b[32m\"x\"\u001b[39m,\n",
       "    NumType,\n",
       "    \u001b[33mITE\u001b[39m(\n",
       "      \u001b[33mGeq\u001b[39m(\u001b[33mConst\u001b[39m(\u001b[32m1\u001b[39m), \u001b[33mIdent\u001b[39m(\u001b[32m\"x\"\u001b[39m)),\n",
       "      \u001b[33mConst\u001b[39m(\u001b[32m1\u001b[39m),\n",
       "      \u001b[33mMult\u001b[39m(\u001b[33mIdent\u001b[39m(\u001b[32m\"x\"\u001b[39m), \u001b[33mFunCall\u001b[39m(\u001b[33mIdent\u001b[39m(\u001b[32m\"fact\"\u001b[39m), \u001b[33mMinus\u001b[39m(\u001b[33mIdent\u001b[39m(\u001b[32m\"x\"\u001b[39m), \u001b[33mConst\u001b[39m(\u001b[32m1\u001b[39m))))\n",
       "    ),\n",
       "    \u001b[33mFunCall\u001b[39m(\u001b[33mIdent\u001b[39m(\u001b[32m\"fact\"\u001b[39m), \u001b[33mConst\u001b[39m(\u001b[32m5\u001b[39m))\n",
       "  )\n",
       ")\r\n",
       "\u001b[36mres12_3\u001b[39m: \u001b[32mType\u001b[39m = TypeError"
      ]
     },
     "execution_count": 13,
     "metadata": {},
     "output_type": "execute_result"
    }
   ],
   "source": [
    "//Old Test -- Has FunDef within LetRec. The FunDef induces a typing error.\n",
    "val p2 = Main(LetRec(\"fact\", FunType(NumType, NumType), \"x\", NumType,\n",
    "                        FunDef(\"x\", NumType, \n",
    "                              ITE(Geq(Const(1), Ident(\"x\")), \n",
    "                                 Const(1),\n",
    "                                 Mult(Ident(\"x\"), \n",
    "                                     FunCall(Ident(\"fact\"),  \n",
    "                                            Minus(Ident(\"x\"), Const(1)))))),\n",
    "                        FunCall(Ident(\"fact\"), Const(5))))\n",
    "// Young, sexy test without the redundant definition of \"x\" as NumType\n",
    "val p1 = Main(LetRec(\"fact\", FunType(NumType, NumType), \"x\", NumType,\n",
    "                              ITE(Geq(Const(1), Ident(\"x\")), \n",
    "                                 Const(1),\n",
    "                                 Mult(Ident(\"x\"), \n",
    "                                     FunCall(Ident(\"fact\"),  \n",
    "                                            Minus(Ident(\"x\"), Const(1))))),\n",
    "                        FunCall(Ident(\"fact\"), Const(5))))\n",
    "assert(typecheck(p1) == NumType)\n",
    "typecheck(p2)"
   ]
  },
  {
   "cell_type": "code",
   "execution_count": 69,
   "metadata": {
    "deletable": false,
    "editable": false,
    "nbgrader": {
     "cell_type": "code",
     "checksum": "16e433df6352352f1c2b909b66032262",
     "grade": true,
     "grade_id": "cell-31198cd330553090",
     "locked": true,
     "points": 2,
     "schema_version": 3,
     "solution": false,
     "task": false
    }
   },
   "outputs": [
    {
     "name": "stdout",
     "output_type": "stream",
     "text": [
      "Hidden test\n"
     ]
    }
   ],
   "source": [
    "println(\"Hidden test\")"
   ]
  },
  {
   "cell_type": "code",
   "execution_count": 15,
   "metadata": {
    "deletable": false,
    "editable": false,
    "nbgrader": {
     "cell_type": "code",
     "checksum": "e56e925bd0b16e8e70ac0bc243c3298e",
     "grade": true,
     "grade_id": "cell-69b68741c9fda826",
     "locked": true,
     "points": 2,
     "schema_version": 3,
     "solution": false,
     "task": false
    }
   },
   "outputs": [
    {
     "name": "stdout",
     "output_type": "stream",
     "text": [
      "Hidden test\n"
     ]
    }
   ],
   "source": [
    "println(\"Hidden test\")"
   ]
  },
  {
   "cell_type": "code",
   "execution_count": 16,
   "metadata": {
    "deletable": false,
    "editable": false,
    "nbgrader": {
     "cell_type": "code",
     "checksum": "6ec9854bcb228b9be18cebc49dfadbf9",
     "grade": true,
     "grade_id": "cell-d15f5cb6ed1607da",
     "locked": true,
     "points": 2,
     "schema_version": 3,
     "solution": false,
     "task": false
    }
   },
   "outputs": [
    {
     "name": "stdout",
     "output_type": "stream",
     "text": [
      "Hidden test\n"
     ]
    }
   ],
   "source": [
    "println(\"Hidden test\")"
   ]
  },
  {
   "cell_type": "code",
   "execution_count": 17,
   "metadata": {
    "deletable": false,
    "editable": false,
    "nbgrader": {
     "cell_type": "code",
     "checksum": "fbbce3650b6688f24e40194741aaf571",
     "grade": true,
     "grade_id": "cell-d8ea3308b64e150d",
     "locked": true,
     "points": 2,
     "schema_version": 3,
     "solution": false,
     "task": false
    }
   },
   "outputs": [
    {
     "name": "stdout",
     "output_type": "stream",
     "text": [
      "Hidden test\n"
     ]
    }
   ],
   "source": [
    "println(\"Hidden test\")"
   ]
  },
  {
   "cell_type": "code",
   "execution_count": 18,
   "metadata": {
    "deletable": false,
    "editable": false,
    "nbgrader": {
     "cell_type": "code",
     "checksum": "4b086b0430a44216c91e84ffa6139143",
     "grade": true,
     "grade_id": "cell-83408b1f20330fbc",
     "locked": true,
     "points": 2,
     "schema_version": 3,
     "solution": false,
     "task": false
    }
   },
   "outputs": [
    {
     "name": "stdout",
     "output_type": "stream",
     "text": [
      "Hidden test\n"
     ]
    }
   ],
   "source": [
    "println(\"Hidden test\")"
   ]
  },
  {
   "cell_type": "code",
   "execution_count": 19,
   "metadata": {
    "deletable": false,
    "editable": false,
    "nbgrader": {
     "cell_type": "code",
     "checksum": "75b7cd92d5e2ebc3d0be649d995671c6",
     "grade": true,
     "grade_id": "cell-8f34165e14575453",
     "locked": true,
     "points": 2,
     "schema_version": 3,
     "solution": false,
     "task": false
    }
   },
   "outputs": [
    {
     "name": "stdout",
     "output_type": "stream",
     "text": [
      "Hidden test\n"
     ]
    }
   ],
   "source": [
    "println(\"Hidden test\")"
   ]
  },
  {
   "cell_type": "code",
   "execution_count": 20,
   "metadata": {
    "deletable": false,
    "editable": false,
    "nbgrader": {
     "cell_type": "code",
     "checksum": "c91350d0ed9bf0198f85440917035cbb",
     "grade": true,
     "grade_id": "cell-bb4cebe2260d7612",
     "locked": true,
     "points": 2,
     "schema_version": 3,
     "solution": false,
     "task": false
    }
   },
   "outputs": [
    {
     "name": "stdout",
     "output_type": "stream",
     "text": [
      "Hidden test\n"
     ]
    }
   ],
   "source": [
    "println(\"Hidden test\")"
   ]
  },
  {
   "cell_type": "code",
   "execution_count": 21,
   "metadata": {
    "deletable": false,
    "editable": false,
    "nbgrader": {
     "cell_type": "code",
     "checksum": "a2921b85373fa0ef48a57732cd049759",
     "grade": true,
     "grade_id": "cell-c4f5dcf0bf8fdca3",
     "locked": true,
     "points": 2,
     "schema_version": 3,
     "solution": false,
     "task": false
    }
   },
   "outputs": [
    {
     "name": "stdout",
     "output_type": "stream",
     "text": [
      "Hidden test\n"
     ]
    }
   ],
   "source": [
    "println(\"Hidden test\")"
   ]
  },
  {
   "cell_type": "code",
   "execution_count": 22,
   "metadata": {
    "deletable": false,
    "editable": false,
    "nbgrader": {
     "cell_type": "code",
     "checksum": "9f02e9d45f199407e311eaa321395bea",
     "grade": true,
     "grade_id": "cell-8037f9727ae33dd4",
     "locked": true,
     "points": 2,
     "schema_version": 3,
     "solution": false,
     "task": false
    }
   },
   "outputs": [
    {
     "name": "stdout",
     "output_type": "stream",
     "text": [
      "Hidden test\n"
     ]
    }
   ],
   "source": [
    "println(\"Hidden test\")"
   ]
  },
  {
   "cell_type": "code",
   "execution_count": 23,
   "metadata": {
    "deletable": false,
    "editable": false,
    "nbgrader": {
     "cell_type": "code",
     "checksum": "7d406042da91b99c8010c55d03896138",
     "grade": true,
     "grade_id": "cell-b59243a5817202d2",
     "locked": true,
     "points": 2,
     "schema_version": 3,
     "solution": false,
     "task": false
    }
   },
   "outputs": [
    {
     "name": "stdout",
     "output_type": "stream",
     "text": [
      "Hidden test\n"
     ]
    }
   ],
   "source": [
    "println(\"Hidden test\")"
   ]
  },
  {
   "cell_type": "code",
   "execution_count": 24,
   "metadata": {
    "deletable": false,
    "editable": false,
    "nbgrader": {
     "cell_type": "code",
     "checksum": "9406879aaea4e809f0332b0d46374742",
     "grade": true,
     "grade_id": "cell-ede2ed89a8f56746",
     "locked": true,
     "points": 2,
     "schema_version": 3,
     "solution": false,
     "task": false
    }
   },
   "outputs": [
    {
     "name": "stdout",
     "output_type": "stream",
     "text": [
      "Hidden test\n"
     ]
    }
   ],
   "source": [
    "println(\"Hidden test\")"
   ]
  },
  {
   "cell_type": "code",
   "execution_count": 25,
   "metadata": {
    "deletable": false,
    "editable": false,
    "nbgrader": {
     "cell_type": "code",
     "checksum": "481c93465cd6f491d850b853e83dc58c",
     "grade": true,
     "grade_id": "cell-90690da2df5d6da5",
     "locked": true,
     "points": 2,
     "schema_version": 3,
     "solution": false,
     "task": false
    }
   },
   "outputs": [
    {
     "name": "stdout",
     "output_type": "stream",
     "text": [
      "Hidden test\n"
     ]
    }
   ],
   "source": [
    "println(\"Hidden test\")"
   ]
  },
  {
   "cell_type": "code",
   "execution_count": 26,
   "metadata": {
    "deletable": false,
    "editable": false,
    "nbgrader": {
     "cell_type": "code",
     "checksum": "e0cd8e950aac88c9fe1b3714f1c2ca69",
     "grade": true,
     "grade_id": "cell-288a52329f6c5428",
     "locked": true,
     "points": 2,
     "schema_version": 3,
     "solution": false,
     "task": false
    }
   },
   "outputs": [
    {
     "name": "stdout",
     "output_type": "stream",
     "text": [
      "Hidden test\n"
     ]
    }
   ],
   "source": [
    "println(\"Hidden test\")"
   ]
  },
  {
   "cell_type": "code",
   "execution_count": 27,
   "metadata": {
    "deletable": false,
    "editable": false,
    "nbgrader": {
     "cell_type": "code",
     "checksum": "5d83c0d74ee3dfe80640bc460dd18733",
     "grade": true,
     "grade_id": "cell-7d0654077dff6d8b",
     "locked": true,
     "points": 2,
     "schema_version": 3,
     "solution": false,
     "task": false
    }
   },
   "outputs": [
    {
     "name": "stdout",
     "output_type": "stream",
     "text": [
      "Hidden test\n"
     ]
    }
   ],
   "source": [
    "println(\"Hidden test\")"
   ]
  },
  {
   "cell_type": "code",
   "execution_count": 28,
   "metadata": {
    "deletable": false,
    "editable": false,
    "nbgrader": {
     "cell_type": "code",
     "checksum": "0514765d5b33c6a68af4ea9b5a85486a",
     "grade": true,
     "grade_id": "cell-d0489819cc1d8319",
     "locked": true,
     "points": 2,
     "schema_version": 3,
     "solution": false,
     "task": false
    }
   },
   "outputs": [
    {
     "name": "stdout",
     "output_type": "stream",
     "text": [
      "Hidden test\n"
     ]
    }
   ],
   "source": [
    "println(\"Hidden test\")"
   ]
  },
  {
   "cell_type": "code",
   "execution_count": 29,
   "metadata": {
    "deletable": false,
    "editable": false,
    "nbgrader": {
     "cell_type": "code",
     "checksum": "419123b6b902589ed0f59859c560a6bc",
     "grade": true,
     "grade_id": "cell-533d45c0493a5630",
     "locked": true,
     "points": 2,
     "schema_version": 3,
     "solution": false,
     "task": false
    }
   },
   "outputs": [
    {
     "name": "stdout",
     "output_type": "stream",
     "text": [
      "Hidden test\n"
     ]
    }
   ],
   "source": [
    "println(\"Hidden test\")"
   ]
  },
  {
   "cell_type": "code",
   "execution_count": 30,
   "metadata": {
    "deletable": false,
    "editable": false,
    "nbgrader": {
     "cell_type": "code",
     "checksum": "c267adfa29f4beb2bd2871ac9b48f306",
     "grade": true,
     "grade_id": "cell-97f81d04838e2546",
     "locked": true,
     "points": 2,
     "schema_version": 3,
     "solution": false,
     "task": false
    }
   },
   "outputs": [
    {
     "name": "stdout",
     "output_type": "stream",
     "text": [
      "Hidden test\n"
     ]
    }
   ],
   "source": [
    "println(\"Hidden test\")"
   ]
  },
  {
   "cell_type": "code",
   "execution_count": 31,
   "metadata": {
    "deletable": false,
    "editable": false,
    "nbgrader": {
     "cell_type": "code",
     "checksum": "2c76783289bac74ebe27210f51631db4",
     "grade": true,
     "grade_id": "cell-f91107fcf26e2240",
     "locked": true,
     "points": 3,
     "schema_version": 3,
     "solution": false,
     "task": false
    }
   },
   "outputs": [
    {
     "name": "stdout",
     "output_type": "stream",
     "text": [
      "Hidden test\n"
     ]
    }
   ],
   "source": [
    "println(\"Hidden test\")"
   ]
  },
  {
   "cell_type": "code",
   "execution_count": 32,
   "metadata": {
    "deletable": false,
    "editable": false,
    "nbgrader": {
     "cell_type": "code",
     "checksum": "ee3e016a9a543d69e122d8a7e9a1eb8c",
     "grade": true,
     "grade_id": "cell-3ba6c8052c148fff",
     "locked": true,
     "points": 3,
     "schema_version": 3,
     "solution": false,
     "task": false
    }
   },
   "outputs": [
    {
     "name": "stdout",
     "output_type": "stream",
     "text": [
      "Hidden test\n"
     ]
    }
   ],
   "source": [
    "println(\"Hidden test\")"
   ]
  },
  {
   "cell_type": "code",
   "execution_count": 33,
   "metadata": {
    "deletable": false,
    "editable": false,
    "nbgrader": {
     "cell_type": "code",
     "checksum": "79ce928f7743ba141c2da89d7205f3e7",
     "grade": true,
     "grade_id": "cell-36a0b90b6303d35e",
     "locked": true,
     "points": 3,
     "schema_version": 3,
     "solution": false,
     "task": false
    }
   },
   "outputs": [
    {
     "name": "stdout",
     "output_type": "stream",
     "text": [
      "Hidden test\n"
     ]
    }
   ],
   "source": [
    "println(\"Hidden test\")"
   ]
  },
  {
   "cell_type": "code",
   "execution_count": 34,
   "metadata": {
    "deletable": false,
    "editable": false,
    "nbgrader": {
     "cell_type": "code",
     "checksum": "76bd576dddf518ff087457fdb1cf7468",
     "grade": true,
     "grade_id": "cell-89108e7186bf2e7e",
     "locked": true,
     "points": 2,
     "schema_version": 3,
     "solution": false,
     "task": false
    }
   },
   "outputs": [
    {
     "name": "stdout",
     "output_type": "stream",
     "text": [
      "Hidden test\n"
     ]
    }
   ],
   "source": [
    "println(\"Hidden test\")"
   ]
  },
  {
   "cell_type": "code",
   "execution_count": 35,
   "metadata": {
    "deletable": false,
    "editable": false,
    "nbgrader": {
     "cell_type": "code",
     "checksum": "80473f9428413dbaeb328e788c142cf1",
     "grade": true,
     "grade_id": "cell-e0c1267b4358e17e",
     "locked": true,
     "points": 3,
     "schema_version": 3,
     "solution": false,
     "task": false
    }
   },
   "outputs": [
    {
     "name": "stdout",
     "output_type": "stream",
     "text": [
      "Hidden test\n"
     ]
    }
   ],
   "source": [
    "println(\"Hidden test\")"
   ]
  },
  {
   "cell_type": "code",
   "execution_count": 36,
   "metadata": {
    "deletable": false,
    "editable": false,
    "nbgrader": {
     "cell_type": "code",
     "checksum": "ee0fc239fbaacd0fa9df12ab7b355aa2",
     "grade": true,
     "grade_id": "cell-7755f725e7af3e5c",
     "locked": true,
     "points": 3,
     "schema_version": 3,
     "solution": false,
     "task": false
    }
   },
   "outputs": [
    {
     "name": "stdout",
     "output_type": "stream",
     "text": [
      "Hidden test\n"
     ]
    }
   ],
   "source": [
    "println(\"Hidden test\")"
   ]
  },
  {
   "cell_type": "code",
   "execution_count": 37,
   "metadata": {
    "deletable": false,
    "editable": false,
    "nbgrader": {
     "cell_type": "code",
     "checksum": "2e8459bddafbbf73ccd4190f20def3d9",
     "grade": true,
     "grade_id": "cell-a16534250c0ac8f9",
     "locked": true,
     "points": 3,
     "schema_version": 3,
     "solution": false,
     "task": false
    }
   },
   "outputs": [
    {
     "name": "stdout",
     "output_type": "stream",
     "text": [
      "Hidden test\n"
     ]
    }
   ],
   "source": [
    "println(\"Hidden test\")"
   ]
  },
  {
   "cell_type": "code",
   "execution_count": 38,
   "metadata": {
    "deletable": false,
    "editable": false,
    "nbgrader": {
     "cell_type": "code",
     "checksum": "dea5ed43d77182d71d9c0738217e83cd",
     "grade": true,
     "grade_id": "cell-6089a04546621af9",
     "locked": true,
     "points": 3,
     "schema_version": 3,
     "solution": false,
     "task": false
    }
   },
   "outputs": [
    {
     "name": "stdout",
     "output_type": "stream",
     "text": [
      "Hidden test\n"
     ]
    }
   ],
   "source": [
    "println(\"Hidden test\")"
   ]
  },
  {
   "cell_type": "code",
   "execution_count": 39,
   "metadata": {
    "deletable": false,
    "editable": false,
    "nbgrader": {
     "cell_type": "code",
     "checksum": "eafd2e1e6ee5d0baf553914f3f36560b",
     "grade": true,
     "grade_id": "cell-ea1c6a51893fd4d1",
     "locked": true,
     "points": 3,
     "schema_version": 3,
     "solution": false,
     "task": false
    }
   },
   "outputs": [
    {
     "name": "stdout",
     "output_type": "stream",
     "text": [
      "Hidden test\n"
     ]
    }
   ],
   "source": [
    "println(\"Hidden test\")"
   ]
  },
  {
   "cell_type": "code",
   "execution_count": 40,
   "metadata": {
    "deletable": false,
    "editable": false,
    "nbgrader": {
     "cell_type": "code",
     "checksum": "c9f1c00e09b93c80dd8ae901fdac6010",
     "grade": true,
     "grade_id": "cell-b3233ea6f1403203",
     "locked": true,
     "points": 3,
     "schema_version": 3,
     "solution": false,
     "task": false
    }
   },
   "outputs": [
    {
     "name": "stdout",
     "output_type": "stream",
     "text": [
      "Hidden test\n"
     ]
    }
   ],
   "source": [
    "println(\"Hidden test\")"
   ]
  },
  {
   "cell_type": "code",
   "execution_count": 41,
   "metadata": {
    "deletable": false,
    "editable": false,
    "nbgrader": {
     "cell_type": "code",
     "checksum": "3865dee4afe775f5249fb80b3855784a",
     "grade": true,
     "grade_id": "cell-0934c6879471b3a3",
     "locked": true,
     "points": 2,
     "schema_version": 3,
     "solution": false,
     "task": false
    }
   },
   "outputs": [
    {
     "name": "stdout",
     "output_type": "stream",
     "text": [
      "Hidden test\n"
     ]
    }
   ],
   "source": [
    "println(\"Hidden test\")"
   ]
  },
  {
   "cell_type": "code",
   "execution_count": 42,
   "metadata": {
    "deletable": false,
    "editable": false,
    "nbgrader": {
     "cell_type": "code",
     "checksum": "0f73d0c920566688c834b20249fcf3c7",
     "grade": true,
     "grade_id": "cell-750499f6519c9cb8",
     "locked": true,
     "points": 3,
     "schema_version": 3,
     "solution": false,
     "task": false
    }
   },
   "outputs": [
    {
     "name": "stdout",
     "output_type": "stream",
     "text": [
      "Hidden test\n"
     ]
    }
   ],
   "source": [
    "println(\"Hidden test\")"
   ]
  },
  {
   "cell_type": "code",
   "execution_count": 43,
   "metadata": {
    "deletable": false,
    "editable": false,
    "nbgrader": {
     "cell_type": "code",
     "checksum": "0b11f1955733462babd574dcdf72b697",
     "grade": true,
     "grade_id": "cell-b9646dcc63b28149",
     "locked": true,
     "points": 3,
     "schema_version": 3,
     "solution": false,
     "task": false
    }
   },
   "outputs": [
    {
     "name": "stdout",
     "output_type": "stream",
     "text": [
      "Hidden test\n"
     ]
    }
   ],
   "source": [
    "println(\"Hidden test\")"
   ]
  },
  {
   "cell_type": "code",
   "execution_count": 44,
   "metadata": {
    "deletable": false,
    "editable": false,
    "nbgrader": {
     "cell_type": "code",
     "checksum": "24cd878019d5e4d5e7062ad5a821b043",
     "grade": true,
     "grade_id": "cell-3f118b29e49adbec",
     "locked": true,
     "points": 3,
     "schema_version": 3,
     "solution": false,
     "task": false
    }
   },
   "outputs": [
    {
     "name": "stdout",
     "output_type": "stream",
     "text": [
      "Hidden test\n"
     ]
    }
   ],
   "source": [
    "println(\"Hidden test\")"
   ]
  },
  {
   "cell_type": "code",
   "execution_count": 45,
   "metadata": {
    "deletable": false,
    "editable": false,
    "nbgrader": {
     "cell_type": "code",
     "checksum": "15e5a7b77c045bf1216566f70b9fd60e",
     "grade": true,
     "grade_id": "cell-150fee1089cc254b",
     "locked": true,
     "points": 3,
     "schema_version": 3,
     "solution": false,
     "task": false
    }
   },
   "outputs": [
    {
     "name": "stdout",
     "output_type": "stream",
     "text": [
      "Hidden test\n"
     ]
    }
   ],
   "source": [
    "println(\"Hidden test\")"
   ]
  },
  {
   "cell_type": "code",
   "execution_count": 46,
   "metadata": {
    "deletable": false,
    "editable": false,
    "nbgrader": {
     "cell_type": "code",
     "checksum": "22cc895ab590f577f699f4426854d07e",
     "grade": true,
     "grade_id": "cell-f7fad77d24bd342e",
     "locked": true,
     "points": 3,
     "schema_version": 3,
     "solution": false,
     "task": false
    }
   },
   "outputs": [
    {
     "name": "stdout",
     "output_type": "stream",
     "text": [
      "Hidden test\n"
     ]
    }
   ],
   "source": [
    "println(\"Hidden test\")"
   ]
  },
  {
   "cell_type": "code",
   "execution_count": null,
   "metadata": {},
   "outputs": [],
   "source": []
  }
 ],
 "metadata": {
  "kernelspec": {
   "display_name": "Scala",
   "language": "scala",
   "name": "scala"
  },
  "language_info": {
   "codemirror_mode": "text/x-scala",
   "file_extension": ".scala",
   "mimetype": "text/x-scala",
   "name": "scala",
   "nbconvert_exporter": "script",
   "version": "2.12.10"
  }
 },
 "nbformat": 4,
 "nbformat_minor": 2
}
