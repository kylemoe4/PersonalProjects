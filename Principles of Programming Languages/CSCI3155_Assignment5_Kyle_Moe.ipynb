{
 "cells": [
  {
   "cell_type": "markdown",
   "metadata": {
    "deletable": false,
    "editable": false,
    "nbgrader": {
     "cell_type": "markdown",
     "checksum": "1c353d7796986128677f86fcb42ecb0a",
     "grade": false,
     "grade_id": "cell-29d81bc109cf8021",
     "locked": true,
     "schema_version": 3,
     "solution": false,
     "task": false
    }
   },
   "source": [
    "# CSCI 3155 : Homework 5\n",
    "\n",
    "Evaluating expressions"
   ]
  },
  {
   "cell_type": "markdown",
   "metadata": {},
   "source": [
    "__Name__:\n",
    "\n",
    "Kyle Moe"
   ]
  },
  {
   "cell_type": "code",
   "execution_count": 23,
   "metadata": {
    "deletable": false,
    "editable": false,
    "nbgrader": {
     "cell_type": "code",
     "checksum": "c9c3598c95dfb327afa120922a746ac4",
     "grade": false,
     "grade_id": "cell-2e82222afa780d77",
     "locked": true,
     "schema_version": 3,
     "solution": false,
     "task": false
    }
   },
   "outputs": [
    {
     "data": {
      "text/plain": [
       "defined \u001b[32mfunction\u001b[39m \u001b[36mpassed\u001b[39m"
      ]
     },
     "execution_count": 23,
     "metadata": {},
     "output_type": "execute_result"
    }
   ],
   "source": [
    "// TEST HELPER: Do not EDIT this cell please.\n",
    "def passed(points: Int) {\n",
    "    require(points >=0)\n",
    "    if (points == 1) print(s\"\\n*** Tests Passed (1 point) ***\\n\")\n",
    "    else print(s\"\\n*** Tests Passed ($points points) ***\\n\")\n",
    "}"
   ]
  },
  {
   "cell_type": "markdown",
   "metadata": {
    "deletable": false,
    "editable": false,
    "nbgrader": {
     "cell_type": "markdown",
     "checksum": "41fcc75f16773e7ca62e2546d08a51ec",
     "grade": false,
     "grade_id": "cell-fa56d3b81aa3f6fa",
     "locked": true,
     "schema_version": 3,
     "solution": false,
     "task": false
    }
   },
   "source": [
    "## Artithmetic Expressions\n",
    "\n",
    "$$\\begin{array}{rcll}\n",
    "\\mathbf{AExpr} & := & Const(Int) \\\\\n",
    " & | & Ident(String) \\\\\n",
    " & | & Plus(\\mathbf{AExpr}, \\mathbf{AExpr}) \\\\\n",
    " & | & Minus(\\mathbf{AExpr}, \\mathbf{AExpr}) \\\\\n",
    " & | & Mult (\\mathbf{AExpr}, \\mathbf{AExpr}) \\\\\n",
    " & | & Neg (\\mathbf{AExpr}) \\\\\n",
    "\\end{array}$$\n",
    "\n",
    "\n",
    "\n",
    "$$ eval : AExpr \\rightarrow Env \\rightarrow Int $$"
   ]
  },
  {
   "cell_type": "code",
   "execution_count": 24,
   "metadata": {
    "deletable": false,
    "editable": false,
    "nbgrader": {
     "cell_type": "code",
     "checksum": "f41151b31e3f77e2a386be7d654bd0f9",
     "grade": false,
     "grade_id": "cell-3e3f1d82862f3291",
     "locked": true,
     "schema_version": 3,
     "solution": false,
     "task": false
    }
   },
   "outputs": [
    {
     "data": {
      "text/plain": [
       "defined \u001b[32mtrait\u001b[39m \u001b[36mAExpr\u001b[39m\r\n",
       "defined \u001b[32mclass\u001b[39m \u001b[36mConst\u001b[39m\r\n",
       "defined \u001b[32mclass\u001b[39m \u001b[36mIdent\u001b[39m\r\n",
       "defined \u001b[32mclass\u001b[39m \u001b[36mPlus\u001b[39m\r\n",
       "defined \u001b[32mclass\u001b[39m \u001b[36mMinus\u001b[39m\r\n",
       "defined \u001b[32mclass\u001b[39m \u001b[36mMult\u001b[39m\r\n",
       "defined \u001b[32mclass\u001b[39m \u001b[36mNeg\u001b[39m\r\n",
       "defined \u001b[32mfunction\u001b[39m \u001b[36mevalA\u001b[39m\r\n",
       "\u001b[36mmyAExpr\u001b[39m: \u001b[32mPlus\u001b[39m = \u001b[33mPlus\u001b[39m(\u001b[33mConst\u001b[39m(\u001b[32m3\u001b[39m), \u001b[33mMult\u001b[39m(\u001b[33mIdent\u001b[39m(\u001b[32m\"x\"\u001b[39m), \u001b[33mConst\u001b[39m(\u001b[32m5\u001b[39m)))\r\n",
       "\u001b[36mmyenv\u001b[39m: \u001b[32mMap\u001b[39m[\u001b[32mString\u001b[39m, \u001b[32mInt\u001b[39m] = \u001b[33mMap\u001b[39m(\u001b[32m\"x\"\u001b[39m -> \u001b[32m4\u001b[39m)\r\n",
       "\u001b[36mres23_10\u001b[39m: \u001b[32mInt\u001b[39m = \u001b[32m23\u001b[39m"
      ]
     },
     "execution_count": 24,
     "metadata": {},
     "output_type": "execute_result"
    }
   ],
   "source": [
    "sealed trait AExpr\n",
    "case class Const(n : Int) extends AExpr\n",
    "case class Ident(s : String) extends AExpr\n",
    "case class Plus( e1 : AExpr, e2 : AExpr) extends AExpr\n",
    "case class Minus( e1 : AExpr, e2 : AExpr) extends AExpr\n",
    "case class Mult( e1 : AExpr, e2 : AExpr) extends AExpr\n",
    "case class Neg( e1 : AExpr) extends AExpr\n",
    "\n",
    "def evalA( e : AExpr, env : Map[String,Int]) : Int = \n",
    "    e match {\n",
    "        case Const(n)      => n \n",
    "        case Ident(s)      => env(s)\n",
    "        case Plus(e1, e2)  => evalA(e1,env) + evalA(e2,env)\n",
    "        case Minus(e1, e2) => evalA(e1,env) - evalA(e2,env)\n",
    "        case Mult(e1, e2)  => evalA(e1,env) * evalA(e2,env)\n",
    "        case Neg(e1)       => -evalA(e1,env)\n",
    "    }\n",
    "\n",
    "val myAExpr = Plus( Const(3), \n",
    "                   Mult( \n",
    "                       Ident(\"x\"), \n",
    "                       Const(5)))\n",
    "val myenv = Map(\"x\" -> 4)\n",
    "evalA( myAExpr, myenv)"
   ]
  },
  {
   "cell_type": "markdown",
   "metadata": {
    "deletable": false,
    "editable": false,
    "nbgrader": {
     "cell_type": "markdown",
     "checksum": "9cf6a07570c1c958cc6616938eccac65",
     "grade": false,
     "grade_id": "cell-10e8452df278d18b",
     "locked": true,
     "schema_version": 3,
     "solution": false,
     "task": false
    }
   },
   "source": [
    "## Problem 1 : Boolean expressions\n",
    "\n",
    "### Problem 1a (10 points)\n",
    "Write a new type for boolean expressions, **BExpr**. This type includes everything necessary for simple boolean expressions: the boolean constants True and False, the boolean negation operation Not, the boolean binary operators And and Or, as well as ITE, the if then else expression. \n",
    "\n",
    "$$\\begin{array}{rcll}\n",
    "\\mathbf{BExpr} & := & True \\\\\n",
    " & | & False \\\\\n",
    " & | & Not ( \\mathbf{BExpr} )\\\\\n",
    " & | & And ( \\mathbf{BExpr}, \\mathbf{BExpr} ) \\\\\n",
    " & | & Or ( \\mathbf{BExpr}, \\mathbf{BExpr} ) \\\\\n",
    " & | & ITE(\\mathbf{BExpr}, \\mathbf{BExpr}, \\mathbf{BExpr})\\\\\n",
    "\\end{array}$$"
   ]
  },
  {
   "cell_type": "code",
   "execution_count": 25,
   "metadata": {
    "deletable": false,
    "nbgrader": {
     "cell_type": "code",
     "checksum": "6c4a9fd3ff8a9ba17dc848265cc89e7c",
     "grade": false,
     "grade_id": "cell-279792020634c1e2",
     "locked": false,
     "schema_version": 3,
     "solution": true,
     "task": false
    }
   },
   "outputs": [
    {
     "data": {
      "text/plain": [
       "defined \u001b[32mtrait\u001b[39m \u001b[36mBExpr\u001b[39m\r\n",
       "defined \u001b[32mobject\u001b[39m \u001b[36mTrue\u001b[39m\r\n",
       "defined \u001b[32mobject\u001b[39m \u001b[36mFalse\u001b[39m\r\n",
       "defined \u001b[32mclass\u001b[39m \u001b[36mNot\u001b[39m\r\n",
       "defined \u001b[32mclass\u001b[39m \u001b[36mAnd\u001b[39m\r\n",
       "defined \u001b[32mclass\u001b[39m \u001b[36mOr\u001b[39m\r\n",
       "defined \u001b[32mclass\u001b[39m \u001b[36mITE\u001b[39m"
      ]
     },
     "execution_count": 25,
     "metadata": {},
     "output_type": "execute_result"
    }
   ],
   "source": [
    "// Type def for Boolean Expression with True, False Base cases\n",
    "sealed trait BExpr\n",
    "case object True extends BExpr\n",
    "case object False extends BExpr\n",
    "case class Not(e : BExpr) extends BExpr\n",
    "case class And(e1 : BExpr, e2 : BExpr) extends BExpr\n",
    "case class Or(e1 : BExpr, e2 : BExpr) extends BExpr\n",
    "case class ITE(e1 : BExpr, e2 : BExpr, e3 : BExpr) extends BExpr\n"
   ]
  },
  {
   "cell_type": "code",
   "execution_count": 26,
   "metadata": {
    "deletable": false,
    "editable": false,
    "nbgrader": {
     "cell_type": "code",
     "checksum": "90813154a1c122ba2c97bfc47f45027a",
     "grade": true,
     "grade_id": "cell-4a4d1f097d5c1f68",
     "locked": true,
     "points": 10,
     "schema_version": 3,
     "solution": false,
     "task": false
    }
   },
   "outputs": [
    {
     "name": "stdout",
     "output_type": "stream",
     "text": [
      "\n",
      "*** Tests Passed (10 points) ***\n"
     ]
    },
    {
     "data": {
      "text/plain": [
       "\u001b[36mbexpr1\u001b[39m: \u001b[32mBExpr\u001b[39m = True\r\n",
       "\u001b[36mbexpr2\u001b[39m: \u001b[32mBExpr\u001b[39m = \u001b[33mNot\u001b[39m(True)\r\n",
       "\u001b[36mbexpr3\u001b[39m: \u001b[32mBExpr\u001b[39m = \u001b[33mAnd\u001b[39m(\u001b[33mNot\u001b[39m(True), True)\r\n",
       "\u001b[36mbexpr4\u001b[39m: \u001b[32mBExpr\u001b[39m = \u001b[33mOr\u001b[39m(\u001b[33mNot\u001b[39m(\u001b[33mAnd\u001b[39m(\u001b[33mNot\u001b[39m(True), True)), \u001b[33mAnd\u001b[39m(\u001b[33mNot\u001b[39m(True), True))\r\n",
       "\u001b[36mbexpr5\u001b[39m: \u001b[32mBExpr\u001b[39m = \u001b[33mITE\u001b[39m(\u001b[33mAnd\u001b[39m(\u001b[33mNot\u001b[39m(True), True), False, True)\r\n",
       "\u001b[36mbexpr6\u001b[39m: \u001b[32mBExpr\u001b[39m = \u001b[33mITE\u001b[39m(\n",
       "  \u001b[33mOr\u001b[39m(\u001b[33mNot\u001b[39m(\u001b[33mAnd\u001b[39m(\u001b[33mNot\u001b[39m(True), True)), \u001b[33mAnd\u001b[39m(\u001b[33mNot\u001b[39m(True), True)),\n",
       "  \u001b[33mAnd\u001b[39m(\u001b[33mNot\u001b[39m(True), True),\n",
       "  \u001b[33mITE\u001b[39m(\u001b[33mAnd\u001b[39m(\u001b[33mNot\u001b[39m(True), True), False, True)\n",
       ")"
      ]
     },
     "execution_count": 26,
     "metadata": {},
     "output_type": "execute_result"
    }
   ],
   "source": [
    "val bexpr1 : BExpr = True\n",
    "val bexpr2 : BExpr = Not(bexpr1)\n",
    "val bexpr3 : BExpr = And(Not(bexpr1), True)\n",
    "val bexpr4 : BExpr = Or(Not(bexpr3), bexpr3)\n",
    "val bexpr5 : BExpr = ITE(bexpr3, False, True)\n",
    "val bexpr6 : BExpr = ITE(bexpr4, bexpr3, bexpr5)\n",
    "passed(10)"
   ]
  },
  {
   "cell_type": "markdown",
   "metadata": {
    "deletable": false,
    "editable": false,
    "nbgrader": {
     "cell_type": "markdown",
     "checksum": "eb843adaeb1825948011362d9d64bfc4",
     "grade": false,
     "grade_id": "cell-8518d919c1e1603d",
     "locked": true,
     "schema_version": 3,
     "solution": false,
     "task": false
    }
   },
   "source": [
    "### Problem 1b (20 points)\n",
    "Write an evaluation function for boolean expressions using the above type.\n",
    "\n",
    "$$\\texttt{evalB} : BExpr\\rightarrow Boolean$$"
   ]
  },
  {
   "cell_type": "code",
   "execution_count": 27,
   "metadata": {
    "deletable": false,
    "nbgrader": {
     "cell_type": "code",
     "checksum": "aa2d65ce9757bc27db2716e160f63269",
     "grade": false,
     "grade_id": "cell-227d146a3f8c24a1",
     "locked": false,
     "schema_version": 3,
     "solution": true,
     "task": false
    }
   },
   "outputs": [
    {
     "data": {
      "text/plain": [
       "defined \u001b[32mfunction\u001b[39m \u001b[36mevalB\u001b[39m"
      ]
     },
     "execution_count": 27,
     "metadata": {},
     "output_type": "execute_result"
    }
   ],
   "source": [
    "// Evaluates a boolean expression starting with base case checks\n",
    "def evalB( e : BExpr) : Boolean = {\n",
    "    e match {\n",
    "        case True => true \n",
    "        case False => false\n",
    "        case Not(p) => !evalB(p) // Not of a boolean recursion\n",
    "        case And(p1, p2) => evalB(p1) && evalB(p2) // And checks each 'lower branch' statements\n",
    "        case Or(p1, p2) => evalB(p1) || evalB(p2) // Or like And above\n",
    "        case ITE(p1, p2, p3) => if (evalB(p1)) evalB(p2) else evalB(p3) // ITE using inline if else and recursion\n",
    "    }\n",
    "}"
   ]
  },
  {
   "cell_type": "code",
   "execution_count": 28,
   "metadata": {
    "deletable": false,
    "editable": false,
    "nbgrader": {
     "cell_type": "code",
     "checksum": "be33fae56314104ef6bfd8701a50575d",
     "grade": true,
     "grade_id": "cell-bd9565b6b5e47642",
     "locked": true,
     "points": 20,
     "schema_version": 3,
     "solution": false,
     "task": false
    }
   },
   "outputs": [
    {
     "name": "stdout",
     "output_type": "stream",
     "text": [
      "\n",
      "*** Tests Passed (20 points) ***\n"
     ]
    }
   ],
   "source": [
    "assert(evalB(bexpr1) == true,  \"test 1\")\n",
    "assert(evalB(bexpr2) == false, \"test 2\")\n",
    "assert(evalB(bexpr3) == false, \"test 3\")\n",
    "assert(evalB(bexpr4) == true,  \"test 4\")\n",
    "assert(evalB(bexpr5) == true, \" test 5\")\n",
    "assert(evalB(bexpr6) == false, \"test 6\")\n",
    "passed(20)"
   ]
  },
  {
   "cell_type": "markdown",
   "metadata": {
    "deletable": false,
    "editable": false,
    "nbgrader": {
     "cell_type": "markdown",
     "checksum": "c4bf822b5fe4cb8a008b44177a33436b",
     "grade": false,
     "grade_id": "cell-e532da6ea4280ded",
     "locked": true,
     "schema_version": 3,
     "solution": false,
     "task": false
    }
   },
   "source": [
    "## Problem 2: Combined expressions too.\n",
    "\n",
    "### Problem 1a (10 points)\n",
    "\n",
    "Write a new type **CExpr** for mixed arithmetic and boolean expressions. The new expressions should include everything from before, including the necessary components for both arithmetic boolean expressions, as well as the parts of useful combined expressions, Geq for numerical comparison, Eq for equality.\n",
    "\n",
    "\n",
    "$$\\begin{array}{rcll}\n",
    "\\mathbf{CExpr} & := & Const(Int) \\\\\n",
    " & | & True \\\\\n",
    " & | & False \\\\\n",
    " & | & Ident(String) \\\\\n",
    " & | & Plus(\\mathbf{CExpr}, \\mathbf{CExpr}) \\\\\n",
    " & | & Minus(\\mathbf{CExpr}, \\mathbf{CExpr}) \\\\\n",
    " & | & Mult (\\mathbf{CExpr}, \\mathbf{CExpr}) \\\\\n",
    " & | & Neg (\\mathbf{CExpr}) \\\\\n",
    " & | & And ( \\mathbf{CExpr}, \\mathbf{CExpr} ) \\\\\n",
    " & | & Or ( \\mathbf{CExpr}, \\mathbf{CExpr} ) \\\\\n",
    " & | & Geq (\\mathbf{CExpr}, \\mathbf{CExpr}) \\\\\n",
    " & | & Eq (\\mathbf{CExpr}, \\mathbf{CExpr}) \\\\\n",
    " & | & ITE(\\mathbf{CExpr}, \\mathbf{CExpr}, \\mathbf{CExpr})\\\\\n",
    "\\end{array}$$\n",
    "\n",
    "NOTE: We will be reusing the constructor names in this notebook. Make sure to run the cell with the definitions you are using for each test!"
   ]
  },
  {
   "cell_type": "code",
   "execution_count": 29,
   "metadata": {
    "deletable": false,
    "nbgrader": {
     "cell_type": "code",
     "checksum": "ff37837e867ace0368e69f91d8231a35",
     "grade": false,
     "grade_id": "cell-c98d5002e417dc2a",
     "locked": false,
     "schema_version": 3,
     "solution": true,
     "task": false
    }
   },
   "outputs": [
    {
     "data": {
      "text/plain": [
       "defined \u001b[32mtrait\u001b[39m \u001b[36mCExpr\u001b[39m\r\n",
       "defined \u001b[32mclass\u001b[39m \u001b[36mConst\u001b[39m\r\n",
       "defined \u001b[32mobject\u001b[39m \u001b[36mTrue\u001b[39m\r\n",
       "defined \u001b[32mobject\u001b[39m \u001b[36mFalse\u001b[39m\r\n",
       "defined \u001b[32mclass\u001b[39m \u001b[36mIdent\u001b[39m\r\n",
       "defined \u001b[32mclass\u001b[39m \u001b[36mPlus\u001b[39m\r\n",
       "defined \u001b[32mclass\u001b[39m \u001b[36mMinus\u001b[39m\r\n",
       "defined \u001b[32mclass\u001b[39m \u001b[36mMult\u001b[39m\r\n",
       "defined \u001b[32mclass\u001b[39m \u001b[36mNeg\u001b[39m\r\n",
       "defined \u001b[32mclass\u001b[39m \u001b[36mAnd\u001b[39m\r\n",
       "defined \u001b[32mclass\u001b[39m \u001b[36mNot\u001b[39m\r\n",
       "defined \u001b[32mclass\u001b[39m \u001b[36mOr\u001b[39m\r\n",
       "defined \u001b[32mclass\u001b[39m \u001b[36mGeq\u001b[39m\r\n",
       "defined \u001b[32mclass\u001b[39m \u001b[36mEq\u001b[39m\r\n",
       "defined \u001b[32mclass\u001b[39m \u001b[36mITE\u001b[39m"
      ]
     },
     "execution_count": 29,
     "metadata": {},
     "output_type": "execute_result"
    }
   ],
   "source": [
    "// Type def for General Expression in the order above\n",
    "sealed trait CExpr\n",
    "case class Const(n : Int) extends CExpr\n",
    "case object True extends CExpr\n",
    "case object False extends CExpr\n",
    "case class Ident(s : String) extends CExpr\n",
    "case class Plus( e1 : CExpr, e2 : CExpr) extends CExpr\n",
    "case class Minus( e1 : CExpr, e2 : CExpr) extends CExpr\n",
    "case class Mult( e1 : CExpr, e2 : CExpr) extends CExpr\n",
    "case class Neg( e1 : CExpr) extends CExpr\n",
    "case class And(e1 : CExpr, e2 : CExpr) extends CExpr\n",
    "case class Not(e : CExpr) extends CExpr\n",
    "case class Or(e1 : CExpr, e2 : CExpr) extends CExpr\n",
    "case class Geq(e1 : CExpr, e2 : CExpr) extends CExpr\n",
    "case class Eq(e1 : CExpr, e2 : CExpr) extends CExpr\n",
    "case class ITE(e1 : CExpr, e2 : CExpr, e3 : CExpr) extends CExpr"
   ]
  },
  {
   "cell_type": "code",
   "execution_count": 30,
   "metadata": {
    "deletable": false,
    "editable": false,
    "nbgrader": {
     "cell_type": "code",
     "checksum": "b982bb32185a47ca04a00c8f353157e7",
     "grade": true,
     "grade_id": "cell-105dea821bf91c90",
     "locked": true,
     "points": 10,
     "schema_version": 3,
     "solution": false,
     "task": false
    }
   },
   "outputs": [
    {
     "name": "stdout",
     "output_type": "stream",
     "text": [
      "\n",
      "*** Tests Passed (10 points) ***\n"
     ]
    },
    {
     "data": {
      "text/plain": [
       "\u001b[36mexpr1\u001b[39m: \u001b[32mCExpr\u001b[39m = \u001b[33mConst\u001b[39m(\u001b[32m10\u001b[39m)\r\n",
       "\u001b[36mexpr2\u001b[39m: \u001b[32mCExpr\u001b[39m = True\r\n",
       "\u001b[36mexpr3\u001b[39m: \u001b[32mCExpr\u001b[39m = False\r\n",
       "\u001b[36mexpr4\u001b[39m: \u001b[32mCExpr\u001b[39m = \u001b[33mIdent\u001b[39m(\u001b[32m\"x\"\u001b[39m)\r\n",
       "\u001b[36mexpr5\u001b[39m: \u001b[32mCExpr\u001b[39m = \u001b[33mPlus\u001b[39m(\u001b[33mConst\u001b[39m(\u001b[32m10\u001b[39m), \u001b[33mIdent\u001b[39m(\u001b[32m\"x\"\u001b[39m))\r\n",
       "\u001b[36mexpr6\u001b[39m: \u001b[32mCExpr\u001b[39m = \u001b[33mMinus\u001b[39m(\u001b[33mPlus\u001b[39m(\u001b[33mConst\u001b[39m(\u001b[32m10\u001b[39m), \u001b[33mIdent\u001b[39m(\u001b[32m\"x\"\u001b[39m)), \u001b[33mConst\u001b[39m(\u001b[32m10\u001b[39m))\r\n",
       "\u001b[36mexpr7\u001b[39m: \u001b[32mCExpr\u001b[39m = \u001b[33mMult\u001b[39m(\n",
       "  \u001b[33mPlus\u001b[39m(\u001b[33mConst\u001b[39m(\u001b[32m10\u001b[39m), \u001b[33mIdent\u001b[39m(\u001b[32m\"x\"\u001b[39m)),\n",
       "  \u001b[33mMinus\u001b[39m(\u001b[33mPlus\u001b[39m(\u001b[33mConst\u001b[39m(\u001b[32m10\u001b[39m), \u001b[33mIdent\u001b[39m(\u001b[32m\"x\"\u001b[39m)), \u001b[33mConst\u001b[39m(\u001b[32m10\u001b[39m))\n",
       ")\r\n",
       "\u001b[36mexpr8\u001b[39m: \u001b[32mCExpr\u001b[39m = \u001b[33mNeg\u001b[39m(\n",
       "  \u001b[33mMult\u001b[39m(\n",
       "    \u001b[33mPlus\u001b[39m(\u001b[33mConst\u001b[39m(\u001b[32m10\u001b[39m), \u001b[33mIdent\u001b[39m(\u001b[32m\"x\"\u001b[39m)),\n",
       "    \u001b[33mMinus\u001b[39m(\u001b[33mPlus\u001b[39m(\u001b[33mConst\u001b[39m(\u001b[32m10\u001b[39m), \u001b[33mIdent\u001b[39m(\u001b[32m\"x\"\u001b[39m)), \u001b[33mConst\u001b[39m(\u001b[32m10\u001b[39m))\n",
       "  )\n",
       ")\r\n",
       "\u001b[36mexpr9\u001b[39m: \u001b[32mCExpr\u001b[39m = \u001b[33mAnd\u001b[39m(True, False)\r\n",
       "\u001b[36mexpr10\u001b[39m: \u001b[32mCExpr\u001b[39m = \u001b[33mOr\u001b[39m(True, \u001b[33mAnd\u001b[39m(True, False))\r\n",
       "\u001b[36mexpr11\u001b[39m: \u001b[32mCExpr\u001b[39m = \u001b[33mGeq\u001b[39m(\u001b[33mConst\u001b[39m(\u001b[32m10\u001b[39m), \u001b[33mIdent\u001b[39m(\u001b[32m\"x\"\u001b[39m))\r\n",
       "\u001b[36mexpr12\u001b[39m: \u001b[32mCExpr\u001b[39m = \u001b[33mEq\u001b[39m(\u001b[33mConst\u001b[39m(\u001b[32m10\u001b[39m), \u001b[33mIdent\u001b[39m(\u001b[32m\"x\"\u001b[39m))\r\n",
       "\u001b[36mexpr13\u001b[39m: \u001b[32mCExpr\u001b[39m = \u001b[33mITE\u001b[39m(True, \u001b[33mConst\u001b[39m(\u001b[32m10\u001b[39m), \u001b[33mIdent\u001b[39m(\u001b[32m\"x\"\u001b[39m))"
      ]
     },
     "execution_count": 30,
     "metadata": {},
     "output_type": "execute_result"
    }
   ],
   "source": [
    "val expr1 : CExpr = Const(10)\n",
    "val expr2 : CExpr = True\n",
    "val expr3 : CExpr = False\n",
    "val expr4 : CExpr = Ident(\"x\")\n",
    "val expr5 : CExpr = Plus(expr1, expr4)\n",
    "val expr6 : CExpr = Minus(expr5, expr1)\n",
    "val expr7 : CExpr = Mult(expr5, expr6)\n",
    "val expr8 : CExpr = Neg(expr7)\n",
    "val expr9 : CExpr = And(expr2,expr3)\n",
    "val expr10 : CExpr = Or(expr2, expr9)\n",
    "val expr11 : CExpr = Geq(expr1, expr4)\n",
    "val expr12 : CExpr = Eq(expr1, expr4) \n",
    "val expr13 : CExpr = ITE(expr2, expr1, expr4)\n",
    "passed(10)"
   ]
  },
  {
   "cell_type": "markdown",
   "metadata": {
    "deletable": false,
    "editable": false,
    "nbgrader": {
     "cell_type": "markdown",
     "checksum": "1adc03a830f6d729430a1dedfdaace8e",
     "grade": false,
     "grade_id": "cell-f64ec790bf618efd",
     "locked": true,
     "schema_version": 3,
     "solution": false,
     "task": false
    }
   },
   "source": [
    "### Problem 2b (10 points)\n",
    "\n",
    "Our eval function is no longer going to be able to return a single type since the expressions can return either Integers or Booleans. However we still want to be able to return a value for each expression. We might want to return either a number value or NumVal for integer or a boolean value or BinVal for booleans. If we run into an error in our expression we will want to return an Error.\n",
    "\n",
    "$$\\begin{array}{rcll}\n",
    "\\mathbf{Value} & := & NumVal(Int) \\\\\n",
    " & | & BinVal(Boolean) \\\\\n",
    " & | & Error \\\\\n",
    "\\end{array}$$\n",
    "\n",
    "Write the **Value** type in scala:"
   ]
  },
  {
   "cell_type": "code",
   "execution_count": 31,
   "metadata": {
    "deletable": false,
    "nbgrader": {
     "cell_type": "code",
     "checksum": "602531b4bb71402b05dc394d78247420",
     "grade": false,
     "grade_id": "cell-f07a8638ca582024",
     "locked": false,
     "schema_version": 3,
     "solution": true,
     "task": false
    }
   },
   "outputs": [
    {
     "data": {
      "text/plain": [
       "defined \u001b[32mtrait\u001b[39m \u001b[36mValue\u001b[39m\r\n",
       "defined \u001b[32mclass\u001b[39m \u001b[36mNumVal\u001b[39m\r\n",
       "defined \u001b[32mclass\u001b[39m \u001b[36mBinVal\u001b[39m\r\n",
       "defined \u001b[32mobject\u001b[39m \u001b[36mError\u001b[39m"
      ]
     },
     "execution_count": 31,
     "metadata": {},
     "output_type": "execute_result"
    }
   ],
   "source": [
    "// Value type with Num and Bin constructors and Error object\n",
    "sealed trait Value\n",
    "case class NumVal(i : Int) extends Value\n",
    "case class BinVal(b : Boolean) extends Value\n",
    "case object Error extends Value"
   ]
  },
  {
   "cell_type": "code",
   "execution_count": 32,
   "metadata": {
    "deletable": false,
    "editable": false,
    "nbgrader": {
     "cell_type": "code",
     "checksum": "6137ba9d530ef5592bac29616d422768",
     "grade": true,
     "grade_id": "cell-12035a00d3104015",
     "locked": true,
     "points": 10,
     "schema_version": 3,
     "solution": false,
     "task": false
    }
   },
   "outputs": [
    {
     "name": "stdout",
     "output_type": "stream",
     "text": [
      "\n",
      "*** Tests Passed (10 points) ***\n"
     ]
    },
    {
     "data": {
      "text/plain": [
       "\u001b[36ma\u001b[39m: \u001b[32mValue\u001b[39m = \u001b[33mNumVal\u001b[39m(\u001b[32m10\u001b[39m)\r\n",
       "\u001b[36mb\u001b[39m: \u001b[32mValue\u001b[39m = \u001b[33mNumVal\u001b[39m(\u001b[32m-10\u001b[39m)\r\n",
       "\u001b[36mc\u001b[39m: \u001b[32mValue\u001b[39m = \u001b[33mBinVal\u001b[39m(true)\r\n",
       "\u001b[36md\u001b[39m: \u001b[32mValue\u001b[39m = Error"
      ]
     },
     "execution_count": 32,
     "metadata": {},
     "output_type": "execute_result"
    }
   ],
   "source": [
    "val a : Value = NumVal(10)\n",
    "val b : Value = NumVal(-10)\n",
    "val c : Value = BinVal(true)\n",
    "val d : Value = Error\n",
    "passed(10)"
   ]
  },
  {
   "cell_type": "markdown",
   "metadata": {
    "deletable": false,
    "editable": false,
    "nbgrader": {
     "cell_type": "markdown",
     "checksum": "7284b5d1e63d8e1797186f7382d4ddca",
     "grade": false,
     "grade_id": "cell-b9d32bdf7080fd74",
     "locked": true,
     "schema_version": 3,
     "solution": false,
     "task": false
    }
   },
   "source": [
    "### Problem 2c (10 points)\n",
    "\n",
    "Environments store what values different variables represent. For arithmetic expressions the environment we used mapped variable names to integers. However in our new combined expressions integers aren't the only things that can be stored in the environment. What should the type of the environment be?\n",
    "\n",
    "Scala allows us to define type aliases with the following syntax:\n",
    "\n",
    "```type <Type Alias Name> = <Type Definition>```\n",
    "\n",
    "If we wanted to introduce a new type in scala for bitstrings we could instead create a type alias for lists of booleans:\n",
    "\n",
    "```type BitString = List[Boolean]```\n",
    "\n",
    "\n",
    "What is the type of the environment for combined expressions?"
   ]
  },
  {
   "cell_type": "code",
   "execution_count": 33,
   "metadata": {
    "deletable": false,
    "nbgrader": {
     "cell_type": "code",
     "checksum": "cae777833ef3500f2c7d5ef61342f62e",
     "grade": false,
     "grade_id": "cell-c1a4b422ae999d40",
     "locked": false,
     "schema_version": 3,
     "solution": true,
     "task": false
    }
   },
   "outputs": [
    {
     "data": {
      "text/plain": [
       "defined \u001b[32mtype\u001b[39m \u001b[36mEnvironment\u001b[39m"
      ]
     },
     "execution_count": 33,
     "metadata": {},
     "output_type": "execute_result"
    }
   ],
   "source": [
    "// We want our type Env to represent a map from a string (variable) to a Value obj\n",
    "type Environment = Map[String, Value]"
   ]
  },
  {
   "cell_type": "code",
   "execution_count": 34,
   "metadata": {
    "deletable": false,
    "editable": false,
    "nbgrader": {
     "cell_type": "code",
     "checksum": "48a4707934332d86ff6abfbd48e1baae",
     "grade": true,
     "grade_id": "cell-2126689af2f85656",
     "locked": true,
     "points": 10,
     "schema_version": 3,
     "solution": false,
     "task": false
    }
   },
   "outputs": [
    {
     "name": "stdout",
     "output_type": "stream",
     "text": [
      "\n",
      "*** Tests Passed (10 points) ***\n"
     ]
    },
    {
     "data": {
      "text/plain": [
       "\u001b[36memptyenv\u001b[39m: \u001b[32mEnvironment\u001b[39m = \u001b[33mMap\u001b[39m()\r\n",
       "\u001b[36menv1\u001b[39m: \u001b[32mEnvironment\u001b[39m = \u001b[33mMap\u001b[39m(\u001b[32m\"a\"\u001b[39m -> \u001b[33mNumVal\u001b[39m(\u001b[32m10\u001b[39m))\r\n",
       "\u001b[36menv2\u001b[39m: \u001b[32mEnvironment\u001b[39m = \u001b[33mMap\u001b[39m(\u001b[32m\"b\"\u001b[39m -> \u001b[33mBinVal\u001b[39m(true))\r\n",
       "\u001b[36menv3\u001b[39m: \u001b[32mEnvironment\u001b[39m = \u001b[33mMap\u001b[39m(\u001b[32m\"x\"\u001b[39m -> \u001b[33mNumVal\u001b[39m(\u001b[32m3\u001b[39m), \u001b[32m\"y\"\u001b[39m -> \u001b[33mNumVal\u001b[39m(\u001b[32m4\u001b[39m), \u001b[32m\"z\"\u001b[39m -> \u001b[33mBinVal\u001b[39m(true))"
      ]
     },
     "execution_count": 34,
     "metadata": {},
     "output_type": "execute_result"
    }
   ],
   "source": [
    "val emptyenv : Environment = Map()\n",
    "val env1 : Environment = Map( \"a\" -> NumVal(10))\n",
    "val env2 : Environment = Map( \"b\" -> BinVal(true))\n",
    "val env3 : Environment = Map( \"x\" -> NumVal(3), \"y\" -> NumVal(4), \"z\" -> BinVal(true))\n",
    "passed(10)"
   ]
  },
  {
   "cell_type": "markdown",
   "metadata": {
    "deletable": false,
    "editable": false,
    "nbgrader": {
     "cell_type": "markdown",
     "checksum": "8676d53a0fc2f6784a32ae69046b2ec7",
     "grade": false,
     "grade_id": "cell-f27c61490f306f06",
     "locked": true,
     "schema_version": 3,
     "solution": false,
     "task": false
    }
   },
   "source": [
    "### Problem 2d (20 points)\n",
    "\n",
    "Write ``evalC``, the interpreter for evaluating combined arithmetic/boolean expressions:\n",
    "\n",
    "$$ evalC : CExpr \\rightarrow Environment \\rightarrow Value $$\n",
    "\n",
    "Suggestion: Start with one case at a time, and always consider the types of what being returned by every function."
   ]
  },
  {
   "cell_type": "code",
   "execution_count": 35,
   "metadata": {
    "deletable": false,
    "nbgrader": {
     "cell_type": "code",
     "checksum": "11e32b6f83fea7e9db8a34be1eca9383",
     "grade": false,
     "grade_id": "cell-d9c08124e6652827",
     "locked": false,
     "schema_version": 3,
     "solution": true,
     "task": false
    }
   },
   "outputs": [
    {
     "data": {
      "text/plain": [
       "defined \u001b[32mfunction\u001b[39m \u001b[36mevalC\u001b[39m"
      ]
     },
     "execution_count": 35,
     "metadata": {},
     "output_type": "execute_result"
    }
   ],
   "source": [
    "// Use pattern matching for evalC to distinguish the cases of the entered expression\n",
    "def evalC( e : CExpr, env : Environment) : Value = {\n",
    "    e match {\n",
    "        case Const(i) => NumVal(i) // Handle constant int base case (return Value)\n",
    "        case True => BinVal(true) // Base cases for BinVal\n",
    "        case False => BinVal(false)\n",
    "        case Ident(s) => if (env.contains(s)) env(s) else Error // Return env variable if exists otherwise Error\n",
    "        \n",
    "        // Pattern match the tuple of inputs to check that both are NatVals and add, othewise Error\n",
    "        case Plus(p1, p2) => val e1 : Value = evalC(p1, env)\n",
    "                             val e2 : Value = evalC(p2, env)\n",
    "                             (e1, e2) match {\n",
    "                                 case (NumVal(e1), NumVal(e2)) => NumVal(e1+e2)\n",
    "                                 case _ => Error\n",
    "                             }\n",
    "        // Likewise with Minus and Mult, pattern match for Ints and return Value\n",
    "        case Minus(p1, p2) => val e1 : Value = evalC(p1, env)\n",
    "                              val e2 : Value = evalC(p2, env)\n",
    "                              (e1, e2) match {\n",
    "                                  case (NumVal(e1), NumVal(e2)) => NumVal(e1-e2)\n",
    "                                  case _ => Error\n",
    "                              }\n",
    "        case Mult(p1, p2) => val e1 : Value = evalC(p1, env)\n",
    "                             val e2 : Value = evalC(p2, env)\n",
    "                             (e1, e2) match {\n",
    "                                 case (NumVal(e1), NumVal(e2)) => NumVal(e1*e2)\n",
    "                                 case _ => Error\n",
    "                             }\n",
    "        // Negate both Boolean and Int Values \n",
    "        case Neg(p) => val e : Value = evalC(p, env)\n",
    "                       e match {\n",
    "                           case NumVal(i) => NumVal(-i)\n",
    "                           case BinVal(b) => BinVal(!b)\n",
    "                           case _ => Error\n",
    "                       }\n",
    "        // With And, Or, and Geq run pattern matching to check boolean type and return BinVal of the conditional\n",
    "        case And(b1, b2) => val e1 : Value = evalC(b1, env)\n",
    "                            val e2 : Value = evalC(b2, env)\n",
    "                            (e1, e2) match {\n",
    "                                case (BinVal(p1), BinVal(p2)) => BinVal(p1 && p2)\n",
    "                                case _ => Error\n",
    "                            }\n",
    "        case Or(b1, b2) => val e1 : Value = evalC(b1, env)\n",
    "                           val e2 : Value = evalC(b2, env)\n",
    "                           (e1, e2) match {\n",
    "                               case (BinVal(e1), BinVal(e2)) => BinVal(e1 || e2)\n",
    "                               case _ => Error\n",
    "                           }\n",
    "        case Geq(p1, p2) => val e1 : Value = evalC(p1, env)\n",
    "                            val e2 : Value = evalC(p2, env)\n",
    "                            (e1, e2) match {\n",
    "                                case (NumVal(e1), NumVal(e2)) => BinVal(e1 >= e2)\n",
    "                                case _ => Error\n",
    "                            }\n",
    "        // For Eq we want to return a Bool if inputs are Values but only true if \n",
    "        // inputs are of the same Value type and equivalent\n",
    "        case Eq(p1, p2) => val e1 : Value = evalC(p1, env)\n",
    "                           val e2 : Value = evalC(p2, env)\n",
    "                           (e1, e2) match {\n",
    "                               case (NumVal(e1), NumVal(e2)) => BinVal(e1 == e2)\n",
    "                               case (BinVal(e1), BinVal(e2)) => BinVal(e1 == e2)\n",
    "                               case (BinVal(e1), NumVal(e2)) => BinVal(false)\n",
    "                               case (NumVal(e1), BinVal(e2)) => BinVal(false)\n",
    "                               case _ => Error\n",
    "                           }\n",
    "        // ITE performs a simple boolean pattern match and runs designated input\n",
    "        case ITE(p1, p2, p3) => val e1 : Value = evalC(p1, env)\n",
    "                                e1 match {\n",
    "                                    case BinVal(true) => evalC(p2, env)\n",
    "                                    case BinVal(false) => evalC(p3, env)\n",
    "                                    case _ => Error\n",
    "                                }\n",
    "    }\n",
    "}"
   ]
  },
  {
   "cell_type": "code",
   "execution_count": 36,
   "metadata": {
    "deletable": false,
    "editable": false,
    "nbgrader": {
     "cell_type": "code",
     "checksum": "ff9c871407d4cbcf486ba0b0758250e8",
     "grade": true,
     "grade_id": "cell-fed8b7454159d4ed",
     "locked": true,
     "points": 4,
     "schema_version": 3,
     "solution": false,
     "task": false
    }
   },
   "outputs": [
    {
     "name": "stdout",
     "output_type": "stream",
     "text": [
      "\n",
      "*** Tests Passed (4 points) ***\n"
     ]
    },
    {
     "data": {
      "text/plain": [
       "\u001b[36me1\u001b[39m: \u001b[32mCExpr\u001b[39m = \u001b[33mConst\u001b[39m(\u001b[32m10\u001b[39m)\r\n",
       "\u001b[36me2\u001b[39m: \u001b[32mCExpr\u001b[39m = True\r\n",
       "\u001b[36memptyenv\u001b[39m: \u001b[32mEnvironment\u001b[39m = \u001b[33mMap\u001b[39m()"
      ]
     },
     "execution_count": 36,
     "metadata": {},
     "output_type": "execute_result"
    }
   ],
   "source": [
    "val e1 : CExpr = Const(10)\n",
    "val e2 : CExpr = True\n",
    "val emptyenv : Environment = Map()\n",
    "assert(evalC( e1, emptyenv) == NumVal(10) , \"test 1\")\n",
    "assert(evalC( e2, emptyenv) == BinVal(true), \"test 2\")\n",
    "passed(4)"
   ]
  },
  {
   "cell_type": "code",
   "execution_count": 37,
   "metadata": {
    "deletable": false,
    "editable": false,
    "nbgrader": {
     "cell_type": "code",
     "checksum": "9ef7f8936350e5af125e571536cbc70c",
     "grade": true,
     "grade_id": "cell-52acaa39646a2b6a",
     "locked": true,
     "points": 4,
     "schema_version": 3,
     "solution": false,
     "task": false
    }
   },
   "outputs": [
    {
     "name": "stdout",
     "output_type": "stream",
     "text": [
      "\n",
      "*** Tests Passed (4 points) ***\n"
     ]
    },
    {
     "data": {
      "text/plain": [
       "\u001b[36me1\u001b[39m: \u001b[32mCExpr\u001b[39m = \u001b[33mIdent\u001b[39m(\u001b[32m\"x\"\u001b[39m)\r\n",
       "\u001b[36me2\u001b[39m: \u001b[32mCExpr\u001b[39m = \u001b[33mIdent\u001b[39m(\u001b[32m\"y\"\u001b[39m)\r\n",
       "\u001b[36me3\u001b[39m: \u001b[32mCExpr\u001b[39m = \u001b[33mIdent\u001b[39m(\u001b[32m\"z\"\u001b[39m)\r\n",
       "\u001b[36menv\u001b[39m: \u001b[32mEnvironment\u001b[39m = \u001b[33mMap\u001b[39m(\u001b[32m\"x\"\u001b[39m -> \u001b[33mNumVal\u001b[39m(\u001b[32m10\u001b[39m), \u001b[32m\"y\"\u001b[39m -> \u001b[33mBinVal\u001b[39m(true))\r\n",
       "\u001b[36memptyenv\u001b[39m: \u001b[32mEnvironment\u001b[39m = \u001b[33mMap\u001b[39m()"
      ]
     },
     "execution_count": 37,
     "metadata": {},
     "output_type": "execute_result"
    }
   ],
   "source": [
    "val e1 : CExpr = Ident(\"x\")\n",
    "val e2 : CExpr = Ident(\"y\")\n",
    "val e3 : CExpr = Ident(\"z\")\n",
    "val env : Environment = Map(\"x\"-> NumVal(10), \"y\" -> BinVal(true))\n",
    "val emptyenv : Environment = Map()\n",
    "assert(evalC( e1, env) == NumVal(10), \"test 3\")\n",
    "assert(evalC( e2, env) == BinVal(true), \"test 4\")\n",
    "assert(evalC( e1, emptyenv) == Error)\n",
    "assert(evalC( e3, env) == Error)\n",
    "passed(4)"
   ]
  },
  {
   "cell_type": "code",
   "execution_count": 38,
   "metadata": {
    "deletable": false,
    "editable": false,
    "nbgrader": {
     "cell_type": "code",
     "checksum": "157066610307e515ecb33f4bbec7df7a",
     "grade": true,
     "grade_id": "cell-e010f23013305d3f",
     "locked": true,
     "points": 4,
     "schema_version": 3,
     "solution": false,
     "task": false
    }
   },
   "outputs": [
    {
     "name": "stdout",
     "output_type": "stream",
     "text": [
      "\n",
      "*** Tests Passed (4 points) ***\n"
     ]
    },
    {
     "data": {
      "text/plain": [
       "\u001b[36me1\u001b[39m: \u001b[32mCExpr\u001b[39m = \u001b[33mPlus\u001b[39m(\u001b[33mConst\u001b[39m(\u001b[32m3\u001b[39m), \u001b[33mMult\u001b[39m(\u001b[33mIdent\u001b[39m(\u001b[32m\"x\"\u001b[39m), \u001b[33mConst\u001b[39m(\u001b[32m5\u001b[39m)))\r\n",
       "\u001b[36me2\u001b[39m: \u001b[32mCExpr\u001b[39m = \u001b[33mMinus\u001b[39m(\u001b[33mMult\u001b[39m(\u001b[33mIdent\u001b[39m(\u001b[32m\"x\"\u001b[39m), \u001b[33mIdent\u001b[39m(\u001b[32m\"x\"\u001b[39m)), \u001b[33mMult\u001b[39m(\u001b[33mIdent\u001b[39m(\u001b[32m\"y\"\u001b[39m), \u001b[33mIdent\u001b[39m(\u001b[32m\"y\"\u001b[39m)))\r\n",
       "\u001b[36menv1\u001b[39m: \u001b[32mEnvironment\u001b[39m = \u001b[33mMap\u001b[39m(\u001b[32m\"x\"\u001b[39m -> \u001b[33mNumVal\u001b[39m(\u001b[32m4\u001b[39m), \u001b[32m\"y\"\u001b[39m -> \u001b[33mNumVal\u001b[39m(\u001b[32m5\u001b[39m))\r\n",
       "\u001b[36menv2\u001b[39m: \u001b[32mEnvironment\u001b[39m = \u001b[33mMap\u001b[39m(\u001b[32m\"x\"\u001b[39m -> \u001b[33mBinVal\u001b[39m(true))"
      ]
     },
     "execution_count": 38,
     "metadata": {},
     "output_type": "execute_result"
    }
   ],
   "source": [
    "val e1 : CExpr = Plus(Const(3), Mult(Ident(\"x\"), Const(5)))\n",
    "val e2 : CExpr = Minus(Mult(Ident(\"x\"), Ident(\"x\")), Mult(Ident(\"y\"), Ident(\"y\")))\n",
    "val env1 : Environment = Map(\"x\"-> NumVal(4), \"y\" -> NumVal(5))\n",
    "val env2 : Environment = Map(\"x\"-> BinVal(true))\n",
    "assert(evalC( e1, env1) == NumVal(23), \"test 5\")\n",
    "assert(evalC( e1, env2) == Error, \"test 6\")\n",
    "assert(evalC( e2, env1) == NumVal(-9), \"test 7\")\n",
    "passed(4)"
   ]
  },
  {
   "cell_type": "code",
   "execution_count": 39,
   "metadata": {
    "deletable": false,
    "editable": false,
    "nbgrader": {
     "cell_type": "code",
     "checksum": "35a38bd3cbcbfa769cdf259e6a335b6a",
     "grade": true,
     "grade_id": "cell-f83148133d2d8471",
     "locked": true,
     "points": 4,
     "schema_version": 3,
     "solution": false,
     "task": false
    }
   },
   "outputs": [
    {
     "name": "stdout",
     "output_type": "stream",
     "text": [
      "\n",
      "*** Tests Passed (4 points) ***\n"
     ]
    },
    {
     "data": {
      "text/plain": [
       "\u001b[36me1\u001b[39m: \u001b[32mCExpr\u001b[39m = \u001b[33mNeg\u001b[39m(\u001b[33mConst\u001b[39m(\u001b[32m10\u001b[39m))\r\n",
       "\u001b[36me2\u001b[39m: \u001b[32mCExpr\u001b[39m = \u001b[33mNeg\u001b[39m(True)\r\n",
       "\u001b[36memptyenv\u001b[39m: \u001b[32mEnvironment\u001b[39m = \u001b[33mMap\u001b[39m()"
      ]
     },
     "execution_count": 39,
     "metadata": {},
     "output_type": "execute_result"
    }
   ],
   "source": [
    "val e1 : CExpr = Neg(Const(10))\n",
    "val e2 : CExpr = Neg(True)\n",
    "val emptyenv : Environment = Map()\n",
    "assert( evalC(e1, emptyenv) == NumVal(-10), \"test 8\")\n",
    "assert( evalC(e2, emptyenv) == BinVal(false), \"test 9\")\n",
    "passed(4)"
   ]
  },
  {
   "cell_type": "code",
   "execution_count": 40,
   "metadata": {
    "deletable": false,
    "editable": false,
    "nbgrader": {
     "cell_type": "code",
     "checksum": "df60284d7b1b94d9eeb8f6e5a27a8a11",
     "grade": true,
     "grade_id": "cell-dc66e65305e3b13e",
     "locked": true,
     "points": 4,
     "schema_version": 3,
     "solution": false,
     "task": false
    }
   },
   "outputs": [
    {
     "name": "stdout",
     "output_type": "stream",
     "text": [
      "\n",
      "*** Tests Passed (4 points) ***\n"
     ]
    },
    {
     "data": {
      "text/plain": [
       "\u001b[36me1\u001b[39m: \u001b[32mCExpr\u001b[39m = \u001b[33mAnd\u001b[39m(True, \u001b[33mOr\u001b[39m(\u001b[33mIdent\u001b[39m(\u001b[32m\"x\"\u001b[39m), \u001b[33mNeg\u001b[39m(\u001b[33mIdent\u001b[39m(\u001b[32m\"x\"\u001b[39m))))\r\n",
       "\u001b[36menv\u001b[39m: \u001b[32mEnvironment\u001b[39m = \u001b[33mMap\u001b[39m(\u001b[32m\"x\"\u001b[39m -> \u001b[33mBinVal\u001b[39m(false))"
      ]
     },
     "execution_count": 40,
     "metadata": {},
     "output_type": "execute_result"
    }
   ],
   "source": [
    "val e1 : CExpr = And(True, Or(Ident(\"x\"), Neg(Ident(\"x\"))))\n",
    "val env : Environment = Map( \"x\" -> BinVal(false))\n",
    "assert( evalC(e1, env) == BinVal(true), \"test 10\")\n",
    "passed(4)"
   ]
  },
  {
   "cell_type": "code",
   "execution_count": 41,
   "metadata": {
    "deletable": false,
    "editable": false,
    "nbgrader": {
     "cell_type": "code",
     "checksum": "711a398eda34287c772c4a95c45744dc",
     "grade": true,
     "grade_id": "cell-50821cc0a364b814",
     "locked": true,
     "points": 4,
     "schema_version": 3,
     "solution": false,
     "task": false
    }
   },
   "outputs": [
    {
     "name": "stdout",
     "output_type": "stream",
     "text": [
      "\n",
      "*** Tests Passed (4 points) ***\n"
     ]
    },
    {
     "data": {
      "text/plain": [
       "\u001b[36me1\u001b[39m: \u001b[32mCExpr\u001b[39m = \u001b[33mGeq\u001b[39m(\u001b[33mConst\u001b[39m(\u001b[32m10\u001b[39m), \u001b[33mConst\u001b[39m(\u001b[32m5\u001b[39m))\r\n",
       "\u001b[36me2\u001b[39m: \u001b[32mCExpr\u001b[39m = \u001b[33mGeq\u001b[39m(\u001b[33mConst\u001b[39m(\u001b[32m5\u001b[39m), \u001b[33mConst\u001b[39m(\u001b[32m10\u001b[39m))\r\n",
       "\u001b[36me3\u001b[39m: \u001b[32mCExpr\u001b[39m = \u001b[33mGeq\u001b[39m(\u001b[33mConst\u001b[39m(\u001b[32m5\u001b[39m), \u001b[33mConst\u001b[39m(\u001b[32m5\u001b[39m))\r\n",
       "\u001b[36me4\u001b[39m: \u001b[32mCExpr\u001b[39m = \u001b[33mGeq\u001b[39m(True, \u001b[33mConst\u001b[39m(\u001b[32m5\u001b[39m))\r\n",
       "\u001b[36memptyenv\u001b[39m: \u001b[32mEnvironment\u001b[39m = \u001b[33mMap\u001b[39m()"
      ]
     },
     "execution_count": 41,
     "metadata": {},
     "output_type": "execute_result"
    }
   ],
   "source": [
    "val e1 : CExpr = Geq(Const(10), Const(5))\n",
    "val e2 : CExpr = Geq(Const(5), Const(10))\n",
    "val e3 : CExpr = Geq(Const(5), Const(5))\n",
    "val e4 : CExpr = Geq(True, Const(5))\n",
    "val emptyenv : Environment = Map()\n",
    "assert( evalC(e1, emptyenv) == BinVal(true), \"test 11\")\n",
    "assert( evalC(e2, emptyenv) == BinVal(false), \"test 12\")\n",
    "assert( evalC(e3, emptyenv) == BinVal(true), \"test 13\")\n",
    "assert( evalC(e4, emptyenv) == Error, \"test 14\")\n",
    "passed(4)"
   ]
  },
  {
   "cell_type": "code",
   "execution_count": 42,
   "metadata": {
    "deletable": false,
    "editable": false,
    "nbgrader": {
     "cell_type": "code",
     "checksum": "6cad08868a587857c779028f12f022de",
     "grade": true,
     "grade_id": "cell-523535459b6c64dc",
     "locked": true,
     "points": 4,
     "schema_version": 3,
     "solution": false,
     "task": false
    }
   },
   "outputs": [
    {
     "name": "stdout",
     "output_type": "stream",
     "text": [
      "\n",
      "*** Tests Passed (4 points) ***\n"
     ]
    },
    {
     "data": {
      "text/plain": [
       "\u001b[36me1\u001b[39m: \u001b[32mCExpr\u001b[39m = \u001b[33mEq\u001b[39m(\u001b[33mConst\u001b[39m(\u001b[32m10\u001b[39m), \u001b[33mIdent\u001b[39m(\u001b[32m\"x\"\u001b[39m))\r\n",
       "\u001b[36me2\u001b[39m: \u001b[32mCExpr\u001b[39m = \u001b[33mPlus\u001b[39m(\u001b[33mConst\u001b[39m(\u001b[32m10\u001b[39m), True)\r\n",
       "\u001b[36menv1\u001b[39m: \u001b[32mEnvironment\u001b[39m = \u001b[33mMap\u001b[39m(\u001b[32m\"x\"\u001b[39m -> \u001b[33mNumVal\u001b[39m(\u001b[32m10\u001b[39m))\r\n",
       "\u001b[36menv2\u001b[39m: \u001b[32mEnvironment\u001b[39m = \u001b[33mMap\u001b[39m(\u001b[32m\"x\"\u001b[39m -> \u001b[33mNumVal\u001b[39m(\u001b[32m5\u001b[39m))\r\n",
       "\u001b[36menv3\u001b[39m: \u001b[32mEnvironment\u001b[39m = \u001b[33mMap\u001b[39m(\u001b[32m\"x\"\u001b[39m -> \u001b[33mBinVal\u001b[39m(true))"
      ]
     },
     "execution_count": 42,
     "metadata": {},
     "output_type": "execute_result"
    }
   ],
   "source": [
    "val e1 : CExpr = Eq( Const(10), Ident(\"x\"))\n",
    "val e2 : CExpr = Plus( Const(10), True)\n",
    "val env1 : Environment = Map( \"x\" -> NumVal(10))\n",
    "val env2 : Environment = Map( \"x\" -> NumVal(5))\n",
    "val env3 : Environment = Map( \"x\" -> BinVal(true))\n",
    "assert( evalC(e1, env1) == BinVal(true), \"test 15\")\n",
    "assert( evalC(e1, env2) == BinVal(false), \"test 16\")\n",
    "assert( evalC(e1, env3) == BinVal(false), \"test 17\")\n",
    "assert( evalC(e2, env1) == Error, \"test 18\")\n",
    "passed(4)"
   ]
  },
  {
   "cell_type": "code",
   "execution_count": 43,
   "metadata": {
    "deletable": false,
    "editable": false,
    "nbgrader": {
     "cell_type": "code",
     "checksum": "4b9d49551c98c801a820f3e54a846365",
     "grade": true,
     "grade_id": "cell-0da9abb1ea5bbb4f",
     "locked": true,
     "points": 4,
     "schema_version": 3,
     "solution": false,
     "task": false
    }
   },
   "outputs": [
    {
     "name": "stdout",
     "output_type": "stream",
     "text": [
      "\n",
      "*** Tests Passed (4 points) ***\n"
     ]
    },
    {
     "data": {
      "text/plain": [
       "\u001b[36me1\u001b[39m: \u001b[32mCExpr\u001b[39m = \u001b[33mITE\u001b[39m(\u001b[33mGeq\u001b[39m(\u001b[33mIdent\u001b[39m(\u001b[32m\"x\"\u001b[39m), \u001b[33mIdent\u001b[39m(\u001b[32m\"y\"\u001b[39m)), \u001b[33mIdent\u001b[39m(\u001b[32m\"x\"\u001b[39m), \u001b[33mIdent\u001b[39m(\u001b[32m\"y\"\u001b[39m))\r\n",
       "\u001b[36menv1\u001b[39m: \u001b[32mEnvironment\u001b[39m = \u001b[33mMap\u001b[39m(\u001b[32m\"x\"\u001b[39m -> \u001b[33mNumVal\u001b[39m(\u001b[32m10\u001b[39m), \u001b[32m\"y\"\u001b[39m -> \u001b[33mNumVal\u001b[39m(\u001b[32m20\u001b[39m))\r\n",
       "\u001b[36menv2\u001b[39m: \u001b[32mEnvironment\u001b[39m = \u001b[33mMap\u001b[39m(\u001b[32m\"x\"\u001b[39m -> \u001b[33mNumVal\u001b[39m(\u001b[32m5\u001b[39m), \u001b[32m\"y\"\u001b[39m -> \u001b[33mNumVal\u001b[39m(\u001b[32m4\u001b[39m))"
      ]
     },
     "execution_count": 43,
     "metadata": {},
     "output_type": "execute_result"
    }
   ],
   "source": [
    "val e1 : CExpr = ITE( Geq(Ident(\"x\"), Ident(\"y\")), Ident(\"x\"), Ident(\"y\"))\n",
    "val env1 : Environment = Map( \"x\" -> NumVal(10), \"y\" -> NumVal(20))\n",
    "val env2 : Environment = Map( \"x\" -> NumVal(5), \"y\" -> NumVal(4))\n",
    "assert( evalC(e1, env1) == NumVal(20), \"test 19\")\n",
    "assert( evalC(e1, env2) == NumVal(5), \"test 20\")\n",
    "passed(4)"
   ]
  },
  {
   "cell_type": "code",
   "execution_count": 44,
   "metadata": {
    "deletable": false,
    "editable": false,
    "nbgrader": {
     "cell_type": "code",
     "checksum": "98b5213740c48ce0f51b4f50d2b18a0c",
     "grade": true,
     "grade_id": "cell-62fa522157d3d6af",
     "locked": true,
     "points": 8,
     "schema_version": 3,
     "solution": false,
     "task": false
    }
   },
   "outputs": [
    {
     "name": "stdout",
     "output_type": "stream",
     "text": [
      "\n",
      "*** Tests Passed (8 points) ***\n"
     ]
    },
    {
     "data": {
      "text/plain": [
       "\u001b[36me1\u001b[39m: \u001b[32mCExpr\u001b[39m = \u001b[33mMult\u001b[39m(\n",
       "  \u001b[33mIdent\u001b[39m(\u001b[32m\"y\"\u001b[39m),\n",
       "  \u001b[33mITE\u001b[39m(\n",
       "    \u001b[33mAnd\u001b[39m(\u001b[33mGeq\u001b[39m(\u001b[33mIdent\u001b[39m(\u001b[32m\"x\"\u001b[39m), \u001b[33mConst\u001b[39m(\u001b[32m1\u001b[39m)), \u001b[33mNeg\u001b[39m(\u001b[33mEq\u001b[39m(\u001b[33mIdent\u001b[39m(\u001b[32m\"x\"\u001b[39m), \u001b[33mConst\u001b[39m(\u001b[32m0\u001b[39m)))),\n",
       "    \u001b[33mMult\u001b[39m(\u001b[33mMinus\u001b[39m(\u001b[33mIdent\u001b[39m(\u001b[32m\"x\"\u001b[39m), \u001b[33mNeg\u001b[39m(\u001b[33mConst\u001b[39m(\u001b[32m-1\u001b[39m))), \u001b[33mConst\u001b[39m(\u001b[32m6\u001b[39m)),\n",
       "    \u001b[33mConst\u001b[39m(\u001b[32m1\u001b[39m)\n",
       "  )\n",
       ")\r\n",
       "\u001b[36menv1\u001b[39m: \u001b[32mEnvironment\u001b[39m = \u001b[33mMap\u001b[39m(\u001b[32m\"x\"\u001b[39m -> \u001b[33mNumVal\u001b[39m(\u001b[32m5\u001b[39m), \u001b[32m\"y\"\u001b[39m -> \u001b[33mNumVal\u001b[39m(\u001b[32m5\u001b[39m))"
      ]
     },
     "execution_count": 44,
     "metadata": {},
     "output_type": "execute_result"
    }
   ],
   "source": [
    "val e1 : CExpr =\n",
    "    Mult( Ident(\"y\"), \n",
    "        ITE( And( Geq(Ident(\"x\"), Const(1)), Neg( Eq(Ident(\"x\"), Const(0)))),\n",
    "             Mult( \n",
    "                Minus( Ident(\"x\"), Neg(Const(-1))), \n",
    "                Const(6)),\n",
    "             Const(1))\n",
    "        )\n",
    "val env1 : Environment = Map(\"x\" -> NumVal(5), \"y\" -> NumVal(5))\n",
    "assert( evalC(e1, env1) == NumVal(120), \"test 21\")\n",
    "passed(8)"
   ]
  }
 ],
 "metadata": {
  "kernelspec": {
   "display_name": "Scala",
   "language": "scala",
   "name": "scala"
  },
  "language_info": {
   "codemirror_mode": "text/x-scala",
   "file_extension": ".scala",
   "mimetype": "text/x-scala",
   "name": "scala",
   "nbconvert_exporter": "script",
   "version": "2.12.10"
  }
 },
 "nbformat": 4,
 "nbformat_minor": 2
}
